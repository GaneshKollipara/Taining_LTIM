{
 "cells": [
  {
   "cell_type": "code",
   "execution_count": 1,
   "id": "initial_id",
   "metadata": {
    "collapsed": true,
    "ExecuteTime": {
     "end_time": "2023-12-06T09:31:41.347430914Z",
     "start_time": "2023-12-06T09:31:34.271374403Z"
    }
   },
   "outputs": [
    {
     "name": "stdout",
     "output_type": "stream",
     "text": [
      "Collecting pyspark\r\n",
      "  Using cached pyspark-3.2.4-py2.py3-none-any.whl\r\n",
      "Collecting py4j==0.10.9.5\r\n",
      "  Using cached py4j-0.10.9.5-py2.py3-none-any.whl (199 kB)\r\n",
      "Installing collected packages: py4j, pyspark\r\n",
      "Successfully installed py4j-0.10.9.5 pyspark-3.2.4\r\n"
     ]
    }
   ],
   "source": [
    "!pip install pyspark"
   ]
  },
  {
   "cell_type": "code",
   "execution_count": 22,
   "outputs": [],
   "source": [
    "from pyspark.sql import SparkSession\n",
    "from pyspark.sql.functions import *"
   ],
   "metadata": {
    "collapsed": false,
    "ExecuteTime": {
     "end_time": "2023-12-06T10:09:04.287439639Z",
     "start_time": "2023-12-06T10:09:04.237790484Z"
    }
   },
   "id": "872af86e861bae0a"
  },
  {
   "cell_type": "code",
   "execution_count": 4,
   "outputs": [
    {
     "name": "stderr",
     "output_type": "stream",
     "text": [
      "/home/labuser/PycharmProjects/Spark/venv/lib/python3.6/site-packages/pyspark/context.py:238: FutureWarning: Python 3.6 support is deprecated in Spark 3.2.\n",
      "  FutureWarning\n"
     ]
    }
   ],
   "source": [
    "#creating spark session\n",
    "spark = SparkSession.builder.master('local').appName('New Spark').getOrCreate()"
   ],
   "metadata": {
    "collapsed": false,
    "ExecuteTime": {
     "end_time": "2023-12-06T09:34:51.963943901Z",
     "start_time": "2023-12-06T09:34:42.363603782Z"
    }
   },
   "id": "6186558ed7794443"
  },
  {
   "cell_type": "code",
   "execution_count": 20,
   "outputs": [
    {
     "name": "stdout",
     "output_type": "stream",
     "text": [
      "+---------+-----------+------------+\n",
      "|series_id|series_info|     network|\n",
      "+---------+-----------+------------+\n",
      "|      101|       null|     netflix|\n",
      "|      102|       null|amazon_prime|\n",
      "|      103|       null|     appletv|\n",
      "|      104|       null|     netflix|\n",
      "|      105|       null|         HBO|\n",
      "|      106|       null|         HBO|\n",
      "|      107|       null|amazon_prime|\n",
      "|      108|       null|     netflix|\n",
      "|      109|       null|         ted|\n",
      "|      110|       null|         sky|\n",
      "+---------+-----------+------------+\n"
     ]
    }
   ],
   "source": [
    "#loading the nework data\n",
    "net_df = spark.read.csv('/home/labuser/Downloads/networks.csv',header=True) \n",
    "net_df.show()"
   ],
   "metadata": {
    "collapsed": false,
    "ExecuteTime": {
     "end_time": "2023-12-06T10:03:22.320174290Z",
     "start_time": "2023-12-06T10:03:21.139994439Z"
    }
   },
   "id": "e9b1e06698842d79"
  },
  {
   "cell_type": "code",
   "execution_count": 17,
   "outputs": [
    {
     "name": "stdout",
     "output_type": "stream",
     "text": [
      "+---------+-------------+---------------+------+\n",
      "|series_id|  series_name|          genre|rating|\n",
      "+---------+-------------+---------------+------+\n",
      "|      101| rickandmorty|          scifi|   9.1|\n",
      "|      102|   invincible|       animated|   8.7|\n",
      "|      103|forallmankind|historicalscifi|   7.9|\n",
      "|      104|  blackmirror|  thrillerscifi|   8.0|\n",
      "|      105|    westworld|          scifi|   8.1|\n",
      "+---------+-------------+---------------+------+\n"
     ]
    }
   ],
   "source": [
    "ser_df = spark.read.csv('/home/labuser/Downloads/series.csv',header=True)\n",
    "ser_df.show()"
   ],
   "metadata": {
    "collapsed": false,
    "ExecuteTime": {
     "end_time": "2023-12-06T10:01:46.072330830Z",
     "start_time": "2023-12-06T10:01:45.358620265Z"
    }
   },
   "id": "68e090b7f3217c54"
  },
  {
   "cell_type": "code",
   "execution_count": 85,
   "outputs": [
    {
     "name": "stdout",
     "output_type": "stream",
     "text": [
      "+---------+-----------+------------+-------------+---------------+------+\n",
      "|series_id|series_info|     network|  series_name|          genre|rating|\n",
      "+---------+-----------+------------+-------------+---------------+------+\n",
      "|      101|       null|     netflix| rickandmorty|          scifi|   9.1|\n",
      "|      102|       null|amazon_prime|   invincible|       animated|   8.7|\n",
      "|      103|       null|     appletv|forallmankind|historicalscifi|   7.9|\n",
      "|      104|       null|     netflix|  blackmirror|  thrillerscifi|   8.0|\n",
      "|      105|       null|         HBO|    westworld|          scifi|   8.1|\n",
      "+---------+-----------+------------+-------------+---------------+------+\n"
     ]
    }
   ],
   "source": [
    "#Remove all the rows from 'network_csv' whose 'series_id' is not present\n",
    "df = net_df.join(ser_df,'series_id')\n",
    "df.show()\n"
   ],
   "metadata": {
    "collapsed": false,
    "ExecuteTime": {
     "end_time": "2023-12-06T11:13:24.665373975Z",
     "start_time": "2023-12-06T11:13:24.295698011Z"
    }
   },
   "id": "774d944d43d33975"
  },
  {
   "cell_type": "code",
   "execution_count": 119,
   "outputs": [
    {
     "name": "stdout",
     "output_type": "stream",
     "text": [
      "+---------+--------------------+------------+\n",
      "|series_id|         series_info|     network|\n",
      "+---------+--------------------+------------+\n",
      "|      101|  rickandmorty scifi|     netflix|\n",
      "|      102| invincible animated|amazon_prime|\n",
      "|      103|forallmankind his...|     appletv|\n",
      "|      104|blackmirror thril...|     netflix|\n",
      "|      105|     westworld scifi|         HBO|\n",
      "+---------+--------------------+------------+\n"
     ]
    }
   ],
   "source": [
    "#Serie_info column in networks empyty fill with by concating series_name,genere from series.csv\n",
    "\n",
    "df2 = ser_df.withColumn('full name',concat_ws(' ','series_name','genre'))\n",
    "comb = net_df.join(df2,'series_id')\n",
    "output = comb.select('series_id',coalesce('series_info','full name').alias('series_info'),'network').show()\n"
   ],
   "metadata": {
    "collapsed": false,
    "ExecuteTime": {
     "end_time": "2023-12-06T12:55:54.490436252Z",
     "start_time": "2023-12-06T12:55:54.132126071Z"
    }
   },
   "id": "4db76fd2304000f6"
  },
  {
   "cell_type": "code",
   "execution_count": 71,
   "outputs": [
    {
     "data": {
      "text/plain": "'101'"
     },
     "execution_count": 71,
     "metadata": {},
     "output_type": "execute_result"
    }
   ],
   "source": [
    "#find the series which has highest rating and return the series id output should be in string\n",
    "one  = ser_df.orderBy('rating',ascending=False)\n",
    "highest = one.select('series_id').first()[0]\n",
    "highest"
   ],
   "metadata": {
    "collapsed": false,
    "ExecuteTime": {
     "end_time": "2023-12-06T10:55:54.337953248Z",
     "start_time": "2023-12-06T10:55:54.197660415Z"
    }
   },
   "id": "ff9415750e96db9a"
  },
  {
   "cell_type": "code",
   "execution_count": 121,
   "outputs": [
    {
     "data": {
      "text/plain": "41"
     },
     "execution_count": 121,
     "metadata": {},
     "output_type": "execute_result"
    }
   ],
   "source": [
    "#find the sum of the rating from series dataframe and return the total sum int\n",
    "total = ser_df.agg(sum('rating').alias('TotalSum'))\n",
    "t_int = int(total.select('TotalSum').first()[0])\n",
    "t_int\n",
    "\n"
   ],
   "metadata": {
    "collapsed": false,
    "ExecuteTime": {
     "end_time": "2023-12-06T13:00:10.003580525Z",
     "start_time": "2023-12-06T13:00:09.716648610Z"
    }
   },
   "id": "aa1769c972cc2b44"
  },
  {
   "cell_type": "code",
   "execution_count": 80,
   "outputs": [
    {
     "data": {
      "text/plain": "41.8"
     },
     "execution_count": 80,
     "metadata": {},
     "output_type": "execute_result"
    }
   ],
   "source": [
    "total2 =  ser_df.agg(sum('rating').alias(\"Total_sum\")) \n",
    "t_float = float(total2.select('Total_sum').first()[0])\n",
    "t_float\n"
   ],
   "metadata": {
    "collapsed": false,
    "ExecuteTime": {
     "end_time": "2023-12-06T11:03:54.619917169Z",
     "start_time": "2023-12-06T11:03:54.417960963Z"
    }
   },
   "id": "e163b62f197a78b0"
  },
  {
   "cell_type": "code",
   "execution_count": 88,
   "outputs": [
    {
     "name": "stdout",
     "output_type": "stream",
     "text": [
      "+---------+--------+----------+-----------+----------+------------+\n",
      "|articleId|artistId|      date|    content|totalSales|totalReviews|\n",
      "+---------+--------+----------+-----------+----------+------------+\n",
      "|      501|     100|2023-01-02| Painting 1|       100|          50|\n",
      "|      502|     200|2023-01-05| Painting 2|       130|         100|\n",
      "|      503|     300|2023-01-08| Painting 3|       120|          40|\n",
      "|      504|     100|2023-01-15| Painting 4|       140|          50|\n",
      "|      505|     200|2023-01-18| Painting 5|       120|          90|\n",
      "|      506|     300|2023-01-20| Painting 6|       110|          30|\n",
      "|      507|     100|2023-02-01| Painting 7|       115|          70|\n",
      "|      508|     200|2023-02-03| Painting 8|       125|          60|\n",
      "|      509|     300|2023-02-10| Painting 9|       135|          80|\n",
      "+---------+--------+----------+-----------+----------+------------+\n"
     ]
    }
   ],
   "source": [
    "#new df\n",
    "from pyspark.sql.types import *\n",
    "Schema = StructType\n",
    "art_df = spark.read.csv('/home/labuser/Downloads/art.csv',header=True)\n",
    "art_df.show()"
   ],
   "metadata": {
    "collapsed": false,
    "ExecuteTime": {
     "end_time": "2023-12-06T11:18:07.030854367Z",
     "start_time": "2023-12-06T11:18:06.575555251Z"
    }
   },
   "id": "875f8e0de88d9121"
  },
  {
   "cell_type": "code",
   "execution_count": 91,
   "outputs": [
    {
     "name": "stdout",
     "output_type": "stream",
     "text": [
      "+---------+--------+----------+-----------+----------+------------+\n",
      "|articleId|artistId|      date|    content|totalSales|totalReviews|\n",
      "+---------+--------+----------+-----------+----------+------------+\n",
      "|      501|     100|2023-01-02| Painting 1|       100|          50|\n",
      "|      502|     200|2023-01-05| Painting 2|       130|         100|\n",
      "|      503|     300|2023-01-08| Painting 3|       120|          40|\n",
      "|      504|     100|2023-01-15| Painting 4|       140|          50|\n",
      "|      505|     200|2023-01-18| Painting 5|       120|          90|\n",
      "|      506|     300|2023-01-20| Painting 6|       110|          30|\n",
      "|      507|     100|2023-02-01| Painting 7|       115|          70|\n",
      "|      508|     200|2023-02-03| Painting 8|       125|          60|\n",
      "|      509|     300|2023-02-10| Painting 9|       135|          80|\n",
      "+---------+--------+----------+-----------+----------+------------+\n"
     ]
    }
   ],
   "source": [
    "#filter the articles by dataframe to only include the art pieces that were create between start_date and end_date\n",
    "\n",
    "start_date = '2023-01-02'\n",
    "end_date = '2023-02-10'\n",
    "\n",
    "range_between = art_df.filter(art_df['date'].between(start_date,end_date)).show()"
   ],
   "metadata": {
    "collapsed": false,
    "ExecuteTime": {
     "end_time": "2023-12-06T11:52:19.798420899Z",
     "start_time": "2023-12-06T11:52:19.554619412Z"
    }
   },
   "id": "5c690fdbcd601cf5"
  },
  {
   "cell_type": "code",
   "execution_count": 123,
   "outputs": [
    {
     "data": {
      "text/plain": "['300', '200', '100']"
     },
     "execution_count": 123,
     "metadata": {},
     "output_type": "execute_result"
    }
   ],
   "source": [
    "#top n results of sales sum return in list\n",
    "\n",
    "total = art_df.groupBy('artistId').agg(sum('totalSales').alias('totalSales'))\n",
    "t2 = total.orderBy('artistId',ascending=False).limit(3)\n",
    "t2_list = t2.select('artistId').rdd.map(lambda x : x[0])\n",
    "t2_list.collect()"
   ],
   "metadata": {
    "collapsed": false,
    "ExecuteTime": {
     "end_time": "2023-12-06T13:07:09.078547603Z",
     "start_time": "2023-12-06T13:07:08.577506145Z"
    }
   },
   "id": "466216a693945a8d"
  },
  {
   "cell_type": "code",
   "execution_count": 118,
   "outputs": [
    {
     "data": {
      "text/plain": "83.33333333333333"
     },
     "execution_count": 118,
     "metadata": {},
     "output_type": "execute_result"
    }
   ],
   "source": [
    "#average review as per the artist Return the total in float\n",
    "\n",
    "avg_art = art_df.groupBy('artistId').agg(avg('totalReviews'))\n",
    "avg_float = avg_art.select('avg(totalReviews)').first()[0]\n",
    "avg_float"
   ],
   "metadata": {
    "collapsed": false,
    "ExecuteTime": {
     "end_time": "2023-12-06T12:40:23.232452500Z",
     "start_time": "2023-12-06T12:40:22.943050633Z"
    }
   },
   "id": "767a7d3e3de98394"
  }
 ],
 "metadata": {
  "kernelspec": {
   "display_name": "Python 3",
   "language": "python",
   "name": "python3"
  },
  "language_info": {
   "codemirror_mode": {
    "name": "ipython",
    "version": 2
   },
   "file_extension": ".py",
   "mimetype": "text/x-python",
   "name": "python",
   "nbconvert_exporter": "python",
   "pygments_lexer": "ipython2",
   "version": "2.7.6"
  }
 },
 "nbformat": 4,
 "nbformat_minor": 5
}
