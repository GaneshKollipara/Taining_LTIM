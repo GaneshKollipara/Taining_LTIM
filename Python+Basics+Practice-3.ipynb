{
 "cells": [
  {
   "cell_type": "markdown",
   "metadata": {},
   "source": [
    "# INTRODUCTION TO PYTHON FINAL EXAM"
   ]
  },
  {
   "cell_type": "markdown",
   "metadata": {},
   "source": [
    "# SECTION A: 20 MARKS"
   ]
  },
  {
   "cell_type": "markdown",
   "metadata": {},
   "source": [
    " _________________"
   ]
  },
  {
   "cell_type": "markdown",
   "metadata": {},
   "source": [
    "#### 1. Ram built his own house and was confused about what name he should keep for it. He asked his friend Shyam to help. Shyam suggested a lot of names. Ram has certain conditions for the name:  (5 marks)                                                                                                                      \n",
    "•\tIt should consist of exactly three distinct characters, say C1, C2 and C3\n",
    "•\tIt should satisfy the criteria that the string was of the form - C1n C2n C3n: This means, first C1 occurs n times, then C2 occurs n times and then C3 occurs n times. For example, xyz, ccaarr, mmmiiiaaa satisfy the criteria, but xyzw, aabbbcccc don't.\n",
    "Given N names suggested by Shyam, print \"OK\" if Ram likes the name and \"Not OK\" if he doesn't.\n",
    "\n",
    "•\tInput:\n",
    "First-line contains a single positive integer N - the number of names.\n",
    "N lines follow - each line contains a name.\n",
    "o\t\n",
    "Output:\n",
    "For each name, Print \"OK\" if the name satisfies the criteria, else print \"Not OK\", on a new line.\n",
    "Constraints:\n",
    "1 ≤ N ≤ 100 1 ≤ Length of names ≤ 500\n",
    "Names contain only lowercase English alphabets\n",
    "\n",
    "SAMPLE INPUT\n",
    "2\n",
    "\n",
    "bbbrrriii\n",
    "\n",
    "brian\n",
    "\n",
    "SAMPLE OUTPUT\n",
    "\n",
    "OK\n",
    "\n",
    "Not OK\n"
   ]
  },
  {
   "cell_type": "code",
   "execution_count": null,
   "metadata": {},
   "outputs": [],
   "source": []
  },
  {
   "cell_type": "markdown",
   "metadata": {
    "colab_type": "text",
    "id": "A0Aonn8t4Wmj"
   },
   "source": [
    "#### 2. You are  working with NASA and suddenly you got an opportunity to travel to the moon. You have to stay there for 15 years.\n",
    " \n",
    " Exercise1: You have to calculate your weight in kilograms on the moon in a period of 15 years,(3 marks)\n",
    " \n",
    " Step1: Measure your Weight on the Moon and also create a variable to store it. Assume your starting weight:30\n",
    " \n",
    "● For each year, you can calculate the new weight by adding a kilogram, and then multiplying by 6.5 percent (0.65) to get the weight on the moon:\n",
    " \n",
    " Exercise2: Create basic Moon Weight Function: The function should take two parameters: current weight:30 and increased weight:0.5 (the amount the weight will increase each year)   (2 marks)\n",
    " \n",
    " Note: moon_weight = weight * 0.65\n",
    " "
   ]
  },
  {
   "cell_type": "code",
   "execution_count": null,
   "metadata": {},
   "outputs": [],
   "source": []
  },
  {
   "cell_type": "markdown",
   "metadata": {
    "colab_type": "text",
    "id": "6dWb6mQY4WnA"
   },
   "source": [
    "#### 3. A famous hotel is maintaining its order history in the dictionary in the given format. Find out which food item is ordered the most (5 Marks)\n",
    "\n",
    " order_id: [list of items ordered]\n",
    " \n",
    " order_history= {165:['Noodles','Tomato Soup','Fries'],168:['Rice Idli','Rawa Dosa','Fries'],190:['Fries','Noodles']}"
   ]
  },
  {
   "cell_type": "code",
   "execution_count": null,
   "metadata": {},
   "outputs": [],
   "source": []
  },
  {
   "cell_type": "markdown",
   "metadata": {
    "colab_type": "raw",
    "id": "8DxhYECS4WnJ"
   },
   "source": [
    "#### 4. Write a Python program to make a currency converter. The currency converter should be able to convert a specific currency to an appropriate INR (Indian National Rupee) value. (5 MARKS)\n",
    " 1. USD (U.S Dollars) (1 USD =71.83 INR)\n",
    " 2. YEN (Japanese YEN)  (1 YEN= 0.66 INR\n",
    " 3. EURO (1 EURO=79.57 INR) \n",
    " 4. U.K. POUND (1 U.K POUND=93.11 INR)\n",
    "  \n",
    " INPUT AND OUTPUT SAMPLE:\n",
    " \n",
    " Enter the currency which you want to convert. e.g. USD\n",
    " \n",
    " Enter the value of the currency which you want to convert. e.g. 100\n",
    " \n",
    " The total converted value is 7183.0"
   ]
  },
  {
   "cell_type": "code",
   "execution_count": null,
   "metadata": {},
   "outputs": [],
   "source": []
  },
  {
   "cell_type": "markdown",
   "metadata": {},
   "source": [
    "# SECTION B: 20 MARKS"
   ]
  },
  {
   "cell_type": "markdown",
   "metadata": {},
   "source": [
    "---------------------"
   ]
  },
  {
   "cell_type": "markdown",
   "metadata": {},
   "source": [
    "#### 5. A Basket of Halloween candy has an unknown amount of candy and you need to guess exactly how much candy is in the bowl. You ask the person in charge a few questions to make a correct guess. If the candy is divided evenly among 5 people, how many pieces would be leftover? The answer is 2 pieces. You then ask about dividing the candy evenly among 6 people, and the amount left over is 3 pieces. Finally, you ask about dividing the candy evenly among 7 people, and the amount left over is 2 pieces. By looking at the bowl, you can tell that there are less than 200 pieces. Write a program to determine how many pieces are in the bowl.             (10 Marks)\n",
    "    \t\n",
    "   1. SAMPLE INPUT:\n",
    "If the candy is divided evenly among 5 people, how many pieces would be leftover?\n",
    "2\n",
    "\n",
    "If the candy is divided evenly among 6 people, how many pieces would be leftover?\n",
    "3\n",
    "\n",
    "If the candy is divided evenly among 7 people, how many pieces would be leftover?\n",
    "2\n",
    "\n",
    "  1. SAMPLE OUTPUT:\n",
    "Number of candies in the jar: 177\n",
    "\n",
    "\n",
    "  2. SAMPLE INPUT :\n",
    "If the candy is divided evenly among 5 people, how many pieces would be leftover?\n",
    "2\n",
    "\n",
    "If the candy is divided evenly among 6 people, how many pieces would be leftover?\n",
    "4\n",
    "\n",
    "If the candy is divided evenly among 7 people, how many pieces would be leftover?\n",
    "2\n",
    "\n",
    "  2. SAMPLE OUTPUT :\n",
    "Number of candies in the jar: 142\n"
   ]
  },
  {
   "cell_type": "code",
   "execution_count": null,
   "metadata": {},
   "outputs": [],
   "source": []
  },
  {
   "cell_type": "markdown",
   "metadata": {},
   "source": [
    "#### 6.generated multiplication questions to do. After each, the program should tell them whether they got it right or wrong and what the correct answer is and finally it should display the total score out of 10 scored by a user.(10 marks)                                     For Example: \n",
    " Question 1: 3 x 4 = 12 Right! \n",
    " \n",
    " Question 2: 8 x 6 = 44 Wrong. The answer is 48. \n",
    " \n",
    " ... \n",
    " \n",
    " Question 10: 7 x 7 = 49 \n",
    " \n",
    " Right.\n"
   ]
  },
  {
   "cell_type": "code",
   "execution_count": null,
   "metadata": {},
   "outputs": [],
   "source": []
  },
  {
   "cell_type": "markdown",
   "metadata": {},
   "source": [
    "# SECTION C: 30 MARKS"
   ]
  },
  {
   "cell_type": "markdown",
   "metadata": {},
   "source": [
    " _________________"
   ]
  },
  {
   "cell_type": "markdown",
   "metadata": {},
   "source": [
    "### 7. Write a Python Program to create the following series and then print the nth Prime number from the Series,0, 1, 1, 2, 3, 5, 8, 13, 21, 34, 55, 89... (15 Marks)\n",
    "\n",
    "\n",
    "INPUT:8\n",
    "\n",
    "OUTPUT:28657\n"
   ]
  },
  {
   "cell_type": "code",
   "execution_count": null,
   "metadata": {},
   "outputs": [],
   "source": []
  },
  {
   "cell_type": "markdown",
   "metadata": {},
   "source": [
    "### 8. Write a program that converts Roman numerals into ordinary numbers. Here are the conversions: M=1000, D=500, C=100, L=50, X=10, V=5 I=1. Don’t forget about things like IV being 4 and XL being 40.(15 marks)\n",
    " \n",
    "\n",
    "Integer numbers and their Roman equivalent:\n",
    "\n",
    "1000 : 'M'\n",
    "\n",
    "900 : 'CM'\n",
    "\n",
    "500 : 'D'\n",
    "\n",
    "400 : 'CD'\n",
    "\n",
    "100 : 'C'\n",
    "\n",
    "90 : 'XC'\n",
    "\n",
    "50 : 'L'\n",
    "\n",
    "40 : 'XL'\n",
    "\n",
    "10 : 'X'\n",
    "\n",
    "9 : 'IX'\n",
    "\n",
    "5 : 'V'\n",
    "\n",
    "4: 'IV'\n",
    "\n",
    "1: 'I'\n",
    "\n",
    "SAMPLE INPUT:\n",
    "\n",
    "Enter number to Convert: 417\n",
    "\n",
    "SAMPLE OUTPUT:\n",
    "\n",
    "CDXVII\n",
    "\n"
   ]
  },
  {
   "cell_type": "code",
   "execution_count": null,
   "metadata": {},
   "outputs": [],
   "source": []
  }
 ],
 "metadata": {
  "colab": {
   "collapsed_sections": [],
   "name": "ITP_MID_1.ipynb",
   "provenance": []
  },
  "kernelspec": {
   "display_name": "Python 3",
   "language": "python",
   "name": "python3"
  },
  "language_info": {
   "codemirror_mode": {
    "name": "ipython",
    "version": 3
   },
   "file_extension": ".py",
   "mimetype": "text/x-python",
   "name": "python",
   "nbconvert_exporter": "python",
   "pygments_lexer": "ipython3",
   "version": "3.7.4"
  }
 },
 "nbformat": 4,
 "nbformat_minor": 1
}
