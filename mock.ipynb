{
 "cells": [
  {
   "cell_type": "code",
   "execution_count": 1,
   "id": "initial_id",
   "metadata": {
    "collapsed": true,
    "ExecuteTime": {
     "end_time": "2023-12-06T08:45:44.609997782Z",
     "start_time": "2023-12-06T08:45:44.333358848Z"
    }
   },
   "outputs": [],
   "source": [
    "from pyspark.sql import SparkSession"
   ]
  },
  {
   "cell_type": "code",
   "execution_count": 21,
   "outputs": [],
   "source": [
    "from pyspark.sql.functions import *"
   ],
   "metadata": {
    "collapsed": false,
    "ExecuteTime": {
     "end_time": "2023-12-06T09:22:01.401125337Z",
     "start_time": "2023-12-06T09:22:01.369433488Z"
    }
   },
   "id": "59775ebcdcfbc829"
  },
  {
   "cell_type": "code",
   "execution_count": 59,
   "outputs": [],
   "source": [
    "from pyspark.sql.types import *"
   ],
   "metadata": {
    "collapsed": false,
    "ExecuteTime": {
     "end_time": "2023-12-06T10:04:53.351948522Z",
     "start_time": "2023-12-06T10:04:53.333355439Z"
    }
   },
   "id": "af464006021a24bb"
  },
  {
   "cell_type": "code",
   "execution_count": 2,
   "outputs": [
    {
     "name": "stderr",
     "output_type": "stream",
     "text": [
      "/home/labuser/PycharmProjects/ganeshltim/venv/lib/python3.6/site-packages/pyspark/context.py:238: FutureWarning: Python 3.6 support is deprecated in Spark 3.2.\n",
      "  FutureWarning\n"
     ]
    }
   ],
   "source": [
    "spark=SparkSession.builder.master(\"local\").appName(\"mock\").getOrCreate()"
   ],
   "metadata": {
    "collapsed": false,
    "ExecuteTime": {
     "end_time": "2023-12-06T08:47:53.024932598Z",
     "start_time": "2023-12-06T08:47:41.992258884Z"
    }
   },
   "id": "6724202b47e7e21d"
  },
  {
   "cell_type": "code",
   "execution_count": 6,
   "outputs": [],
   "source": [
    "network=spark.read.csv(\"/home/labuser/Downloads/network.csv\",header=True)"
   ],
   "metadata": {
    "collapsed": false,
    "ExecuteTime": {
     "end_time": "2023-12-06T08:49:36.958291040Z",
     "start_time": "2023-12-06T08:49:36.304970257Z"
    }
   },
   "id": "a4a421af82adc011"
  },
  {
   "cell_type": "code",
   "execution_count": 8,
   "outputs": [
    {
     "name": "stdout",
     "output_type": "stream",
     "text": [
      "+---------+-----------+------------+\n",
      "|series_id|series_info|     network|\n",
      "+---------+-----------+------------+\n",
      "|      101|       null|     netflix|\n",
      "|      102|       null|amazon_prime|\n",
      "|      103|       null|     appletv|\n",
      "|      104|       null|     netflix|\n",
      "|      105|       null|         HBO|\n",
      "|      106|       null|         HBO|\n",
      "|      107|       null|amazon_prime|\n",
      "|      108|       null|     netflix|\n",
      "|      109|       null|         ted|\n",
      "|      110|       null|         sky|\n",
      "+---------+-----------+------------+\n"
     ]
    }
   ],
   "source": [
    "network.show()"
   ],
   "metadata": {
    "collapsed": false,
    "ExecuteTime": {
     "end_time": "2023-12-06T08:50:25.890770621Z",
     "start_time": "2023-12-06T08:50:25.174961194Z"
    }
   },
   "id": "a743dd0d16fe7ba0"
  },
  {
   "cell_type": "code",
   "execution_count": 9,
   "outputs": [],
   "source": [
    "series=spark.read.csv(\"/home/labuser/Downloads/series.csv\",header=True)"
   ],
   "metadata": {
    "collapsed": false,
    "ExecuteTime": {
     "end_time": "2023-12-06T08:51:01.542405297Z",
     "start_time": "2023-12-06T08:51:00.893765468Z"
    }
   },
   "id": "707c65096141772f"
  },
  {
   "cell_type": "code",
   "execution_count": 10,
   "outputs": [
    {
     "name": "stdout",
     "output_type": "stream",
     "text": [
      "+---------+-------------+---------------+------+\n",
      "|series_id|  series_name|          genre|rating|\n",
      "+---------+-------------+---------------+------+\n",
      "|      101| rickandmorty|          scifi|   9.1|\n",
      "|      102|   invincible|       animated|   8.7|\n",
      "|      103|forallmankind|historicalscifi|   7.9|\n",
      "|      104|  blackmirror|  thrillerscifi|   8.0|\n",
      "|      105|    westworld|          scifi|   8.1|\n",
      "+---------+-------------+---------------+------+\n"
     ]
    }
   ],
   "source": [
    "series.show()"
   ],
   "metadata": {
    "collapsed": false,
    "ExecuteTime": {
     "end_time": "2023-12-06T08:51:07.607537887Z",
     "start_time": "2023-12-06T08:51:07.059999846Z"
    }
   },
   "id": "1e507ef5a31a6acb"
  },
  {
   "cell_type": "code",
   "execution_count": 62,
   "outputs": [],
   "source": [
    "con=series.withColumn(\"combine\",concat_ws(\" \",series.series_name,series.genre))"
   ],
   "metadata": {
    "collapsed": false,
    "ExecuteTime": {
     "end_time": "2023-12-06T10:08:14.509365486Z",
     "start_time": "2023-12-06T10:08:14.454433960Z"
    }
   },
   "id": "a3fd3bd94babbf2"
  },
  {
   "cell_type": "code",
   "execution_count": 63,
   "outputs": [
    {
     "name": "stdout",
     "output_type": "stream",
     "text": [
      "+---------+-------------+---------------+------+--------------------+\n",
      "|series_id|  series_name|          genre|rating|             combine|\n",
      "+---------+-------------+---------------+------+--------------------+\n",
      "|      101| rickandmorty|          scifi|   9.1|  rickandmorty scifi|\n",
      "|      102|   invincible|       animated|   8.7| invincible animated|\n",
      "|      103|forallmankind|historicalscifi|   7.9|forallmankind his...|\n",
      "|      104|  blackmirror|  thrillerscifi|   8.0|blackmirror thril...|\n",
      "|      105|    westworld|          scifi|   8.1|     westworld scifi|\n",
      "+---------+-------------+---------------+------+--------------------+\n"
     ]
    }
   ],
   "source": [
    "con.show()"
   ],
   "metadata": {
    "collapsed": false,
    "ExecuteTime": {
     "end_time": "2023-12-06T10:08:22.060954383Z",
     "start_time": "2023-12-06T10:08:21.870050206Z"
    }
   },
   "id": "2ff90b2c539104a5"
  },
  {
   "cell_type": "code",
   "execution_count": 64,
   "outputs": [],
   "source": [
    "ser1=con.select(\"series_id\",'combine','rating')"
   ],
   "metadata": {
    "collapsed": false,
    "ExecuteTime": {
     "end_time": "2023-12-06T10:09:08.962629897Z",
     "start_time": "2023-12-06T10:09:08.906686451Z"
    }
   },
   "id": "e07ac8b6fb8b7833"
  },
  {
   "cell_type": "code",
   "execution_count": 65,
   "outputs": [
    {
     "name": "stdout",
     "output_type": "stream",
     "text": [
      "+---------+--------------------+------+\n",
      "|series_id|             combine|rating|\n",
      "+---------+--------------------+------+\n",
      "|      101|  rickandmorty scifi|   9.1|\n",
      "|      102| invincible animated|   8.7|\n",
      "|      103|forallmankind his...|   7.9|\n",
      "|      104|blackmirror thril...|   8.0|\n",
      "|      105|     westworld scifi|   8.1|\n",
      "+---------+--------------------+------+\n"
     ]
    }
   ],
   "source": [
    "ser1.show()"
   ],
   "metadata": {
    "collapsed": false,
    "ExecuteTime": {
     "end_time": "2023-12-06T10:09:23.197861481Z",
     "start_time": "2023-12-06T10:09:23.051320725Z"
    }
   },
   "id": "277b9ca73ba19e77"
  },
  {
   "cell_type": "code",
   "execution_count": 66,
   "outputs": [],
   "source": [
    "fil=network.join(ser1,on='series_id',how='inner')"
   ],
   "metadata": {
    "collapsed": false,
    "ExecuteTime": {
     "end_time": "2023-12-06T10:09:34.269838755Z",
     "start_time": "2023-12-06T10:09:34.218032244Z"
    }
   },
   "id": "236c7bfca50ec7ef"
  },
  {
   "cell_type": "code",
   "execution_count": 67,
   "outputs": [
    {
     "name": "stdout",
     "output_type": "stream",
     "text": [
      "+---------+-----------+------------+--------------------+------+\n",
      "|series_id|series_info|     network|             combine|rating|\n",
      "+---------+-----------+------------+--------------------+------+\n",
      "|      101|       null|     netflix|  rickandmorty scifi|   9.1|\n",
      "|      102|       null|amazon_prime| invincible animated|   8.7|\n",
      "|      103|       null|     appletv|forallmankind his...|   7.9|\n",
      "|      104|       null|     netflix|blackmirror thril...|   8.0|\n",
      "|      105|       null|         HBO|     westworld scifi|   8.1|\n",
      "+---------+-----------+------------+--------------------+------+\n"
     ]
    }
   ],
   "source": [
    "fil.show()"
   ],
   "metadata": {
    "collapsed": false,
    "ExecuteTime": {
     "end_time": "2023-12-06T10:09:37.412415018Z",
     "start_time": "2023-12-06T10:09:36.706447498Z"
    }
   },
   "id": "9c7cb32c4f7a8a74"
  },
  {
   "cell_type": "code",
   "execution_count": 69,
   "outputs": [],
   "source": [
    "new=fil.withColumn('series_info',coalesce(fil.series_info,fil.combine))"
   ],
   "metadata": {
    "collapsed": false,
    "ExecuteTime": {
     "end_time": "2023-12-06T10:10:09.455200460Z",
     "start_time": "2023-12-06T10:10:09.368142069Z"
    }
   },
   "id": "799649c16aa69851"
  },
  {
   "cell_type": "code",
   "execution_count": 70,
   "outputs": [
    {
     "name": "stdout",
     "output_type": "stream",
     "text": [
      "+---------+--------------------+------------+--------------------+------+\n",
      "|series_id|         series_info|     network|             combine|rating|\n",
      "+---------+--------------------+------------+--------------------+------+\n",
      "|      101|  rickandmorty scifi|     netflix|  rickandmorty scifi|   9.1|\n",
      "|      102| invincible animated|amazon_prime| invincible animated|   8.7|\n",
      "|      103|forallmankind his...|     appletv|forallmankind his...|   7.9|\n",
      "|      104|blackmirror thril...|     netflix|blackmirror thril...|   8.0|\n",
      "|      105|     westworld scifi|         HBO|     westworld scifi|   8.1|\n",
      "+---------+--------------------+------------+--------------------+------+\n"
     ]
    }
   ],
   "source": [
    "new.show()"
   ],
   "metadata": {
    "collapsed": false,
    "ExecuteTime": {
     "end_time": "2023-12-06T10:10:10.799342245Z",
     "start_time": "2023-12-06T10:10:10.288901560Z"
    }
   },
   "id": "cbf8ad06bd570fc8"
  },
  {
   "cell_type": "code",
   "execution_count": 85,
   "outputs": [],
   "source": [
    "new1=new.select(\"series_id\",\"series_info\",\"network\",\"rating\")"
   ],
   "metadata": {
    "collapsed": false,
    "ExecuteTime": {
     "end_time": "2023-12-06T10:28:18.208615167Z",
     "start_time": "2023-12-06T10:28:18.129764071Z"
    }
   },
   "id": "31d57613a71a229d"
  },
  {
   "cell_type": "code",
   "execution_count": 88,
   "outputs": [],
   "source": [
    "high=new1.orderBy(\"rating\",ascending=False)"
   ],
   "metadata": {
    "collapsed": false,
    "ExecuteTime": {
     "end_time": "2023-12-06T10:28:31.288095494Z",
     "start_time": "2023-12-06T10:28:31.242960382Z"
    }
   },
   "id": "c79234fa97714023"
  },
  {
   "cell_type": "code",
   "execution_count": 89,
   "outputs": [
    {
     "name": "stdout",
     "output_type": "stream",
     "text": [
      "+---------+--------------------+------------+------+\n",
      "|series_id|         series_info|     network|rating|\n",
      "+---------+--------------------+------------+------+\n",
      "|      101|  rickandmorty scifi|     netflix|   9.1|\n",
      "|      102| invincible animated|amazon_prime|   8.7|\n",
      "|      105|     westworld scifi|         HBO|   8.1|\n",
      "|      104|blackmirror thril...|     netflix|   8.0|\n",
      "|      103|forallmankind his...|     appletv|   7.9|\n",
      "+---------+--------------------+------------+------+\n"
     ]
    }
   ],
   "source": [
    "high.show()"
   ],
   "metadata": {
    "collapsed": false,
    "ExecuteTime": {
     "end_time": "2023-12-06T10:28:32.848978169Z",
     "start_time": "2023-12-06T10:28:32.021849494Z"
    }
   },
   "id": "49eea273d5dc0a06"
  },
  {
   "cell_type": "code",
   "execution_count": 90,
   "outputs": [
    {
     "data": {
      "text/plain": "'9.1'"
     },
     "execution_count": 90,
     "metadata": {},
     "output_type": "execute_result"
    }
   ],
   "source": [
    "high.select(\"rating\").first()[0]"
   ],
   "metadata": {
    "collapsed": false,
    "ExecuteTime": {
     "end_time": "2023-12-06T10:28:34.712904139Z",
     "start_time": "2023-12-06T10:28:34.345818239Z"
    }
   },
   "id": "bf7ddd7fcf961d2f"
  },
  {
   "cell_type": "code",
   "execution_count": 91,
   "outputs": [],
   "source": [
    "s=series.select(sum(\"rating\")).collect()[0][0]"
   ],
   "metadata": {
    "collapsed": false,
    "ExecuteTime": {
     "end_time": "2023-12-06T10:28:35.997260832Z",
     "start_time": "2023-12-06T10:28:35.821251056Z"
    }
   },
   "id": "ffe49eff49873f77"
  },
  {
   "cell_type": "code",
   "execution_count": 92,
   "outputs": [],
   "source": [
    "s1=int(s)"
   ],
   "metadata": {
    "collapsed": false,
    "ExecuteTime": {
     "end_time": "2023-12-06T10:28:36.682213657Z",
     "start_time": "2023-12-06T10:28:36.644271392Z"
    }
   },
   "id": "4f5f7fe2aa3b6185"
  },
  {
   "cell_type": "code",
   "execution_count": 93,
   "outputs": [
    {
     "data": {
      "text/plain": "41"
     },
     "execution_count": 93,
     "metadata": {},
     "output_type": "execute_result"
    }
   ],
   "source": [
    "s1"
   ],
   "metadata": {
    "collapsed": false,
    "ExecuteTime": {
     "end_time": "2023-12-06T10:28:37.845359651Z",
     "start_time": "2023-12-06T10:28:37.783579898Z"
    }
   },
   "id": "3aed725575706337"
  },
  {
   "cell_type": "code",
   "execution_count": 94,
   "outputs": [],
   "source": [
    "s1=float(s)"
   ],
   "metadata": {
    "collapsed": false,
    "ExecuteTime": {
     "end_time": "2023-12-06T10:28:38.375529494Z",
     "start_time": "2023-12-06T10:28:38.331280864Z"
    }
   },
   "id": "eaa1f611d08a4ff9"
  },
  {
   "cell_type": "code",
   "execution_count": 95,
   "outputs": [
    {
     "data": {
      "text/plain": "41.8"
     },
     "execution_count": 95,
     "metadata": {},
     "output_type": "execute_result"
    }
   ],
   "source": [
    "s1"
   ],
   "metadata": {
    "collapsed": false,
    "ExecuteTime": {
     "end_time": "2023-12-06T10:28:39.120235720Z",
     "start_time": "2023-12-06T10:28:39.063165951Z"
    }
   },
   "id": "dbcd84593cf051ef"
  },
  {
   "cell_type": "code",
   "execution_count": null,
   "outputs": [],
   "source": [],
   "metadata": {
    "collapsed": false
   },
   "id": "5b23b5097bc3c24"
  }
 ],
 "metadata": {
  "kernelspec": {
   "display_name": "Python 3",
   "language": "python",
   "name": "python3"
  },
  "language_info": {
   "codemirror_mode": {
    "name": "ipython",
    "version": 2
   },
   "file_extension": ".py",
   "mimetype": "text/x-python",
   "name": "python",
   "nbconvert_exporter": "python",
   "pygments_lexer": "ipython2",
   "version": "2.7.6"
  }
 },
 "nbformat": 4,
 "nbformat_minor": 5
}
