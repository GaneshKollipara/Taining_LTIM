{
 "cells": [
  {
   "cell_type": "code",
   "execution_count": 124,
   "id": "initial_id",
   "metadata": {
    "collapsed": true,
    "ExecuteTime": {
     "end_time": "2023-12-06T10:54:10.331226503Z",
     "start_time": "2023-12-06T10:54:09.892655650Z"
    }
   },
   "outputs": [],
   "source": [
    "from pyspark.sql import SparkSession"
   ]
  },
  {
   "cell_type": "code",
   "execution_count": 125,
   "outputs": [],
   "source": [
    "from pyspark.sql.functions import *"
   ],
   "metadata": {
    "collapsed": false,
    "ExecuteTime": {
     "end_time": "2023-12-06T10:54:10.332318111Z",
     "start_time": "2023-12-06T10:54:09.932183471Z"
    }
   },
   "id": "59775ebcdcfbc829"
  },
  {
   "cell_type": "code",
   "execution_count": 126,
   "outputs": [],
   "source": [
    "from pyspark.sql.types import *"
   ],
   "metadata": {
    "collapsed": false,
    "ExecuteTime": {
     "end_time": "2023-12-06T10:54:10.332720627Z",
     "start_time": "2023-12-06T10:54:09.941084135Z"
    }
   },
   "id": "af464006021a24bb"
  },
  {
   "cell_type": "code",
   "execution_count": 127,
   "outputs": [],
   "source": [
    "spark=SparkSession.builder.master(\"local\").appName(\"mock\").getOrCreate()"
   ],
   "metadata": {
    "collapsed": false,
    "ExecuteTime": {
     "end_time": "2023-12-06T10:54:10.332992770Z",
     "start_time": "2023-12-06T10:54:09.951530563Z"
    }
   },
   "id": "6724202b47e7e21d"
  },
  {
   "cell_type": "code",
   "execution_count": 128,
   "outputs": [],
   "source": [
    "network=spark.read.csv(\"/home/labuser/Downloads/network.csv\",header=True)"
   ],
   "metadata": {
    "collapsed": false,
    "ExecuteTime": {
     "end_time": "2023-12-06T10:54:10.361153857Z",
     "start_time": "2023-12-06T10:54:09.960682304Z"
    }
   },
   "id": "a4a421af82adc011"
  },
  {
   "cell_type": "code",
   "execution_count": 129,
   "outputs": [
    {
     "name": "stdout",
     "output_type": "stream",
     "text": [
      "+---------+-----------+------------+\n",
      "|series_id|series_info|     network|\n",
      "+---------+-----------+------------+\n",
      "|      101|       null|     netflix|\n",
      "|      102|       null|amazon_prime|\n",
      "|      103|       null|     appletv|\n",
      "|      104|       null|     netflix|\n",
      "|      105|       null|         HBO|\n",
      "|      106|       null|         HBO|\n",
      "|      107|       null|amazon_prime|\n",
      "|      108|       null|     netflix|\n",
      "|      109|       null|         ted|\n",
      "|      110|       null|         sky|\n",
      "+---------+-----------+------------+\n"
     ]
    }
   ],
   "source": [
    "network.show()"
   ],
   "metadata": {
    "collapsed": false,
    "ExecuteTime": {
     "end_time": "2023-12-06T10:54:10.533539176Z",
     "start_time": "2023-12-06T10:54:10.348013360Z"
    }
   },
   "id": "a743dd0d16fe7ba0"
  },
  {
   "cell_type": "code",
   "execution_count": 130,
   "outputs": [],
   "source": [
    "series=spark.read.csv(\"/home/labuser/Downloads/series.csv\",header=True)"
   ],
   "metadata": {
    "collapsed": false,
    "ExecuteTime": {
     "end_time": "2023-12-06T10:54:10.886811569Z",
     "start_time": "2023-12-06T10:54:10.486567805Z"
    }
   },
   "id": "707c65096141772f"
  },
  {
   "cell_type": "code",
   "execution_count": 131,
   "outputs": [
    {
     "name": "stdout",
     "output_type": "stream",
     "text": [
      "+---------+-------------+---------------+------+\n",
      "|series_id|  series_name|          genre|rating|\n",
      "+---------+-------------+---------------+------+\n",
      "|      101| rickandmorty|          scifi|   9.1|\n",
      "|      102|   invincible|       animated|   8.7|\n",
      "|      103|forallmankind|historicalscifi|   7.9|\n",
      "|      104|  blackmirror|  thrillerscifi|   8.0|\n",
      "|      105|    westworld|          scifi|   8.1|\n",
      "+---------+-------------+---------------+------+\n"
     ]
    }
   ],
   "source": [
    "series.show()"
   ],
   "metadata": {
    "collapsed": false,
    "ExecuteTime": {
     "end_time": "2023-12-06T10:54:10.889275884Z",
     "start_time": "2023-12-06T10:54:10.709119515Z"
    }
   },
   "id": "1e507ef5a31a6acb"
  },
  {
   "cell_type": "code",
   "execution_count": 132,
   "outputs": [],
   "source": [
    "con=series.withColumn(\"combine\",concat_ws(\" \",series.series_name,series.genre))"
   ],
   "metadata": {
    "collapsed": false,
    "ExecuteTime": {
     "end_time": "2023-12-06T10:54:10.923935503Z",
     "start_time": "2023-12-06T10:54:10.835501279Z"
    }
   },
   "id": "a3fd3bd94babbf2"
  },
  {
   "cell_type": "code",
   "execution_count": 133,
   "outputs": [
    {
     "name": "stdout",
     "output_type": "stream",
     "text": [
      "+---------+-------------+---------------+------+--------------------+\n",
      "|series_id|  series_name|          genre|rating|             combine|\n",
      "+---------+-------------+---------------+------+--------------------+\n",
      "|      101| rickandmorty|          scifi|   9.1|  rickandmorty scifi|\n",
      "|      102|   invincible|       animated|   8.7| invincible animated|\n",
      "|      103|forallmankind|historicalscifi|   7.9|forallmankind his...|\n",
      "|      104|  blackmirror|  thrillerscifi|   8.0|blackmirror thril...|\n",
      "|      105|    westworld|          scifi|   8.1|     westworld scifi|\n",
      "+---------+-------------+---------------+------+--------------------+\n"
     ]
    }
   ],
   "source": [
    "con.show()"
   ],
   "metadata": {
    "collapsed": false,
    "ExecuteTime": {
     "end_time": "2023-12-06T10:54:11.127236402Z",
     "start_time": "2023-12-06T10:54:10.875707213Z"
    }
   },
   "id": "2ff90b2c539104a5"
  },
  {
   "cell_type": "code",
   "execution_count": 134,
   "outputs": [],
   "source": [
    "ser1=con.select(\"series_id\",'combine','rating')"
   ],
   "metadata": {
    "collapsed": false,
    "ExecuteTime": {
     "end_time": "2023-12-06T10:54:11.127927774Z",
     "start_time": "2023-12-06T10:54:11.037317557Z"
    }
   },
   "id": "e07ac8b6fb8b7833"
  },
  {
   "cell_type": "code",
   "execution_count": 135,
   "outputs": [
    {
     "name": "stdout",
     "output_type": "stream",
     "text": [
      "+---------+--------------------+------+\n",
      "|series_id|             combine|rating|\n",
      "+---------+--------------------+------+\n",
      "|      101|  rickandmorty scifi|   9.1|\n",
      "|      102| invincible animated|   8.7|\n",
      "|      103|forallmankind his...|   7.9|\n",
      "|      104|blackmirror thril...|   8.0|\n",
      "|      105|     westworld scifi|   8.1|\n",
      "+---------+--------------------+------+\n"
     ]
    }
   ],
   "source": [
    "ser1.show()"
   ],
   "metadata": {
    "collapsed": false,
    "ExecuteTime": {
     "end_time": "2023-12-06T10:54:11.362959781Z",
     "start_time": "2023-12-06T10:54:11.077639719Z"
    }
   },
   "id": "277b9ca73ba19e77"
  },
  {
   "cell_type": "code",
   "execution_count": 136,
   "outputs": [],
   "source": [
    "fil=network.join(ser1,on='series_id',how='inner')"
   ],
   "metadata": {
    "collapsed": false,
    "ExecuteTime": {
     "end_time": "2023-12-06T10:54:11.363763180Z",
     "start_time": "2023-12-06T10:54:11.157360797Z"
    }
   },
   "id": "236c7bfca50ec7ef"
  },
  {
   "cell_type": "code",
   "execution_count": 137,
   "outputs": [
    {
     "name": "stdout",
     "output_type": "stream",
     "text": [
      "+---------+-----------+------------+--------------------+------+\n",
      "|series_id|series_info|     network|             combine|rating|\n",
      "+---------+-----------+------------+--------------------+------+\n",
      "|      101|       null|     netflix|  rickandmorty scifi|   9.1|\n",
      "|      102|       null|amazon_prime| invincible animated|   8.7|\n",
      "|      103|       null|     appletv|forallmankind his...|   7.9|\n",
      "|      104|       null|     netflix|blackmirror thril...|   8.0|\n",
      "|      105|       null|         HBO|     westworld scifi|   8.1|\n",
      "+---------+-----------+------------+--------------------+------+\n"
     ]
    }
   ],
   "source": [
    "fil.show()"
   ],
   "metadata": {
    "collapsed": false,
    "ExecuteTime": {
     "end_time": "2023-12-06T10:54:11.713453016Z",
     "start_time": "2023-12-06T10:54:11.200910419Z"
    }
   },
   "id": "9c7cb32c4f7a8a74"
  },
  {
   "cell_type": "code",
   "execution_count": 138,
   "outputs": [],
   "source": [
    "new=fil.withColumn('series_info',coalesce(fil.series_info,fil.combine))"
   ],
   "metadata": {
    "collapsed": false,
    "ExecuteTime": {
     "end_time": "2023-12-06T10:54:11.756614569Z",
     "start_time": "2023-12-06T10:54:11.554045723Z"
    }
   },
   "id": "799649c16aa69851"
  },
  {
   "cell_type": "code",
   "execution_count": 139,
   "outputs": [
    {
     "name": "stdout",
     "output_type": "stream",
     "text": [
      "+---------+--------------------+------------+--------------------+------+\n",
      "|series_id|         series_info|     network|             combine|rating|\n",
      "+---------+--------------------+------------+--------------------+------+\n",
      "|      101|  rickandmorty scifi|     netflix|  rickandmorty scifi|   9.1|\n",
      "|      102| invincible animated|amazon_prime| invincible animated|   8.7|\n",
      "|      103|forallmankind his...|     appletv|forallmankind his...|   7.9|\n",
      "|      104|blackmirror thril...|     netflix|blackmirror thril...|   8.0|\n",
      "|      105|     westworld scifi|         HBO|     westworld scifi|   8.1|\n",
      "+---------+--------------------+------------+--------------------+------+\n"
     ]
    }
   ],
   "source": [
    "new.show()"
   ],
   "metadata": {
    "collapsed": false,
    "ExecuteTime": {
     "end_time": "2023-12-06T10:54:12.103610762Z",
     "start_time": "2023-12-06T10:54:11.649585271Z"
    }
   },
   "id": "cbf8ad06bd570fc8"
  },
  {
   "cell_type": "code",
   "execution_count": 140,
   "outputs": [],
   "source": [
    "new1=new.select(\"series_id\",\"series_info\",\"network\",\"rating\")"
   ],
   "metadata": {
    "collapsed": false,
    "ExecuteTime": {
     "end_time": "2023-12-06T10:54:12.192997591Z",
     "start_time": "2023-12-06T10:54:12.085862954Z"
    }
   },
   "id": "31d57613a71a229d"
  },
  {
   "cell_type": "code",
   "execution_count": 141,
   "outputs": [
    {
     "name": "stdout",
     "output_type": "stream",
     "text": [
      "+---------+--------------------+------------+------+\n",
      "|series_id|         series_info|     network|rating|\n",
      "+---------+--------------------+------------+------+\n",
      "|      101|  rickandmorty scifi|     netflix|   9.1|\n",
      "|      102| invincible animated|amazon_prime|   8.7|\n",
      "|      103|forallmankind his...|     appletv|   7.9|\n",
      "|      104|blackmirror thril...|     netflix|   8.0|\n",
      "|      105|     westworld scifi|         HBO|   8.1|\n",
      "+---------+--------------------+------------+------+\n"
     ]
    }
   ],
   "source": [
    "new1.show()"
   ],
   "metadata": {
    "collapsed": false,
    "ExecuteTime": {
     "end_time": "2023-12-06T10:54:12.512056852Z",
     "start_time": "2023-12-06T10:54:12.125194950Z"
    }
   },
   "id": "b6848e6ef42cbcc0"
  },
  {
   "cell_type": "code",
   "execution_count": 142,
   "outputs": [],
   "source": [
    "high=new1.orderBy(\"rating\",ascending=False)"
   ],
   "metadata": {
    "collapsed": false,
    "ExecuteTime": {
     "end_time": "2023-12-06T10:54:12.522560713Z",
     "start_time": "2023-12-06T10:54:12.440499602Z"
    }
   },
   "id": "c79234fa97714023"
  },
  {
   "cell_type": "code",
   "execution_count": 143,
   "outputs": [
    {
     "name": "stdout",
     "output_type": "stream",
     "text": [
      "+---------+--------------------+------------+------+\n",
      "|series_id|         series_info|     network|rating|\n",
      "+---------+--------------------+------------+------+\n",
      "|      101|  rickandmorty scifi|     netflix|   9.1|\n",
      "|      102| invincible animated|amazon_prime|   8.7|\n",
      "|      105|     westworld scifi|         HBO|   8.1|\n",
      "|      104|blackmirror thril...|     netflix|   8.0|\n",
      "|      103|forallmankind his...|     appletv|   7.9|\n",
      "+---------+--------------------+------------+------+\n"
     ]
    }
   ],
   "source": [
    "high.show()"
   ],
   "metadata": {
    "collapsed": false,
    "ExecuteTime": {
     "end_time": "2023-12-06T10:54:12.966138479Z",
     "start_time": "2023-12-06T10:54:12.453167234Z"
    }
   },
   "id": "49eea273d5dc0a06"
  },
  {
   "cell_type": "code",
   "execution_count": 144,
   "outputs": [
    {
     "data": {
      "text/plain": "'101'"
     },
     "execution_count": 144,
     "metadata": {},
     "output_type": "execute_result"
    }
   ],
   "source": [
    "high.select(\"series_id\").first()[0]"
   ],
   "metadata": {
    "collapsed": false,
    "ExecuteTime": {
     "end_time": "2023-12-06T10:54:13.369553298Z",
     "start_time": "2023-12-06T10:54:12.685463179Z"
    }
   },
   "id": "bf7ddd7fcf961d2f"
  },
  {
   "cell_type": "code",
   "execution_count": 145,
   "outputs": [],
   "source": [
    "s=series.select(sum(\"rating\")).collect()[0][0]"
   ],
   "metadata": {
    "collapsed": false,
    "ExecuteTime": {
     "end_time": "2023-12-06T10:54:13.659682052Z",
     "start_time": "2023-12-06T10:54:13.241954600Z"
    }
   },
   "id": "ffe49eff49873f77"
  },
  {
   "cell_type": "code",
   "execution_count": 146,
   "outputs": [],
   "source": [
    "s1=int(s)"
   ],
   "metadata": {
    "collapsed": false,
    "ExecuteTime": {
     "end_time": "2023-12-06T10:54:13.681140057Z",
     "start_time": "2023-12-06T10:54:13.472520120Z"
    }
   },
   "id": "4f5f7fe2aa3b6185"
  },
  {
   "cell_type": "code",
   "execution_count": 147,
   "outputs": [
    {
     "data": {
      "text/plain": "41"
     },
     "execution_count": 147,
     "metadata": {},
     "output_type": "execute_result"
    }
   ],
   "source": [
    "s1"
   ],
   "metadata": {
    "collapsed": false,
    "ExecuteTime": {
     "end_time": "2023-12-06T10:54:13.683621046Z",
     "start_time": "2023-12-06T10:54:13.488218180Z"
    }
   },
   "id": "3aed725575706337"
  },
  {
   "cell_type": "code",
   "execution_count": 148,
   "outputs": [],
   "source": [
    "s1=float(s)"
   ],
   "metadata": {
    "collapsed": false,
    "ExecuteTime": {
     "end_time": "2023-12-06T10:54:13.684120217Z",
     "start_time": "2023-12-06T10:54:13.572762573Z"
    }
   },
   "id": "eaa1f611d08a4ff9"
  },
  {
   "cell_type": "code",
   "execution_count": 149,
   "outputs": [
    {
     "data": {
      "text/plain": "41.8"
     },
     "execution_count": 149,
     "metadata": {},
     "output_type": "execute_result"
    }
   ],
   "source": [
    "s1"
   ],
   "metadata": {
    "collapsed": false,
    "ExecuteTime": {
     "end_time": "2023-12-06T10:54:13.684678727Z",
     "start_time": "2023-12-06T10:54:13.599894558Z"
    }
   },
   "id": "dbcd84593cf051ef"
  },
  {
   "cell_type": "code",
   "execution_count": 149,
   "outputs": [],
   "source": [],
   "metadata": {
    "collapsed": false,
    "ExecuteTime": {
     "end_time": "2023-12-06T10:54:13.684976684Z",
     "start_time": "2023-12-06T10:54:13.618132380Z"
    }
   },
   "id": "5b23b5097bc3c24"
  }
 ],
 "metadata": {
  "kernelspec": {
   "display_name": "Python 3",
   "language": "python",
   "name": "python3"
  },
  "language_info": {
   "codemirror_mode": {
    "name": "ipython",
    "version": 2
   },
   "file_extension": ".py",
   "mimetype": "text/x-python",
   "name": "python",
   "nbconvert_exporter": "python",
   "pygments_lexer": "ipython2",
   "version": "2.7.6"
  }
 },
 "nbformat": 4,
 "nbformat_minor": 5
}
