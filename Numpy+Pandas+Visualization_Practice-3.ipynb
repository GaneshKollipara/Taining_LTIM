{
 "cells": [
  {
   "cell_type": "code",
   "execution_count": null,
   "metadata": {},
   "outputs": [],
   "source": [
    "import numpy as np\n",
    "import pandas as pd\n",
    "import matplotlib.pyplot as plt"
   ]
  },
  {
   "cell_type": "markdown",
   "metadata": {},
   "source": [
    "-------\n",
    "# Section A: 20 Marks\n",
    "-----------"
   ]
  },
  {
   "cell_type": "markdown",
   "metadata": {},
   "source": [
    "### 1. Write a program for  (Marks : 20)\n",
    "\n",
    "\n",
    "Record 1 :\n",
    "\n",
    "|    Item    |           |Store_1|  |Store_2|\n",
    "|------  | ----------|-----|  |-----|\n",
    "|Chayote|    |52.0|  |N/A|\n",
    "|Fuyu Persimmon|  |34.0|  |67.0|\n",
    "|Durian|      |67.0|  |N/A|\n",
    "|Pomelo|      |21.0|  |N/A|\n",
    "|Starfruit|      |N/A|  |N/A|\n",
    "\n",
    "Record 2 :\n",
    "\n",
    "|    Item    |           |Store_2|\n",
    "|------  | ----------|-----|\n",
    "|Durian|    |32.0|\n"
   ]
  },
  {
   "cell_type": "markdown",
   "metadata": {},
   "source": [
    "Above DataFrames show the Item sold in different stores. `Item` shows the fruit names,`Store_1` shows the weight of item sold in `Store_1`,`Store_2` shows the weight of item sold in `Store_2`.\n",
    "\n",
    "a.Prepare two dataframes `Record_1` & `Record_2` (Marks 2)\n",
    "\n",
    "b.Update the data of `Record_2` in `Record_1` along the`Item` name to get the sales of all the items in one dataframe. (Marks 2)\n",
    "\n",
    "c.\n",
    "\n",
    "Record 3 :\n",
    "\n",
    "|    Item    |           |Store_3|\n",
    "|------  | ----------|-----|\n",
    "|Pomelo|      |N/A|\n",
    "|Durian|      |29.0|\n",
    "|Starfruit|      |N/A|\n",
    "Fuyu Persimmon|  |22.0\n",
    "|Chayote|    |78.0|\n",
    "\n",
    "The recod shows Item sold in a new shop.`Item` shows the fruit names,`Store_3` shows the weight of item sold in `Store_3`.\n",
    "Create a dataframe `Record_3` as shown above.\n",
    "Update the data of `Record_3` in the new `Record_1` corresponding to the`Item` name to get the sales of all the items in one dataframe. (Marks 2+2 = 4)\n",
    "\n",
    "\n",
    "d.Prepare a table that shows count for the `Item` which has not been sold in the corresponding Stores.(Marks 3)\n",
    "\n",
    "e.Add a column that will show rank of the Items based on the total sale achieved.Do not consider Items which were not sold in atleast two of the  Stores.Exclude those Items from the table and store their information in a different dataframe. (Marks 3 + 2 = 5)\n",
    "\n",
    "f.Visualize Sales in each store corresponding to each fruit.Make sure data corresponding to each fruit is represented by a different colour.(Marks 4)\n",
    "\n",
    "\n"
   ]
  },
  {
   "cell_type": "markdown",
   "metadata": {},
   "source": [
    "##### a.Prepare two dataframes `Record_1` & `Record_2` (Marks 2)"
   ]
  },
  {
   "cell_type": "code",
   "execution_count": null,
   "metadata": {},
   "outputs": [],
   "source": []
  },
  {
   "cell_type": "markdown",
   "metadata": {},
   "source": [
    "##### b.Update the data of `Record_2` in `Record_1` along the`Item` name to get the sales of all the items in one dataframe. (Marks 2)"
   ]
  },
  {
   "cell_type": "code",
   "execution_count": null,
   "metadata": {},
   "outputs": [],
   "source": []
  },
  {
   "cell_type": "markdown",
   "metadata": {},
   "source": [
    "##### c.\n",
    "Record 3 :\n",
    "\n",
    "|    Item    |           |Store_3|\n",
    "|------  | ----------|-----|\n",
    "|Pomelo|      |N/A|\n",
    "|Durian|      |29.0|\n",
    "|Starfruit|      |N/A|\n",
    "Fuyu Persimmon|  |22.0\n",
    "|Chayote|    |78.0|\n",
    "\n",
    "The recod shows Item sold in a new shop.`Item` shows the fruit names,`Store_3` shows the weight of item sold in `Store_3`.\n",
    "Create a dataframe `Record_3` as shown above.\n",
    "Update the data of `Record_3` in the new `Record_1` corresponding to the`Item` name to get the sales of all the items in one dataframe. (Marks 2+2 = 4)"
   ]
  },
  {
   "cell_type": "code",
   "execution_count": null,
   "metadata": {},
   "outputs": [],
   "source": []
  },
  {
   "cell_type": "markdown",
   "metadata": {},
   "source": [
    "##### d.Prepare a table that shows count for the `Item` which has not been sold in the corresponding Stores.(Marks 3)"
   ]
  },
  {
   "cell_type": "code",
   "execution_count": null,
   "metadata": {},
   "outputs": [],
   "source": []
  },
  {
   "cell_type": "markdown",
   "metadata": {},
   "source": [
    "##### e.Add a column that will show rank of the Items based on the total sale achieved.Do not consider Items which were not sold in atleast two of the  Stores.Exclude those Items from the table and store their information in a different dataframe. (Marks 3 + 2 = 5)"
   ]
  },
  {
   "cell_type": "code",
   "execution_count": null,
   "metadata": {},
   "outputs": [],
   "source": []
  },
  {
   "cell_type": "markdown",
   "metadata": {},
   "source": [
    "##### f.Visualize Sales in each store corresponding to each fruit.Make sure data corresponding to each fruit is represented by a different colour. `.(Marks 4)"
   ]
  },
  {
   "cell_type": "code",
   "execution_count": null,
   "metadata": {},
   "outputs": [],
   "source": []
  },
  {
   "cell_type": "markdown",
   "metadata": {},
   "source": [
    "-------\n",
    "# Section B: 20 Marks\n",
    "-----------"
   ]
  },
  {
   "cell_type": "markdown",
   "metadata": {},
   "source": [
    "### 2. Write a program for  (Marks : 20)"
   ]
  },
  {
   "cell_type": "markdown",
   "metadata": {},
   "source": [
    "#### Sales 1:\n",
    "\n",
    "|   Item     |           |Location|  |Sales|\n",
    "|------  | ----------|-----|  |-----|\n",
    "|Chayote<>Popular<>Organic_Store_1|    |India|  |81|\n",
    "|Chayote<>Popular<>Organic_Store_2|  |India|  |26|\n",
    "|Durian<>processed_Store|      |India|  |43|\n",
    "|Fuyu Persimmon<>Organic_Store_3|         |california|  |47|\n",
    "\n",
    "\n",
    "\n",
    "#### Sales 2:\n",
    "\n",
    "|    Name    |           |Location|  |Sales|\n",
    "|------  | ----------|-----|  |-----|\n",
    "|Durian<>processed_Store|    |France|  |52|\n",
    "|Durian<>processed_Store_2|  |China|  |48|\n",
    "|Fuyu Persimmon<>Organic_Store_3|      |China|  |-|\n",
    "|RPomelo<>Popular<>natural_Store_1|         |california|  |38|\n"
   ]
  },
  {
   "cell_type": "markdown",
   "metadata": {},
   "source": [
    "a.Create the dataframes (Marks 2)\n",
    "\n",
    "b. Apply a mapping and modify the `Item` column  excluding the'_' and subsequent Store number for both the dataframes (Marks 2)\n",
    "\n",
    "\n",
    "c. Combine the dataframe data to have all the records in a single dataframe(Marks 2)\n",
    "\n",
    "\n",
    "d. Remove the record where the score is not available (present as `-`)(Marks 2)\n",
    "\n",
    "\n",
    "e. The Item column contains words seperated by `<>`.The first element or word repersents `the name of the fruit`.The last element represents `Type of the fruit`,either it is `organic` , `processed` or `natural` . The middle element or word repersents the popularity of the fruit.For few fruits it's missing.For example `Durian` and `Fuyu Persimmon`. \n",
    "\n",
    "Add three columns to the existing dataframe that will contain `Name of the fruit` , `Popularity of the fruit` & `Type of the fruit`  and name the columns as `Fruit_Name` , `Popularity` & `Product` respectively.\n",
    "\n",
    "Element the `Item` column after preparing the `Fruit_Name` , `Popularity` & `Product` columns.(Marks 4)\n",
    "\n",
    "**Sample output :**\n",
    "\n",
    "|    Fruit_Name    |           |Popularity|  |Product|           |Location|  |Sales|\n",
    "|------  |           |-----|  |-----|     |-----|  |-----|\n",
    "|Chayote|    |Popular|  |Organic|    |India|  |81|\n",
    "|Chayote|  |Popular|  |Organic|  |India|  |26|\n",
    "|Durian|      | |  |processed|      |India|  |43|\n",
    "\n",
    "\n",
    "\n",
    "f. If a `Fruit_Name` & `Product` combination is having multiple `Sales` for the same `Location`,consider only the maximum `Sales`.(Marks 4)\n",
    "**Sample output:**\n",
    "\n",
    "|Fruit_Name|    |Product|   |Location|  |Sale|\n",
    "|----------|    |-------|   |--------|  |----|\n",
    "|Chayote|    |Organic|   |India|  |81|\n",
    "|Durian|     |processed|   |China|  |48|\n",
    "|Durian|     |processed|   |France|  |52|\n",
    "\n",
    "\n",
    "\n",
    "g.As an update about the popularity of the fruits the following table was published by a `Super Market`.\n",
    "\n",
    "|Fruit_Name|        |Popularity|\n",
    "|---|        |---|\n",
    "|Chayote|        |Popular|   \n",
    "|Fuyu Persimmon|        |Very Popular|\n",
    "|Pomelo|        |Exotic|\n",
    "\n",
    "Create the dataframe.\n",
    "\n",
    "Combine the new dataframe along with the previous dataframe to get a complete information as shown below,(Marks 4 )\n",
    "\n",
    "**Sample output :**\n",
    "    \n",
    "|Fruit_Name|    |Product|   |Popularity|    |Location|  |Sale|\n",
    "|----------|    |-------|   |----------|    |--------|  |----|\n",
    "|Chayote|   |Organic|    |Popular|   |India|     |81|\n",
    "|Durian|    |processed|  |NaN|   |China|    |48|\n",
    "|Durian|    |processed|  |NaN|    |France|    |52|   \n",
    "\n",
    "\n"
   ]
  },
  {
   "cell_type": "markdown",
   "metadata": {},
   "source": [
    "##### a.Create the dataframes (Marks 2)"
   ]
  },
  {
   "cell_type": "code",
   "execution_count": null,
   "metadata": {},
   "outputs": [],
   "source": []
  },
  {
   "cell_type": "markdown",
   "metadata": {},
   "source": [
    "##### b. Apply a mapping and modify the `Item` column  excluding the'_' and subsequent Store number for both the dataframes (Marks 2)"
   ]
  },
  {
   "cell_type": "code",
   "execution_count": null,
   "metadata": {},
   "outputs": [],
   "source": []
  },
  {
   "cell_type": "markdown",
   "metadata": {},
   "source": [
    "##### c. Combine the dataframe data to have all the records in a single dataframe(Marks 2)"
   ]
  },
  {
   "cell_type": "code",
   "execution_count": null,
   "metadata": {},
   "outputs": [],
   "source": []
  },
  {
   "cell_type": "markdown",
   "metadata": {},
   "source": [
    "##### d. Remove the record where the score is not available (present as `-`)(Marks 2)"
   ]
  },
  {
   "cell_type": "code",
   "execution_count": null,
   "metadata": {},
   "outputs": [],
   "source": []
  },
  {
   "cell_type": "markdown",
   "metadata": {},
   "source": [
    "##### e. The Item column contains words seperated by `<>`.The first element or word repersents `the name of the fruit`.The last element represents `Type of the fruit`,either it is `organic` , `processed` or `natural` . The middle element or word repersents the popularity of the fruit.For few fruits it's missing.For example `Durian` and `Fuyu Persimmon`. \n",
    "\n",
    "Add three columns to the existing dataframe that will contain `Name of the fruit` , `Popularity of the fruit` & `Type of the fruit`  and name the columns as `Fruit_Name` , `Popularity` & `Product` respectively.\n",
    "\n",
    "Element the `Item` column after preparing the `Fruit_Name` , `Popularity` & `Product` columns.(Marks 4)\n",
    "\n",
    "**Sample output :**\n",
    "\n",
    "|    Fruit_Name    |           |Popularity|  |Product|           |Location|  |Sales|\n",
    "|------  |           |-----|  |-----|     |-----|  |-----|\n",
    "|Chayote|    |Popular|  |Organic|    |India|  |81|\n",
    "|Chayote|  |Popular|  |Organic|  |India|  |26|\n",
    "|Durian|      | |  |processed|      |India|  |43|\n"
   ]
  },
  {
   "cell_type": "code",
   "execution_count": null,
   "metadata": {},
   "outputs": [],
   "source": []
  },
  {
   "cell_type": "markdown",
   "metadata": {},
   "source": [
    "##### f. If a `Fruit_Name` & `Product` combination is having multiple `Sales` for the same `Location`,consider only the maximum `Sales`.(Marks 4)\n",
    "**Sample output:**\n",
    "\n",
    "|Fruit_Name|    |Product|   |Location|  |Sale|\n",
    "|----------|    |-------|   |--------|  |----|\n",
    "|Chayote|    |Organic|   |India|  |81|\n",
    "|Durian|     |processed|   |China|  |48|\n",
    "|Durian|     |processed|   |France|  |52|"
   ]
  },
  {
   "cell_type": "code",
   "execution_count": null,
   "metadata": {},
   "outputs": [],
   "source": []
  },
  {
   "cell_type": "markdown",
   "metadata": {},
   "source": [
    "##### g.As an update about the popularity of the fruits the following table was published by a `Super Market`.\n",
    "\n",
    "|Fruit_Name|        |Popularity|\n",
    "|---|        |---|\n",
    "|Chayote|        |Popular|   \n",
    "|Fuyu Persimmon|        |Very Popular|\n",
    "|Pomelo|        |Exotic|\n",
    "\n",
    "Create the dataframe.\n",
    "\n",
    "Combine the new dataframe along with the previous dataframe to get a complete information as shown below,(Marks 4 )\n",
    "\n",
    "**Sample output :**\n",
    "    \n",
    "|Fruit_Name|    |Product|   |Popularity|    |Location|  |Sale|\n",
    "|----------|    |-------|   |----------|    |--------|  |----|\n",
    "|Chayote|   |Organic|    |Popular|   |India|     |81|\n",
    "|Durian|    |processed|  |NaN|   |China|    |48|\n",
    "|Durian|    |processed|  |NaN|    |France|    |52|    "
   ]
  },
  {
   "cell_type": "code",
   "execution_count": null,
   "metadata": {},
   "outputs": [],
   "source": []
  },
  {
   "cell_type": "markdown",
   "metadata": {},
   "source": [
    "-------\n",
    "# Section C: 30 Marks\n",
    "-----------"
   ]
  },
  {
   "cell_type": "markdown",
   "metadata": {},
   "source": [
    "### 3. Consider the following `NPV.csv` data and provide solution for the following question (Marks : 30)"
   ]
  },
  {
   "cell_type": "markdown",
   "metadata": {},
   "source": [
    "##### a. What are the number of rows and no. of cols & types of variables (3 Marks)\n",
    "\n",
    "\n",
    "##### b. Convert the following columns value type into categorical\n",
    "`ISiF`, `Nqi`, `Ndiq`, `N_de`, `S_Fit`, `N_at`\n",
    "(3 marks)\n",
    "\n",
    "##### c. Find the % of observations belong to each category having least observations of the every categorical data.(3 marks)\n",
    "\n",
    "\n",
    "##### d. Find out the categorical variables,which are  having more than 2 categories and perform following operations.(Marks : 9)\n",
    "\n",
    "##### Draw barchart for each vaiable.(Marks : 3)\n",
    "##### Arrange the bar as per the descending order of the height of the bars.(Marks : 3)\n",
    "\n",
    "##### The categories that have top 25% of the frequency should be coloured in `Blue` & rest should be coloured in `Black`.(Marks : 3)\n",
    "\n",
    "For example if a categorical column is having 8 categories the categories with highest and second highest frequencies should be coloured in `Blue` and rest should be coloured in `Black`. Corresponding index for `Blue` should be mentioned as `High` and the `Black` as `Low`.\n",
    "\n",
    "Again if a categorical column is having 17 categories the categories with top 5 bar length should be coloured in `Blue` and rest should be coloured in `Black`. Corresponding index for `Blue` should be mentioned as `High` and the `Black` as `Low`.\n",
    "\n",
    "##### e. Visualize the relation between the `Viva_Score` & `Written_Score` of the applicants for defferent `Interview_center`  .Comment on your observation. (Marks 4)\n",
    "\n",
    "##### f. Compare the `Viva_Score` of candidates with different `education level` for different `Gender`.Comment on your observation(at least three).(Marks 4)\n",
    "\n",
    "\n",
    "##### g. Plot an appropriate diagram to visualise the relationship between `Age` & `LsDp`.Comment on your observation.(Marks 4)"
   ]
  },
  {
   "cell_type": "code",
   "execution_count": null,
   "metadata": {},
   "outputs": [],
   "source": []
  },
  {
   "cell_type": "markdown",
   "metadata": {},
   "source": [
    "##### a. What are the number of rows and no. of cols & types of variables (3 Marks)"
   ]
  },
  {
   "cell_type": "code",
   "execution_count": null,
   "metadata": {},
   "outputs": [],
   "source": []
  },
  {
   "cell_type": "markdown",
   "metadata": {},
   "source": [
    "##### b. Convert the following columns value type into categorical\n",
    "`ISiF`, `Nqi`, `Ndiq`, `N_de`, `S_Fit`, `N_at`\n",
    "(3 marks)"
   ]
  },
  {
   "cell_type": "code",
   "execution_count": null,
   "metadata": {},
   "outputs": [],
   "source": []
  },
  {
   "cell_type": "markdown",
   "metadata": {},
   "source": [
    "##### c. Find the % of observations belong to each category having least observations of the every categorical data.(3 marks)"
   ]
  },
  {
   "cell_type": "code",
   "execution_count": null,
   "metadata": {},
   "outputs": [],
   "source": []
  },
  {
   "cell_type": "markdown",
   "metadata": {},
   "source": [
    "##### d. Find out the categorical variables,which are  having more than 2 categories and perform the following operations(Marks : 9)\n",
    "##### Draw barchart for each vaiable.(Marks : 1+2=3)\n",
    "##### Arrange the bar as per the descending order of the height of the bars.(Marks : 3)\n",
    "\n",
    "The categories that have top 25% of the frequency should be coloured in `Blue` & rest should be coloured in `Black`.(Marks : 3)\n",
    "\n",
    "For example if a categorical column is having 8 categories the categories with highest and second highest frequencies should be coloured in `Blue` and rest should be coloured in `Black`. Corresponding index for `Blue` should be mentioned as `High` and the `Black` as `Low`.\n",
    "\n",
    "Again if a categorical column is having 17 categories the categories with top 5 bar length should be coloured in `Blue` and rest should be coloured in `Black`. Corresponding index for `Blue` should be mentioned as `High` and the `Black` as `Low`."
   ]
  },
  {
   "cell_type": "code",
   "execution_count": null,
   "metadata": {},
   "outputs": [],
   "source": []
  },
  {
   "cell_type": "markdown",
   "metadata": {},
   "source": [
    "##### e. Visualize the relation between the `Viva_Score` & `Written_Score` of the applicants for defferent `Interview_center`  .Comment on your observation. (Marks 3)"
   ]
  },
  {
   "cell_type": "code",
   "execution_count": null,
   "metadata": {},
   "outputs": [],
   "source": []
  },
  {
   "cell_type": "markdown",
   "metadata": {},
   "source": [
    "##### f. Compare the `Viva_Score` of candidates with different `education level` for different `Gender`.Comment on your observation(at least three).(Marks 4)"
   ]
  },
  {
   "cell_type": "code",
   "execution_count": null,
   "metadata": {},
   "outputs": [],
   "source": []
  },
  {
   "cell_type": "markdown",
   "metadata": {},
   "source": [
    "##### g. Plot an appropriate diagram to visualise the relationship between `Age` & `LsDp`.Comment on your observation.(Marks 4)"
   ]
  },
  {
   "cell_type": "code",
   "execution_count": null,
   "metadata": {},
   "outputs": [],
   "source": []
  }
 ],
 "metadata": {
  "kernelspec": {
   "display_name": "Python 3",
   "language": "python",
   "name": "python3"
  },
  "language_info": {
   "codemirror_mode": {
    "name": "ipython",
    "version": 3
   },
   "file_extension": ".py",
   "mimetype": "text/x-python",
   "name": "python",
   "nbconvert_exporter": "python",
   "pygments_lexer": "ipython3",
   "version": "3.7.4"
  }
 },
 "nbformat": 4,
 "nbformat_minor": 4
}
