{
 "cells": [
  {
   "cell_type": "code",
   "execution_count": null,
   "metadata": {},
   "outputs": [],
   "source": [
    "import numpy as np\n",
    "import pandas as pd\n",
    "import matplotlib.pyplot as plt"
   ]
  },
  {
   "cell_type": "markdown",
   "metadata": {},
   "source": [
    "-------\n",
    "# Section A: 20 Marks\n",
    "-----------"
   ]
  },
  {
   "cell_type": "markdown",
   "metadata": {},
   "source": [
    "### 1.Answer the following questions (Marks : 4)\n",
    "\n",
    "a. Create a numpy array with 20 equidistant point between 3 to 17. (Marks 1)\n",
    "\n",
    "b. Convert the numpy array into a 4 * 5 matrix.(Marks 1)\n",
    "\n",
    "c. Multiply the below matrix with the matrix created above.(Marks 1)\n",
    "\n",
    "$$\\begin{bmatrix} 1 & 3 & 0 & 1 \\\\ 2 & 3 & 2 & 7 \\\\ 1 & 4 & 2 & 1 \\\\ 1 & 9 & 0 & 1 \\\\6 & 4 & 6 & 7 \\end{bmatrix}$$\n",
    "\n",
    "d. Find the inverse of the matrix created after multiplication.(Marks 1)"
   ]
  },
  {
   "cell_type": "markdown",
   "metadata": {},
   "source": [
    "##### a. Create a numpy array with 20 equidistant point between 3 to 17. (Marks 1)"
   ]
  },
  {
   "cell_type": "code",
   "execution_count": null,
   "metadata": {},
   "outputs": [],
   "source": []
  },
  {
   "cell_type": "markdown",
   "metadata": {},
   "source": [
    "##### b. Convert the numpy array into a 4 * 5 matrix.(Marks 1)"
   ]
  },
  {
   "cell_type": "code",
   "execution_count": null,
   "metadata": {},
   "outputs": [],
   "source": []
  },
  {
   "cell_type": "markdown",
   "metadata": {},
   "source": [
    "##### c. Multiply the below matrix with the matrix created above.(Marks 1)\n",
    "\n",
    "$$\\begin{bmatrix} 1 & 3 & 0 & 1 \\\\ 2 & 3 & 2 & 7 \\\\ 1 & 4 & 2 & 1 \\\\ 1 & 9 & 0 & 1 \\\\6 & 4 & 6 & 7 \\end{bmatrix}$$\n"
   ]
  },
  {
   "cell_type": "code",
   "execution_count": null,
   "metadata": {},
   "outputs": [],
   "source": []
  },
  {
   "cell_type": "markdown",
   "metadata": {},
   "source": [
    "##### d. Find the inverse of the matrix created after multiplication.(Marks 1)"
   ]
  },
  {
   "cell_type": "code",
   "execution_count": null,
   "metadata": {},
   "outputs": [],
   "source": []
  },
  {
   "cell_type": "markdown",
   "metadata": {},
   "source": [
    "### 2. Write a program for  (Marks : 16)\n",
    "\n",
    "\n",
    "Score 1 :\n",
    "\n",
    "|    Name    |           |ITP|  |NPV|  |SLC|\n",
    "|------  | ----------|-----|  |-----|  |-----|\n",
    "|Harish|    |77.0|  |N/A|  |57.4|\n",
    "|Mukesh|  |84.0|  |65.0|  |N/A|\n",
    "|Ram|      |N/A|  |61.0|  |81.0|\n",
    "|Senthil|      |55.0|  |N/A|  |N/A|\n",
    "|Tom|      |N/A|  |N/A|  |72.0|\n",
    "\n",
    "Score 2 :\n",
    "\n",
    "|    Name    |           |SQL|\n",
    "|------  | ----------|-----|\n",
    "|Harish|    |74.0|\n"
   ]
  },
  {
   "cell_type": "markdown",
   "metadata": {},
   "source": [
    "a.Prepare two dataframes `Score1` & `Score2` (Marks 2)\n",
    "\n",
    "b.Join `Score2` with `Score1` along the name to get the score of all the students in one dataframe. (Marks 3)\n",
    "\n",
    "c.Prepare a table that shows count for the students who has not appeared in the corresponding subjects.(Marks 2)\n",
    "\n",
    "d.Add a column that will show rank of the students based on the total score obtained.Do not consider students who have appeared in less than two subjects.Exclude those students from the table. (Marks 3)\n",
    "\n",
    "e.Visualize Score in each subject corresponding to each student name .Make sure data corresponding to each student is represented by a different colour.(Marks 4)\n",
    "\n",
    "f.Print the student name who has ranked second.(Marks 2)"
   ]
  },
  {
   "cell_type": "markdown",
   "metadata": {},
   "source": [
    "##### a.Prepare two dataframes `Score1` & `Score2` (Marks 2)"
   ]
  },
  {
   "cell_type": "code",
   "execution_count": null,
   "metadata": {},
   "outputs": [],
   "source": []
  },
  {
   "cell_type": "markdown",
   "metadata": {},
   "source": [
    "##### b.Join `Score2` with `Score1` along the name to get the score of all the students in one dataframe. (Marks 3)"
   ]
  },
  {
   "cell_type": "code",
   "execution_count": null,
   "metadata": {},
   "outputs": [],
   "source": []
  },
  {
   "cell_type": "markdown",
   "metadata": {},
   "source": [
    "##### c.Prepare a table that shows count for the students who has not appeared in the corresponding subjects.(Marks 2)"
   ]
  },
  {
   "cell_type": "code",
   "execution_count": null,
   "metadata": {},
   "outputs": [],
   "source": []
  },
  {
   "cell_type": "markdown",
   "metadata": {},
   "source": [
    "##### d.Add a column that will show rank of the students based on the total score obtained.Do not consider students who have appeared in less than two subjects.Exclude those students from the table. (Marks 3)"
   ]
  },
  {
   "cell_type": "code",
   "execution_count": null,
   "metadata": {},
   "outputs": [],
   "source": []
  },
  {
   "cell_type": "markdown",
   "metadata": {},
   "source": [
    "##### e.Visualize Score in each subject corresponding to each student name .Make sure data corresponding to each student is represented by a different colour. `.(Marks 4)"
   ]
  },
  {
   "cell_type": "code",
   "execution_count": null,
   "metadata": {},
   "outputs": [],
   "source": []
  },
  {
   "cell_type": "markdown",
   "metadata": {},
   "source": [
    "##### f.Print the student name who has ranked second.(Marks 2)"
   ]
  },
  {
   "cell_type": "code",
   "execution_count": null,
   "metadata": {},
   "outputs": [],
   "source": []
  },
  {
   "cell_type": "markdown",
   "metadata": {},
   "source": [
    "-------\n",
    "# Section B: 20 Marks\n",
    "-----------"
   ]
  },
  {
   "cell_type": "markdown",
   "metadata": {},
   "source": [
    "### 3. Write a program for  (Marks : 20 )"
   ]
  },
  {
   "cell_type": "markdown",
   "metadata": {},
   "source": [
    "#### Score1:\n",
    "\n",
    "|   Name     |           |Subject|  |Score|\n",
    "|------  | ----------|-----|  |-----|\n",
    "|Sutithi.Chakraborty_1|    |ITP|  |34|\n",
    "|Sutithi.Chakraborty_2|  |ITP|  |55|\n",
    "|Deepali.Gatade_1|      |ITP|  |77|\n",
    "|Mukul.Kumar.Singh_1|         |NPV|  |65|\n",
    "\n",
    "\n",
    "\n",
    "#### Score2:\n",
    "\n",
    "|    Name    |           |Subject|  |Score|\n",
    "|------  | ----------|-----|  |-----|\n",
    "|Deepali.Gatade_01|    |SQL|  |74|\n",
    "|Deepali.Gatade_2|  |SLC|  |57|\n",
    "|Mukul.Kumar.Singh_1|      |SLC|  |-|\n",
    "|Rakesh.Sriramula_1|         |NPV|  |61|\n"
   ]
  },
  {
   "cell_type": "markdown",
   "metadata": {},
   "source": [
    "a. Create the dataframes (Marks 3)\n",
    "\n",
    "b. Apply a mapping and modify the `Name` column  excluding the'_' and subsequent number for both the dataframes(Marks 2)\n",
    "\n",
    "c. Combine the dataframe data to have all the records in a single dataframe (Marks 1)\n",
    "\n",
    "d. Remove the record where the score is not available (present as `-`)(Marks 2)\n",
    "\n",
    "e. If a student is having multiple scores for the same subject,consider only the maximum number. (Marks 3)\n",
    "\n",
    "f. Show a table where we have differnt subject as column header and the marks of students under each subsequent column and corresponding student name. (Marks 2)\n",
    "\n",
    "#### Sample output :\n",
    "\n",
    "|    Name    |           |ITP|  |NPV|  |SLC|  |SQL|\n",
    "|------  | ----------|-----|  |-----|  |-----|  |-----|\n",
    "|Deepali.Gatade|    |77.0|  |NaN|  |57.4|  |74.0|\n",
    "|Mukul.Kumar.Singh|  |NaN|  |65.0|  |NaN|  |NaN|\n",
    "|Rakesh.Sriramula|      |NaN|  |61.0|  |NaN|  |NaN|\n",
    "\n",
    "g. `Mukul.Kumar.Singh` has got 78 in `ITP` , 62 in `SLC` , `Rakesh.Sriramula`  has got 59 in `SQL` .Update his score in the above table.(Marks 2)\n",
    "\n",
    "h. Add a column that will show the total marks obtained by each student in the above prepared table.(Marks 1)\n",
    "\n",
    "i. Split the `Name` column into `First_Name` , `Middle_Name` & `Last_Name`.For ,(Marks 4)\n",
    "\n",
    "Mukul.Kumar.Singh   Mukul is the first name, Kumar is the middle name & Singh is the last name.\n",
    "\n",
    "Sutithi.Chakraborty Sutithi is the first name & Chakraborty is the last name\n",
    "\n",
    "For the other it is applicable in the same way.\n",
    "\n"
   ]
  },
  {
   "cell_type": "markdown",
   "metadata": {},
   "source": [
    "##### a.Create the dataframes (Marks 3)"
   ]
  },
  {
   "cell_type": "code",
   "execution_count": null,
   "metadata": {},
   "outputs": [],
   "source": []
  },
  {
   "cell_type": "markdown",
   "metadata": {},
   "source": [
    "##### b. Apply a mapping and modify the `Name` column  excluding the'_' and subsequent number for both the dataframes (Marks 2)"
   ]
  },
  {
   "cell_type": "code",
   "execution_count": null,
   "metadata": {},
   "outputs": [],
   "source": []
  },
  {
   "cell_type": "markdown",
   "metadata": {},
   "source": [
    "##### c. Combine the dataframe data to have all the records in a single dataframe(Marks 1)"
   ]
  },
  {
   "cell_type": "code",
   "execution_count": null,
   "metadata": {},
   "outputs": [],
   "source": []
  },
  {
   "cell_type": "markdown",
   "metadata": {},
   "source": [
    "##### d. Remove the record where the score is not available (present as `-`)(Marks 2)"
   ]
  },
  {
   "cell_type": "code",
   "execution_count": null,
   "metadata": {},
   "outputs": [],
   "source": []
  },
  {
   "cell_type": "markdown",
   "metadata": {},
   "source": [
    "##### e. If a student is having multiple scores for the same subject,consider only the maximum number.(Marks 3)"
   ]
  },
  {
   "cell_type": "code",
   "execution_count": null,
   "metadata": {},
   "outputs": [],
   "source": []
  },
  {
   "cell_type": "markdown",
   "metadata": {},
   "source": [
    "#####  f. Show a table where we have differnt subject as column header and the marks of students under each subsequent column and corresponding student name(Marks 2)\n",
    "#### Sample output :\n",
    "\n",
    "|    Name    |           |ITP|  |NPV|  |SLC|  |SQL|\n",
    "|------  | ----------|-----|  |-----|  |-----|  |-----|\n",
    "|Deepali.Gatade|    |77.0|  |NaN|  |57.4|  |74.0|\n",
    "|Mukul.Kumar.Singh|  |NaN|  |65.0|  |NaN|  |NaN|\n",
    "|Rakesh.Sriramula|      |NaN|  |61.0|  |NaN|  |NaN|"
   ]
  },
  {
   "cell_type": "code",
   "execution_count": null,
   "metadata": {},
   "outputs": [],
   "source": []
  },
  {
   "cell_type": "markdown",
   "metadata": {},
   "source": [
    "#####  g. `Mukul.Kumar.Singh` has got 78 in `ITP` , 62 in `SLC` , `Rakesh.Sriramula`  has got 59 in `SQL` .Update his score in the above table.(Marks 2)"
   ]
  },
  {
   "cell_type": "code",
   "execution_count": null,
   "metadata": {},
   "outputs": [],
   "source": []
  },
  {
   "cell_type": "markdown",
   "metadata": {},
   "source": [
    "#####  h. Add a column that will show the total marks obtained by each student in the above prepared table.(Marks 1)"
   ]
  },
  {
   "cell_type": "code",
   "execution_count": null,
   "metadata": {},
   "outputs": [],
   "source": []
  },
  {
   "cell_type": "markdown",
   "metadata": {},
   "source": [
    "#####  i.Split the `Name` column into `First_Name` , `Middle_Name` & `Last_Name`.For ,(Marks 4)\n",
    "\n",
    "Mukul.Kumar.Singh   Mukul is the first name, Kumar is the middle name & Singh is the last name.\n",
    "Sutithi.Chakraborty Sutithi is the first name & Chakraborty is the last name\n",
    "For the other it is applicable in the same way."
   ]
  },
  {
   "cell_type": "code",
   "execution_count": null,
   "metadata": {},
   "outputs": [],
   "source": []
  },
  {
   "cell_type": "markdown",
   "metadata": {},
   "source": [
    "-------\n",
    "# Section C: 30 Marks\n",
    "-----------"
   ]
  },
  {
   "cell_type": "markdown",
   "metadata": {},
   "source": [
    "### 4. Consider the following `NPV.csv` data and provide solution for the following question (Marks : 30)"
   ]
  },
  {
   "cell_type": "markdown",
   "metadata": {},
   "source": [
    "##### a. What are the number of rows and no. of cols & types of variables (2 Marks)\n",
    "\n",
    "##### b. Using for loop display the categorical data and numerical data seperetly(3 marks)\n",
    "\n",
    "##### c. Convert the following columns value type into categorical\n",
    "'cp', 'fbs', 'restecg', 'keratin_type', 'Hemoglobin_level', 'Immunity_level'\n",
    "(2 marks)\n",
    "\n",
    "\n",
    "##### d. Drop the `Patient I.D.` column (1 marks)\n",
    "\n",
    "\n",
    "##### e. Write a function named `Visualize` which will have four parameters.  (Marks : 17)\n",
    "\n",
    "`First parameter` would be dataset name. `Second parameter` would be column name. `Third parameter` should have the name of a column.(which should have categorical data with two categories)[students can fixed this as Survive column].`Fourth parameter` should be `Yes` or `No`, where `Yes` denotes `Survived` and `No` denotes `Passed away`\n",
    "\n",
    "\n",
    "Based on the Forth parameter the diagram should be drawn. If it says `Yes` then the data corresponding to `Survived` data in Survive Column should be considered.\n",
    "\n",
    "If it says `No` then the data corresponding to `Passed away` data in Survive Column should be considered.\n",
    "\n",
    "The function would draw a `histogram` if the parameter contains `continuos` data.\n",
    "\n",
    "For `histogram` there should be 20 bins\n",
    "\n",
    "\n",
    "The function would draw a `bar chart` if the parameter contains categorical data with `more than 3 categories`.\n",
    "\n",
    "\n",
    "For `bar chart` : Arrange the bar as per the descending order of the height of the bars.\n",
    "\n",
    "The categories that have top 25% of the frequency should be coloured in `Green` & rest should be coloured in `Red`.\n",
    "\n",
    "For example if a categorical column is having 8 categories the categories with highest and second highest frequencies should be coloured in `Green` and rest should be coloured in `Red`. Corresponding index for `Green` should be mentioned as `High` and the `Red` as `Low`.\n",
    "\n",
    "Again if a categorical column is having 17 categories the categories with top 5 bar length should be coloured in `Green` and rest should be coloured in `Red`. Corresponding index for `Green` should be mentioned as `High` and the `Red` as `Low`.\n",
    "\n",
    "\n",
    "The function would draw a `pie chart` if the parameter contains categorical data with `less than 4 categories`.\n",
    "\n",
    "For `pie chart` : The colour index box for respective categories should be mentioned. The percentage of each slice should be mentioned.\n",
    "\n",
    "In each plot a title should appear mentioning the `chart name` (histogram , distribution , bar chart or pie chart) `represents the column name` for (`Survived` or `Passed away`) data\n",
    "\n",
    "\n",
    "\n",
    "**Note : Do not consider Survive column for second parameter**\n",
    "\n",
    "\n",
    "##### f. Plot an appropriate diagram to visualise the `Age` distribution over different `blood_group` type.Comment on your observation.(Marks 3)\n",
    "\n",
    "##### g. Plot an appropriate diagram to visualise the relationship between `Age` & `thalachh`.Comment on your observation.(Marks 2)\n",
    "\n"
   ]
  },
  {
   "cell_type": "markdown",
   "metadata": {},
   "source": [
    "import pandas as pd\n",
    "data = pd.read_csv('NPV.csv')\n",
    "data.head()"
   ]
  },
  {
   "cell_type": "markdown",
   "metadata": {},
   "source": [
    "##### a. What are the number of rows and no. of cols & types of variables (2 Marks)"
   ]
  },
  {
   "cell_type": "code",
   "execution_count": null,
   "metadata": {},
   "outputs": [],
   "source": []
  },
  {
   "cell_type": "markdown",
   "metadata": {},
   "source": [
    "##### b. Using for loop display the categorical data and numerical data seperetly(3 marks)"
   ]
  },
  {
   "cell_type": "code",
   "execution_count": null,
   "metadata": {},
   "outputs": [],
   "source": []
  },
  {
   "cell_type": "markdown",
   "metadata": {},
   "source": [
    "##### c. Convert the following columns value type into categorical\n",
    "'cp', 'fbs', 'restecg', 'keratin_type', 'Hemoglobin_level', 'Immunity_level'\n",
    "(2 marks)"
   ]
  },
  {
   "cell_type": "code",
   "execution_count": null,
   "metadata": {},
   "outputs": [],
   "source": []
  },
  {
   "cell_type": "markdown",
   "metadata": {},
   "source": [
    "##### d. Drop the `Patient I.D.` column (1 marks)"
   ]
  },
  {
   "cell_type": "code",
   "execution_count": null,
   "metadata": {},
   "outputs": [],
   "source": []
  },
  {
   "cell_type": "markdown",
   "metadata": {},
   "source": [
    "##### e. Write a function named `Visualize` which will have four parameters.  (Marks : 17)\n",
    "\n",
    "`First parameter` would be dataset name. `Second parameter` would be column name. `Third parameter` should have the name of a column.(which should have categorical data with two categories)[students can fixed this as Survive column].`Fourth parameter` should be `Yes` or `No`, where `Yes` denotes `Survived` and `No` denotes `Passed away`\n",
    "\n",
    "\n",
    "Based on the Forth parameter the diagram should be drawn. If it says `Yes` then the data corresponding to `Survived` data in Survive Column should be considered.\n",
    "\n",
    "If it says `No` then the data corresponding to `Passed away` data in Survive Column should be considered.\n",
    "\n",
    "The function would draw a `histogram` if the parameter contains `continuos` data.\n",
    "\n",
    "For `histogram` there should be 20 bins\n",
    "\n",
    "\n",
    "The function would draw a `bar chart` if the parameter contains categorical data with `more than 3 categories`.\n",
    "\n",
    "\n",
    "For `bar chart` : Arrange the bar as per the descending order of the height of the bars.\n",
    "\n",
    "The categories that have top 25% of the frequency should be coloured in `Green` & rest should be coloured in `Red`.\n",
    "\n",
    "For example if a categorical column is having 8 categories the categories with highest and second highest frequencies should be coloured in `Green` and rest should be coloured in `Red`. Corresponding index for `Green` should be mentioned as `High` and the `Red` as `Low`.\n",
    "\n",
    "Again if a categorical column is having 17 categories the categories with top 5 bar length should be coloured in `Green` and rest should be coloured in `Red`. Corresponding index for `Green` should be mentioned as `High` and the `Red` as `Low`.\n",
    "\n",
    "\n",
    "The function would draw a `pie chart` if the parameter contains categorical data with `less than 4 categories`.\n",
    "\n",
    "For `pie chart` : The colour index box for respective categories should be mentioned. The percentage of each slice should be mentioned.\n",
    "\n",
    "In each plot a title should appear mentioning the `chart name` (histogram , distribution , bar chart or pie chart) `represents the column name` for (`Survived` or `Passed away`) data\n",
    "\n",
    "\n",
    "**Note : Do not consider Survive column for second parameter**\n",
    "\n",
    "#### Sample Test Case :"
   ]
  },
  {
   "cell_type": "code",
   "execution_count": 1,
   "metadata": {},
   "outputs": [
    {
     "data": {
      "image/png": "[encoded data removed]",
      "text/plain": [
       "<Figure size 432x288 with 1 Axes>"
      ]
     },
     "metadata": {
      "needs_background": "light"
     },
     "output_type": "display_data"
    }
   ],
   "source": [
    "Visualize(data , 'blood_group' , 'Survive' , 'Yes' )"
   ]
  },
  {
   "cell_type": "code",
   "execution_count": 2,
   "metadata": {
    "scrolled": true
   },
   "outputs": [
    {
     "data": {
      "image/png": "[encoded data removed]",
      "text/plain": [
       "<Figure size 720x720 with 1 Axes>"
      ]
     },
     "metadata": {},
     "output_type": "display_data"
    }
   ],
   "source": [
    "Visualize(data , 'Sex' , 'Survive' , 'No' )"
   ]
  },
  {
   "cell_type": "code",
   "execution_count": null,
   "metadata": {},
   "outputs": [],
   "source": []
  },
  {
   "cell_type": "markdown",
   "metadata": {},
   "source": [
    "##### f. Plot an appropriate diagram to visualise the `Age` distribution over different `blood_group` type.Comment on your observation.(Marks 3)"
   ]
  },
  {
   "cell_type": "code",
   "execution_count": null,
   "metadata": {},
   "outputs": [],
   "source": []
  },
  {
   "cell_type": "markdown",
   "metadata": {},
   "source": [
    "##### g. Plot an appropriate diagram to visualise the relationship between `Age` & `thalachh`.Comment on your observation.(Marks 2)"
   ]
  },
  {
   "cell_type": "code",
   "execution_count": null,
   "metadata": {},
   "outputs": [],
   "source": []
  }
 ],
 "metadata": {
  "kernelspec": {
   "display_name": "Python 3",
   "language": "python",
   "name": "python3"
  },
  "language_info": {
   "codemirror_mode": {
    "name": "ipython",
    "version": 3
   },
   "file_extension": ".py",
   "mimetype": "text/x-python",
   "name": "python",
   "nbconvert_exporter": "python",
   "pygments_lexer": "ipython3",
   "version": "3.7.4"
  }
 },
 "nbformat": 4,
 "nbformat_minor": 4
}
