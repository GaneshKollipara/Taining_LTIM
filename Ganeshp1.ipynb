{
 "cells": [
  {
   "cell_type": "code",
   "execution_count": 1,
   "id": "initial_id",
   "metadata": {
    "collapsed": true,
    "ExecuteTime": {
     "end_time": "2023-11-20T10:09:51.411391438Z",
     "start_time": "2023-11-20T10:09:51.333139694Z"
    }
   },
   "outputs": [
    {
     "name": "stdout",
     "output_type": "stream",
     "text": [
      "Hi Ganesh\n"
     ]
    }
   ],
   "source": [
    "print(\"Hi Ganesh\")"
   ]
  },
  {
   "cell_type": "code",
   "execution_count": null,
   "outputs": [],
   "source": [],
   "metadata": {
    "collapsed": false
   },
   "id": "1d240e561a80c394"
  },
  {
   "cell_type": "code",
   "execution_count": 2,
   "outputs": [
    {
     "name": "stdout",
     "output_type": "stream",
     "text": [
      "Collecting pyspark\r\n",
      "  Downloading pyspark-3.2.4.tar.gz (281.5 MB)\r\n",
      "     |████████████████████████████████| 281.5 MB 25 kB/s                      | 798 kB 2.8 MB/s eta 0:01:40 | 2.0 MB 2.8 MB/s eta 0:01:39 | 7.2 MB 2.8 MB/s eta 0:01:38              | 11.6 MB 2.8 MB/s eta 0:01:36              | 13.7 MB 2.8 MB/s eta 0:01:35MB/s eta 0:01:351 MB 2.8 MB/s eta 0:01:337 MB 3.9 MB/s eta 0:01:061:0605��██▎                          | 46.9 MB 37.2 MB/s eta 0:00:07                   | 48.2 MB 37.2 MB/s eta 0:00:07��██▋                          | 49.5 MB 37.2 MB/s eta 0:00:070:07MB/s eta 0:00:06 0:00:067.2 MB/s eta 0:00:06██▎                        | 64.1 MB 37.2 MB/s eta 0:00:06           | 68.7 MB 37.2 MB/s eta 0:00:06��                       | 73.5 MB 63.1 MB/s eta 0:00:04 | 75.0 MB 63.1 MB/s eta 0:00:04MB 63.1 MB/s eta 0:00:04MB 63.1 MB/s eta 0:00:04��████▏                      | 80.4 MB 63.1 MB/s eta 0:00:04��████▍                      | 83.0 MB 63.1 MB/s eta 0:00:04��████▊                      | 85.1 MB 63.1 MB/s eta 0:00:04��████▉                      | 86.5 MB 63.1 MB/s eta 0:00:04MB 63.1 MB/s eta 0:00:04                     | 92.7 MB 63.1 MB/s eta 0:00:035.7 MB 29.4 MB/s eta 0:00:07|███████████▎                    | 98.8 MB 29.4 MB/s eta 0:00:07�████████▌                    | 101.3 MB 29.4 MB/s eta 0:00:07�████████▉                    | 103.8 MB 29.4 MB/s eta 0:00:07     | 109.9 MB 29.4 MB/s eta 0:00:06�███████████▉                   | 112.8 MB 29.4 MB/s eta 0:00:06           | 115.4 MB 29.4 MB/s eta 0:00:06��████████▍                  | 117.8 MB 29.4 MB/s eta 0:00:06██▌                  | 119.1 MB 29.4 MB/s eta 0:00:06       | 120.6 MB 29.4 MB/s eta 0:00:06.4 MB/s eta 0:00:45 �██████████                 | 131.5 MB 3.4 MB/s eta 0:00:44 ███▋                | 137.4 MB 3.4 MB/s eta 0:00:42 �████████████                | 141.1 MB 3.4 MB/s eta 0:00:41  |████████████████▌               | 144.9 MB 3.4 MB/s eta 0:00:40  |████████████████▋               | 146.4 MB 3.4 MB/s eta 0:00:40 ██████████▉               | 148.4 MB 3.4 MB/s eta 0:00:39 ██████████████▍              | 153.1 MB 63.5 MB/s eta 0:00:03██████▋             | 164.1 MB 63.5 MB/s eta 0:00:02 | 167.1 MB 63.5 MB/s eta 0:00:02|███████████████████▏            | 169.0 MB 63.5 MB/s eta 0:00:02  |███████████████████▍            | 170.6 MB 63.5 MB/s eta 0:00:02    |███████████████████▋            | 172.4 MB 63.5 MB/s eta 0:00:02  | 178.3 MB 63.5 MB/s eta 0:00:02  | 180.8 MB 1.6 MB/s eta 0:01:02   | 181.4 MB 1.6 MB/s eta 0:01:01 ��███████████████████           | 184.2 MB 1.6 MB/s eta 0:01:00  MB 1.6 MB/s eta 0:00:58 ��██          | 194.3 MB 1.6 MB/s eta 0:00:54 ██████▍         | 196.7 MB 1.6 MB/s eta 0:00:52 �██████████████         | 202.0 MB 1.6 MB/s eta 0:00:49 ��        | 204.5 MB 1.6 MB/s eta 0:00:47 B 1.6 MB/s eta 0:00:45 ████▏       | 212.4 MB 1.6 MB/s eta 0:00:43 ��██▎       | 213.6 MB 46.2 MB/s eta 0:00:02�▋       | 216.1 MB 46.2 MB/s eta 0:00:02�███████████████████▊       | 217.4 MB 46.2 MB/s eta 0:00:02█████▉       | 218.5 MB 46.2 MB/s eta 0:00:02██████       | 220.2 MB 46.2 MB/s eta 0:00:02██████▎      | 222.8 MB 46.2 MB/s eta 0:00:02��████████████████▌      | 224.2 MB 46.2 MB/s eta 0:00:02████████████████████████▋      | 225.4 MB 46.2 MB/s eta 0:00:02��████████████████▊      | 226.5 MB 46.2 MB/s eta 0:00:02��████████████████▉      | 227.5 MB 46.2 MB/s eta 0:00:02B/s eta 0:00:02  | 241.0 MB 59.0 MB/s eta 0:00:01�██████████▊    | 243.7 MB 59.0 MB/s eta 0:00:01�████████▉    | 245.0 MB 59.0 MB/s eta 0:00:01| 247.1 MB 59.0 MB/s eta 0:00:01��█████████   | 255.4 MB 59.0 MB/s eta 0:00:01██████  | 264.7 MB 59.0 MB/s eta 0:00:01��█████████████████████████▋ | 268.9 MB 59.0 MB/s eta 0:00:01 |██████████████████████████████▉ | 270.9 MB 20.9 MB/s eta 0:00:01█████▎| 274.9 MB 20.9 MB/s eta 0:00:01 MB 20.9 MB/s eta 0:00:01█████▉| 279.7 MB 20.9 MB/s eta 0:00:01 MB 20.9 MB/s eta 0:00:01\r\n",
      "\u001B[?25h  Preparing metadata (setup.py) ... \u001B[?25ldone\r\n",
      "\u001B[?25hCollecting py4j==0.10.9.5\r\n",
      "  Downloading py4j-0.10.9.5-py2.py3-none-any.whl (199 kB)\r\n",
      "     |████████████████████████████████| 199 kB 49.7 MB/s            \r\n",
      "\u001B[?25hBuilding wheels for collected packages: pyspark\r\n",
      "  Building wheel for pyspark (setup.py) ... \u001B[?25ldone\r\n",
      "\u001B[?25h  Created wheel for pyspark: filename=pyspark-3.2.4-py2.py3-none-any.whl size=282040934 sha256=10f65d1879877f06389e164b95dbcb5a0f68a18ec237f59bda781e53d9aae616\r\n",
      "  Stored in directory: /home/labuser/.cache/pip/wheels/7f/b5/ab/6fbc298426a10c8a27065ed80da7241e60146d770f41c80b4d\r\n",
      "Successfully built pyspark\r\n",
      "Installing collected packages: py4j, pyspark\r\n",
      "Successfully installed py4j-0.10.9.5 pyspark-3.2.4\r\n"
     ]
    }
   ],
   "source": [
    "!pip install pyspark"
   ],
   "metadata": {
    "collapsed": false,
    "ExecuteTime": {
     "end_time": "2023-11-20T10:21:44.303021511Z",
     "start_time": "2023-11-20T10:20:46.277120886Z"
    }
   },
   "id": "e1c20b4f25549dc2"
  },
  {
   "cell_type": "code",
   "execution_count": 3,
   "outputs": [
    {
     "name": "stdout",
     "output_type": "stream",
     "text": [
      "Requirement already satisfied: pyspark in ./venv/lib/python3.6/site-packages (3.2.4)\r\n",
      "Requirement already satisfied: py4j==0.10.9.5 in ./venv/lib/python3.6/site-packages (from pyspark) (0.10.9.5)\r\n"
     ]
    }
   ],
   "source": [
    "!pip install pyspark"
   ],
   "metadata": {
    "collapsed": false,
    "ExecuteTime": {
     "end_time": "2023-11-20T10:24:03.632926162Z",
     "start_time": "2023-11-20T10:24:01.224188006Z"
    }
   },
   "id": "6e15a20c182c19b9"
  },
  {
   "cell_type": "code",
   "execution_count": 9,
   "outputs": [],
   "source": [
    "from pyspark.sql import SparkSession"
   ],
   "metadata": {
    "collapsed": false,
    "ExecuteTime": {
     "end_time": "2023-11-20T10:30:52.310357996Z",
     "start_time": "2023-11-20T10:30:52.272639555Z"
    }
   },
   "id": "6bfe0bfd199ff385"
  },
  {
   "cell_type": "markdown",
   "source": [],
   "metadata": {
    "collapsed": false
   },
   "id": "6d62b765e2e74220"
  },
  {
   "cell_type": "markdown",
   "source": [],
   "metadata": {
    "collapsed": false
   },
   "id": "46105547dd7e4dc9"
  },
  {
   "cell_type": "code",
   "execution_count": 11,
   "outputs": [],
   "source": [
    "from pyspark.sql.functions import *"
   ],
   "metadata": {
    "collapsed": false,
    "ExecuteTime": {
     "end_time": "2023-11-20T10:32:00.036714761Z",
     "start_time": "2023-11-20T10:31:59.992271097Z"
    }
   },
   "id": "859572a5de3ab3d7"
  },
  {
   "cell_type": "code",
   "execution_count": 16,
   "outputs": [],
   "source": [
    "spark = SparkSession.builder.appName('GK').getOrCreate()"
   ],
   "metadata": {
    "collapsed": false,
    "ExecuteTime": {
     "end_time": "2023-11-20T10:41:28.335364839Z",
     "start_time": "2023-11-20T10:41:28.263759673Z"
    }
   },
   "id": "1b558bdc8b6813e"
  },
  {
   "cell_type": "code",
   "execution_count": 17,
   "outputs": [
    {
     "data": {
      "text/plain": "<pyspark.sql.session.SparkSession at 0x7fa743924eb8>",
      "text/html": "\n            <div>\n                <p><b>SparkSession - in-memory</b></p>\n                \n        <div>\n            <p><b>SparkContext</b></p>\n\n            <p><a href=\"http://cdhserver:4040\">Spark UI</a></p>\n\n            <dl>\n              <dt>Version</dt>\n                <dd><code>v3.2.4</code></dd>\n              <dt>Master</dt>\n                <dd><code>local[*]</code></dd>\n              <dt>AppName</dt>\n                <dd><code>GK</code></dd>\n            </dl>\n        </div>\n        \n            </div>\n        "
     },
     "execution_count": 17,
     "metadata": {},
     "output_type": "execute_result"
    }
   ],
   "source": [
    "spark\n",
    " "
   ],
   "metadata": {
    "collapsed": false,
    "ExecuteTime": {
     "end_time": "2023-11-20T10:41:31.040661274Z",
     "start_time": "2023-11-20T10:41:30.995809239Z"
    }
   },
   "id": "526dfff26a9e01c8"
  },
  {
   "cell_type": "code",
   "execution_count": 18,
   "outputs": [],
   "source": [
    "df1=spark.read.csv('/home/labuser/Downloads/Automobile.csv')"
   ],
   "metadata": {
    "collapsed": false,
    "ExecuteTime": {
     "end_time": "2023-11-20T10:44:27.565782857Z",
     "start_time": "2023-11-20T10:44:19.885561627Z"
    }
   },
   "id": "de787752e88b38f9"
  },
  {
   "cell_type": "code",
   "execution_count": 21,
   "outputs": [
    {
     "data": {
      "text/plain": "DataFrame[_c0: string, _c1: string, _c2: string, _c3: string, _c4: string, _c5: string]"
     },
     "execution_count": 21,
     "metadata": {},
     "output_type": "execute_result"
    }
   ],
   "source": [
    "df1"
   ],
   "metadata": {
    "collapsed": false,
    "ExecuteTime": {
     "end_time": "2023-11-20T10:46:29.360698557Z",
     "start_time": "2023-11-20T10:46:29.245579447Z"
    }
   },
   "id": "2c75b32d293d93e9"
  },
  {
   "cell_type": "code",
   "execution_count": 22,
   "outputs": [
    {
     "name": "stdout",
     "output_type": "stream",
     "text": [
      "+-----------+-----------+------+------+-------+-------+\n",
      "|        _c0|        _c1|   _c2|   _c3|    _c4|    _c5|\n",
      "+-----------+-----------+------+------+-------+-------+\n",
      "|    company| body-style|length|engine|mileage|sunroof|\n",
      "|alfa-romero|convertible| 168.8|  dohc|     21|     No|\n",
      "|alfa-romero|  hatchback| 171.2|  dohc|     19|     No|\n",
      "|       audi|      sedan| 176.6|   ohc|     24|    Yes|\n",
      "|       audi|      sedan| 176.6|  None|     18|    Yes|\n",
      "|       audi|      sedan| 177.3|   ohc|     19|    Yes|\n",
      "|       audi|      wagon| 192.7|   ohc|     19|    Yes|\n",
      "|        bmw|      sedan| 176.8|   ohc|     23|    Yes|\n",
      "|        bmw|      sedan| 176.8|   ohc|     23|    Yes|\n",
      "|        bmw|      sedan| 176.8|   ohc|     21|    Yes|\n",
      "|        bmw|      sedan|   189|   ohc|     16|    Yes|\n",
      "|        bmw|      sedan| 193.8|   ohc|     16|    Yes|\n",
      "|        bmw|      sedan|   197|   ohc|     15|    Yes|\n",
      "|  chevrolet|  hatchback| 141.1|   ohc|     47|     No|\n",
      "|  chevrolet|  hatchback| 155.9|   ohc|     38|     No|\n",
      "|  chevrolet|      sedan| 158.8|   ohc|     38|     No|\n",
      "|      dodge|  hatchback| 157.3|   ohc|     31|     No|\n",
      "|      dodge|  hatchback| 157.3|   ohc|     31|     No|\n",
      "|      honda|      wagon| 157.1|   ohc|     30|     No|\n",
      "|      honda|      sedan| 175.4|   ohc|     24|     No|\n",
      "+-----------+-----------+------+------+-------+-------+\n"
     ]
    }
   ],
   "source": [
    "df1.show()"
   ],
   "metadata": {
    "collapsed": false,
    "ExecuteTime": {
     "end_time": "2023-11-20T10:46:30.389485839Z",
     "start_time": "2023-11-20T10:46:29.806762780Z"
    }
   },
   "id": "7a02e03dbbe3ee47"
  },
  {
   "cell_type": "code",
   "execution_count": 24,
   "outputs": [],
   "source": [
    "df2=spark.read.option('header','True').csv('/home/labuser/Downloads/Automobile.csv')"
   ],
   "metadata": {
    "collapsed": false,
    "ExecuteTime": {
     "end_time": "2023-11-20T10:52:35.017378871Z",
     "start_time": "2023-11-20T10:52:34.006467715Z"
    }
   },
   "id": "85c5ec841aee3563"
  },
  {
   "cell_type": "code",
   "execution_count": 25,
   "outputs": [
    {
     "data": {
      "text/plain": "DataFrame[company: string, body-style: string, length: string, engine: string, mileage: string, sunroof: string]"
     },
     "execution_count": 25,
     "metadata": {},
     "output_type": "execute_result"
    }
   ],
   "source": [
    "df2"
   ],
   "metadata": {
    "collapsed": false,
    "ExecuteTime": {
     "end_time": "2023-11-20T10:52:39.193316638Z",
     "start_time": "2023-11-20T10:52:39.071667159Z"
    }
   },
   "id": "743ae0af060c463d"
  },
  {
   "cell_type": "code",
   "execution_count": 28,
   "outputs": [
    {
     "name": "stdout",
     "output_type": "stream",
     "text": [
      "<class 'pyspark.sql.dataframe.DataFrame'>\n"
     ]
    }
   ],
   "source": [
    "print(type(df1))"
   ],
   "metadata": {
    "collapsed": false,
    "ExecuteTime": {
     "end_time": "2023-11-20T10:54:34.498773402Z",
     "start_time": "2023-11-20T10:54:34.387288315Z"
    }
   },
   "id": "bae0b0479ced5f72"
  },
  {
   "cell_type": "code",
   "execution_count": 29,
   "outputs": [
    {
     "name": "stdout",
     "output_type": "stream",
     "text": [
      "<class 'pyspark.sql.dataframe.DataFrame'>\n"
     ]
    }
   ],
   "source": [
    "print(type(df2))"
   ],
   "metadata": {
    "collapsed": false,
    "ExecuteTime": {
     "end_time": "2023-11-20T10:54:48.534662711Z",
     "start_time": "2023-11-20T10:54:48.435057790Z"
    }
   },
   "id": "2e9e8ba0d31defaa"
  },
  {
   "cell_type": "code",
   "execution_count": 30,
   "outputs": [
    {
     "name": "stdout",
     "output_type": "stream",
     "text": [
      "+-----------+-----------+------+------+-------+-------+\n",
      "|    company| body-style|length|engine|mileage|sunroof|\n",
      "+-----------+-----------+------+------+-------+-------+\n",
      "|alfa-romero|convertible| 168.8|  dohc|     21|     No|\n",
      "|alfa-romero|  hatchback| 171.2|  dohc|     19|     No|\n",
      "|       audi|      sedan| 176.6|   ohc|     24|    Yes|\n",
      "|       audi|      sedan| 176.6|  None|     18|    Yes|\n",
      "|       audi|      sedan| 177.3|   ohc|     19|    Yes|\n",
      "|       audi|      wagon| 192.7|   ohc|     19|    Yes|\n",
      "|        bmw|      sedan| 176.8|   ohc|     23|    Yes|\n",
      "|        bmw|      sedan| 176.8|   ohc|     23|    Yes|\n",
      "|        bmw|      sedan| 176.8|   ohc|     21|    Yes|\n",
      "|        bmw|      sedan|   189|   ohc|     16|    Yes|\n",
      "|        bmw|      sedan| 193.8|   ohc|     16|    Yes|\n",
      "|        bmw|      sedan|   197|   ohc|     15|    Yes|\n",
      "|  chevrolet|  hatchback| 141.1|   ohc|     47|     No|\n",
      "|  chevrolet|  hatchback| 155.9|   ohc|     38|     No|\n",
      "|  chevrolet|      sedan| 158.8|   ohc|     38|     No|\n",
      "|      dodge|  hatchback| 157.3|   ohc|     31|     No|\n",
      "|      dodge|  hatchback| 157.3|   ohc|     31|     No|\n",
      "|      honda|      wagon| 157.1|   ohc|     30|     No|\n",
      "|      honda|      sedan| 175.4|   ohc|     24|     No|\n",
      "|      honda|      sedan| 169.1|   ohc|     25|     No|\n",
      "+-----------+-----------+------+------+-------+-------+\n"
     ]
    }
   ],
   "source": [
    "df2.show()"
   ],
   "metadata": {
    "collapsed": false,
    "ExecuteTime": {
     "end_time": "2023-11-20T10:55:12.501525286Z",
     "start_time": "2023-11-20T10:55:12.206918064Z"
    }
   },
   "id": "8dfc601a9f0c1e18"
  },
  {
   "cell_type": "code",
   "execution_count": 40,
   "outputs": [
    {
     "data": {
      "text/plain": "Row(company='alfa-romero', body-style='convertible', length='168.8', engine='dohc', mileage='21', sunroof='No')"
     },
     "execution_count": 40,
     "metadata": {},
     "output_type": "execute_result"
    }
   ],
   "source": [
    "df2.head()"
   ],
   "metadata": {
    "collapsed": false,
    "ExecuteTime": {
     "end_time": "2023-11-20T10:59:56.949432640Z",
     "start_time": "2023-11-20T10:59:56.744104222Z"
    }
   },
   "id": "d584e049dd3d3aea"
  },
  {
   "cell_type": "code",
   "execution_count": 39,
   "outputs": [
    {
     "ename": "TypeError",
     "evalue": "corr() missing 2 required positional arguments: 'col1' and 'col2'",
     "output_type": "error",
     "traceback": [
      "\u001B[0;31m---------------------------------------------------------------------------\u001B[0m",
      "\u001B[0;31mTypeError\u001B[0m                                 Traceback (most recent call last)",
      "\u001B[0;32m<ipython-input-39-e0c6714eb3b3>\u001B[0m in \u001B[0;36m<module>\u001B[0;34m\u001B[0m\n\u001B[0;32m----> 1\u001B[0;31m \u001B[0mdf2\u001B[0m\u001B[0;34m.\u001B[0m\u001B[0mcorr\u001B[0m\u001B[0;34m(\u001B[0m\u001B[0;34m)\u001B[0m\u001B[0;34m\u001B[0m\u001B[0;34m\u001B[0m\u001B[0m\n\u001B[0m",
      "\u001B[0;31mTypeError\u001B[0m: corr() missing 2 required positional arguments: 'col1' and 'col2'"
     ]
    }
   ],
   "source": [
    "df2.corr()"
   ],
   "metadata": {
    "collapsed": false,
    "ExecuteTime": {
     "end_time": "2023-11-20T10:59:30.263590489Z",
     "start_time": "2023-11-20T10:59:30.214394234Z"
    }
   },
   "id": "7898f177c6b2c90a"
  },
  {
   "cell_type": "code",
   "execution_count": 41,
   "outputs": [
    {
     "data": {
      "text/plain": "[Row(company='alfa-romero', body-style='convertible', length='168.8', engine='dohc', mileage='21', sunroof='No'),\n Row(company='alfa-romero', body-style='hatchback', length='171.2', engine='dohc', mileage='19', sunroof='No'),\n Row(company='audi', body-style='sedan', length='176.6', engine='ohc', mileage='24', sunroof='Yes'),\n Row(company='audi', body-style='sedan', length='176.6', engine='None', mileage='18', sunroof='Yes'),\n Row(company='audi', body-style='sedan', length='177.3', engine='ohc', mileage='19', sunroof='Yes'),\n Row(company='audi', body-style='wagon', length='192.7', engine='ohc', mileage='19', sunroof='Yes'),\n Row(company='bmw', body-style='sedan', length='176.8', engine='ohc', mileage='23', sunroof='Yes'),\n Row(company='bmw', body-style='sedan', length='176.8', engine='ohc', mileage='23', sunroof='Yes'),\n Row(company='bmw', body-style='sedan', length='176.8', engine='ohc', mileage='21', sunroof='Yes'),\n Row(company='bmw', body-style='sedan', length='189', engine='ohc', mileage='16', sunroof='Yes'),\n Row(company='bmw', body-style='sedan', length='193.8', engine='ohc', mileage='16', sunroof='Yes'),\n Row(company='bmw', body-style='sedan', length='197', engine='ohc', mileage='15', sunroof='Yes'),\n Row(company='chevrolet', body-style='hatchback', length='141.1', engine='ohc', mileage='47', sunroof='No'),\n Row(company='chevrolet', body-style='hatchback', length='155.9', engine='ohc', mileage='38', sunroof='No'),\n Row(company='chevrolet', body-style='sedan', length='158.8', engine='ohc', mileage='38', sunroof='No'),\n Row(company='dodge', body-style='hatchback', length='157.3', engine='ohc', mileage='31', sunroof='No'),\n Row(company='dodge', body-style='hatchback', length='157.3', engine='ohc', mileage='31', sunroof='No'),\n Row(company='honda', body-style='wagon', length='157.1', engine='ohc', mileage='30', sunroof='No'),\n Row(company='honda', body-style='sedan', length='175.4', engine='ohc', mileage='24', sunroof='No'),\n Row(company='honda', body-style='sedan', length='169.1', engine='ohc', mileage='25', sunroof='No'),\n Row(company='isuzu', body-style='sedan', length='170.7', engine='ohc', mileage='24', sunroof='No'),\n Row(company='isuzu', body-style='sedan', length='155.9', engine='ohc', mileage='38', sunroof='No'),\n Row(company='isuzu', body-style='sedan', length='155.9', engine='ohc', mileage='38', sunroof='No'),\n Row(company='jaguar', body-style='sedan', length='199.6', engine='dohc', mileage='15', sunroof='Yes'),\n Row(company='jaguar', body-style='sedan', length='199.6', engine='dohc', mileage='15', sunroof='Yes'),\n Row(company='jaguar', body-style='sedan', length='191.7', engine='ohcv', mileage='13', sunroof='Yes'),\n Row(company='mazda', body-style='hatchback', length='159.1', engine='ohc', mileage='30', sunroof='Yes'),\n Row(company='mazda', body-style='hatchback', length='159.1', engine='ohc', mileage='31', sunroof='Yes'),\n Row(company='mazda', body-style='hatchback', length='159.1', engine='ohc', mileage='31', sunroof='Yes'),\n Row(company='mazda', body-style='hatchback', length='169', engine='rotor', mileage='17', sunroof='Yes'),\n Row(company='mazda', body-style='sedan', length='175', engine='ohc', mileage='31', sunroof='Yes'),\n Row(company='mercedes-benz', body-style='sedan', length='190.9', engine='ohc', mileage='22', sunroof='Yes'),\n Row(company='mercedes-benz', body-style='wagon', length='190.9', engine='ohc', mileage='22', sunroof='Yes'),\n Row(company='mercedes-benz', body-style='sedan', length='208.1', engine='ohcv', mileage='14', sunroof='Yes'),\n Row(company='mercedes-benz', body-style='hardtop', length='199.2', engine='ohcv', mileage='14', sunroof='Yes'),\n Row(company='mitsubishi', body-style='hatchback', length='157.3', engine='ohc', mileage='37', sunroof='Yes'),\n Row(company='mitsubishi', body-style='hatchback', length='157.3', engine='ohc', mileage='31', sunroof='Yes'),\n Row(company='mitsubishi', body-style='sedan', length='172.4', engine='ohc', mileage='25', sunroof='Yes'),\n Row(company='mitsubishi', body-style='sedan', length='172.4', engine='ohc', mileage='25', sunroof='Yes'),\n Row(company='nissan', body-style='sedan', length='165.3', engine='ohc', mileage='45', sunroof='No'),\n Row(company='nissan', body-style='sedan', length='165.3', engine='ohc', mileage='31', sunroof='No'),\n Row(company='nissan', body-style='sedan', length='165.3', engine='ohc', mileage='31', sunroof='No'),\n Row(company='nissan', body-style='wagon', length='170.2', engine='ohc', mileage='31', sunroof='No'),\n Row(company='nissan', body-style='sedan', length='184.6', engine='ohcv', mileage='19', sunroof='No'),\n Row(company='porsche', body-style='hardtop', length='168.9', engine='ohcf', mileage='17', sunroof='Yes'),\n Row(company='porsche', body-style='convertible', length='168.9', engine='ohcf', mileage='17', sunroof='Yes'),\n Row(company='porsche', body-style='hatchback', length='175.7', engine='dohcv', mileage='17', sunroof='Yes'),\n Row(company='toyota', body-style='hatchback', length='158.7', engine='ohc', mileage='35', sunroof='No'),\n Row(company='toyota', body-style='hatchback', length='158.7', engine='ohc', mileage='31', sunroof='No'),\n Row(company='toyota', body-style='hatchback', length='158.7', engine='ohc', mileage='31', sunroof='No'),\n Row(company='toyota', body-style='wagon', length='169.7', engine='ohc', mileage='31', sunroof='No'),\n Row(company='toyota', body-style='wagon', length='169.7', engine='ohc', mileage='27', sunroof='No'),\n Row(company='toyota', body-style='wagon', length='169.7', engine='ohc', mileage='27', sunroof='No'),\n Row(company='toyota', body-style='wagon', length='187.8', engine='dohc', mileage='19', sunroof='No'),\n Row(company='volkswagen', body-style='sedan', length='171.7', engine='ohc', mileage='37', sunroof='Yes'),\n Row(company='volkswagen', body-style='sedan', length='171.7', engine='ohc', mileage='27', sunroof='Yes'),\n Row(company='volkswagen', body-style='sedan', length='171.7', engine='ohc', mileage='37', sunroof='Yes'),\n Row(company='volkswagen', body-style='sedan', length='171.7', engine='ohc', mileage='26', sunroof='Yes'),\n Row(company='volvo', body-style='sedan', length='188.8', engine='ohc', mileage='23', sunroof='No'),\n Row(company='volvo', body-style='wagon', length='188.8', engine='ohc', mileage='23', sunroof='No')]"
     },
     "execution_count": 41,
     "metadata": {},
     "output_type": "execute_result"
    }
   ],
   "source": [
    "df2.collect()"
   ],
   "metadata": {
    "collapsed": false,
    "ExecuteTime": {
     "end_time": "2023-11-20T11:00:34.043760828Z",
     "start_time": "2023-11-20T11:00:33.593205047Z"
    }
   },
   "id": "86c8f0754fb11469"
  },
  {
   "cell_type": "code",
   "execution_count": 42,
   "outputs": [
    {
     "data": {
      "text/plain": "[Row(company='alfa-romero', body-style='convertible', length='168.8', engine='dohc', mileage='21', sunroof='No'),\n Row(company='alfa-romero', body-style='hatchback', length='171.2', engine='dohc', mileage='19', sunroof='No'),\n Row(company='audi', body-style='sedan', length='176.6', engine='ohc', mileage='24', sunroof='Yes'),\n Row(company='audi', body-style='sedan', length='176.6', engine='None', mileage='18', sunroof='Yes'),\n Row(company='audi', body-style='sedan', length='177.3', engine='ohc', mileage='19', sunroof='Yes')]"
     },
     "execution_count": 42,
     "metadata": {},
     "output_type": "execute_result"
    }
   ],
   "source": [
    "df2.head(5)"
   ],
   "metadata": {
    "collapsed": false,
    "ExecuteTime": {
     "end_time": "2023-11-20T11:01:05.644337010Z",
     "start_time": "2023-11-20T11:01:05.288751923Z"
    }
   },
   "id": "c4c7e68c2898e882"
  },
  {
   "cell_type": "code",
   "execution_count": 44,
   "outputs": [
    {
     "name": "stdout",
     "output_type": "stream",
     "text": [
      "+-----------+-----------+------+------+-------+-------+\n",
      "|    company| body-style|length|engine|mileage|sunroof|\n",
      "+-----------+-----------+------+------+-------+-------+\n",
      "|alfa-romero|convertible| 168.8|  dohc|     21|     No|\n",
      "|alfa-romero|  hatchback| 171.2|  dohc|     19|     No|\n",
      "|       audi|      sedan| 176.6|   ohc|     24|    Yes|\n",
      "|       audi|      sedan| 176.6|  None|     18|    Yes|\n",
      "|       audi|      sedan| 177.3|   ohc|     19|    Yes|\n",
      "|       audi|      wagon| 192.7|   ohc|     19|    Yes|\n",
      "|        bmw|      sedan| 176.8|   ohc|     23|    Yes|\n",
      "|        bmw|      sedan| 176.8|   ohc|     23|    Yes|\n",
      "|        bmw|      sedan| 176.8|   ohc|     21|    Yes|\n",
      "|        bmw|      sedan|   189|   ohc|     16|    Yes|\n",
      "|        bmw|      sedan| 193.8|   ohc|     16|    Yes|\n",
      "|        bmw|      sedan|   197|   ohc|     15|    Yes|\n",
      "|  chevrolet|  hatchback| 141.1|   ohc|     47|     No|\n",
      "|  chevrolet|  hatchback| 155.9|   ohc|     38|     No|\n",
      "|  chevrolet|      sedan| 158.8|   ohc|     38|     No|\n",
      "|      dodge|  hatchback| 157.3|   ohc|     31|     No|\n",
      "|      dodge|  hatchback| 157.3|   ohc|     31|     No|\n",
      "|      honda|      wagon| 157.1|   ohc|     30|     No|\n",
      "|      honda|      sedan| 175.4|   ohc|     24|     No|\n",
      "|      honda|      sedan| 169.1|   ohc|     25|     No|\n",
      "+-----------+-----------+------+------+-------+-------+\n"
     ]
    },
    {
     "ename": "AttributeError",
     "evalue": "'NoneType' object has no attribute 'tail'",
     "output_type": "error",
     "traceback": [
      "\u001B[0;31m---------------------------------------------------------------------------\u001B[0m",
      "\u001B[0;31mAttributeError\u001B[0m                            Traceback (most recent call last)",
      "\u001B[0;32m<ipython-input-44-560e49acd929>\u001B[0m in \u001B[0;36m<module>\u001B[0;34m\u001B[0m\n\u001B[0;32m----> 1\u001B[0;31m \u001B[0mdf2\u001B[0m\u001B[0;34m.\u001B[0m\u001B[0mshow\u001B[0m\u001B[0;34m(\u001B[0m\u001B[0;34m)\u001B[0m\u001B[0;34m.\u001B[0m\u001B[0mtail\u001B[0m\u001B[0;34m(\u001B[0m\u001B[0;36m5\u001B[0m\u001B[0;34m)\u001B[0m\u001B[0;34m\u001B[0m\u001B[0;34m\u001B[0m\u001B[0m\n\u001B[0m",
      "\u001B[0;31mAttributeError\u001B[0m: 'NoneType' object has no attribute 'tail'"
     ]
    }
   ],
   "source": [
    "df2.tail(5)"
   ],
   "metadata": {
    "collapsed": false,
    "ExecuteTime": {
     "end_time": "2023-11-20T11:02:02.158891605Z",
     "start_time": "2023-11-20T11:02:01.874459733Z"
    }
   },
   "id": "e63bcbdc52c7563a"
  },
  {
   "cell_type": "code",
   "execution_count": 47,
   "outputs": [],
   "source": [
    "spark = SparkSession.builder.appName('ltiGK').getOrCreate()"
   ],
   "metadata": {
    "collapsed": false,
    "ExecuteTime": {
     "end_time": "2023-11-20T11:22:47.678481714Z",
     "start_time": "2023-11-20T11:22:47.636020079Z"
    }
   },
   "id": "53dfc68a6209ca97"
  },
  {
   "cell_type": "code",
   "execution_count": 51,
   "outputs": [
    {
     "data": {
      "text/plain": "<pyspark.sql.session.SparkSession at 0x7fa743924eb8>",
      "text/html": "\n            <div>\n                <p><b>SparkSession - in-memory</b></p>\n                \n        <div>\n            <p><b>SparkContext</b></p>\n\n            <p><a href=\"http://cdhserver:4040\">Spark UI</a></p>\n\n            <dl>\n              <dt>Version</dt>\n                <dd><code>v3.2.4</code></dd>\n              <dt>Master</dt>\n                <dd><code>local[*]</code></dd>\n              <dt>AppName</dt>\n                <dd><code>GK</code></dd>\n            </dl>\n        </div>\n        \n            </div>\n        "
     },
     "execution_count": 51,
     "metadata": {},
     "output_type": "execute_result"
    }
   ],
   "source": [
    "spark"
   ],
   "metadata": {
    "collapsed": false,
    "ExecuteTime": {
     "end_time": "2023-11-20T11:30:10.882711654Z",
     "start_time": "2023-11-20T11:30:10.806694706Z"
    }
   },
   "id": "db4c306782c1331b"
  },
  {
   "cell_type": "code",
   "execution_count": null,
   "outputs": [],
   "source": [],
   "metadata": {
    "collapsed": false
   },
   "id": "94b6aba016f685f4"
  }
 ],
 "metadata": {
  "kernelspec": {
   "display_name": "Python 3",
   "language": "python",
   "name": "python3"
  },
  "language_info": {
   "codemirror_mode": {
    "name": "ipython",
    "version": 2
   },
   "file_extension": ".py",
   "mimetype": "text/x-python",
   "name": "python",
   "nbconvert_exporter": "python",
   "pygments_lexer": "ipython2",
   "version": "2.7.6"
  }
 },
 "nbformat": 4,
 "nbformat_minor": 5
}
