{
 "cells": [
  {
   "cell_type": "markdown",
   "metadata": {},
   "source": [
    "# INTRODUCTION TO PYTHON FINAL EXAM"
   ]
  },
  {
   "cell_type": "markdown",
   "metadata": {},
   "source": [
    "# SECTION A: 20 MARKS"
   ]
  },
  {
   "cell_type": "markdown",
   "metadata": {},
   "source": [
    " _________________"
   ]
  },
  {
   "cell_type": "markdown",
   "metadata": {},
   "source": [
    "### 1.An Ecommerce portal has a list of items available with them in each category (inventory) in the form of the list within the Dictionary.    \n",
    "(10 marks)\n",
    "\n",
    "For example Inventory= {'Men': ['Shirt','Suit','Trouser','Jeans'], \n",
    "\n",
    "'Women': ['Saree','Dress_suit','Handbag','Jewellery'],\n",
    "\n",
    "'Home_appliances': ['TV','Refrigerator'],\n",
    "\n",
    "'Kids':['Toys','Bags','Books']}\n",
    "\n",
    "\n",
    "Write a program which will take the name of an item, the user wants to buy and search it in the inventory. if it’s found in the inventory then print a message like 'item is available'. otherwise ask the user 'Would you like to continue buying: yes or no'. If the user gives 'yes ' then repeat searching in the inventory otherwise program should stop the execution.\n"
   ]
  },
  {
   "cell_type": "code",
   "execution_count": null,
   "metadata": {},
   "outputs": [],
   "source": []
  },
  {
   "cell_type": "markdown",
   "metadata": {
    "colab_type": "text",
    "id": "AFvBMKAy4WnP"
   },
   "source": [
    "### 2. Write a Python program which calculates the area of various geometrical figures as given below:  (5 marks) \n",
    " \n",
    " The program should ask the user about the geometrical figure for which he wants to calculate the area. Take the inputs accordingly and calculate the area. (units/metrics like mm, cm can be included as per the programmer’s choice)\n",
    "  \n",
    " \n",
    " 1. the formula to calculate the area of a square is Area= (Side of a square)**2\n",
    " \n",
    " 2. The formula to calculate the area of a circle is Area=(pi)*(radius)**2\n",
    " \n",
    " 3. The formula to calculate the area of a triangle is Area=0.5*Base *Height\n",
    " \n",
    " 4. The formula to calculate area of a cylinder is Area=2*pi*radius*height+2*pi*(radius**2)\n",
    "  \n",
    "  \n",
    " SAMPLE INPUT AND OUTPUT:\n",
    " \n",
    " Please enter the name of the geometrical figure for which you want to calculate the area CYLINDER\n",
    " \n",
    " Enter the radius of a cylinder = 3\n",
    " \n",
    " Enter the height of a cylinder = 5\n",
    "\n",
    "The area of the cylinder 150.72"
   ]
  },
  {
   "cell_type": "code",
   "execution_count": null,
   "metadata": {},
   "outputs": [],
   "source": []
  },
  {
   "cell_type": "markdown",
   "metadata": {},
   "source": [
    "### 3.\tCreate a dictionary with a single alphabet as the key and an integer as the corresponding value. Write a program to find out the highest 3 values in the dictionary. You are free to choose any number of key and value pairs. Innovative code gets more marks as an advantage (5 MARKS)\n",
    "\n",
    "**SAMPLE INPUT:**\t\n",
    "\n",
    "Initial Dictionary:                  \n",
    "\n",
    "{'A': 67, 'B': 23, 'C': 45, 'D': 56, 'E': 12, 'F': 69}\t          \n",
    "\n",
    "**SAMPLE OUTPUT:**\n",
    "\n",
    "Keys: Values\n",
    "F: 69     \n",
    "A: 67      \n",
    "D: 56\n"
   ]
  },
  {
   "cell_type": "code",
   "execution_count": null,
   "metadata": {},
   "outputs": [],
   "source": []
  },
  {
   "cell_type": "markdown",
   "metadata": {},
   "source": [
    "# SECTION B: 20 MARKS"
   ]
  },
  {
   "cell_type": "markdown",
   "metadata": {},
   "source": [
    "---------------------"
   ]
  },
  {
   "cell_type": "markdown",
   "metadata": {},
   "source": [
    "### 4 We are given a set of n items. Each item i has a weight w(i) and a value v(i) where 0 <= i < n. We are given a maximum capacity of a bag B. The problem is to find what all items we should take such that the total weight does not exceed w and the total value is maximized. (10 Marks)\n",
    " \n",
    " Step1: Take the following inputs from User\n",
    "  Number of items (n)\n",
    " Maximum capacity of the bag (w)\n",
    " Take weight and value for all 'n' items\n",
    " \n",
    " Step 2: Maintain a Nested list (item_list) of all items [weight, value, profit/weight]\n",
    " \n",
    " Step 3: Sort this list(item_list) according to ratio Profit/Weight of each item\n",
    " \n",
    " Step 4: Display the items weight and their value in such a way that after adding them in a bag of capacity 'w’, Total weight of the bag should not get exceeded by 'w'\n",
    "  \n",
    " Sample Input:\n",
    " \n",
    " Enter the number of items : 3\n",
    " \n",
    " Enter the capacity of the bag: 10\n",
    " \n",
    " enter weights for item 1 : 3\n",
    " \n",
    " enter Profit for item 1: 2\n",
    " \n",
    " enter weights for item 2: 4\n",
    " \n",
    " enter Profit for item 2: 10\n",
    " \n",
    " enter weights for item 3: 5\n",
    " \n",
    " enter Profit for item 3: 20\n",
    " \n",
    " \n",
    " Sample Output:\n",
    " \n",
    " Added Weight 5 with Profit 20 in bag\n",
    " \n",
    " Added Weight 4 with Profit 10 in bag"
   ]
  },
  {
   "cell_type": "code",
   "execution_count": null,
   "metadata": {},
   "outputs": [],
   "source": []
  },
  {
   "cell_type": "markdown",
   "metadata": {},
   "source": [
    "### 5. You are a teacher and playing a \"word guessing game\" with students. You choose six words relating to recent conversational themes and write sets of clues to help students. Student get 3 chances to guess the three letters word given below (10 marks)\n",
    " \n",
    " Create a word set=[\"cat\", \"hat\", \"pop\", \"sea\", \"row\", \"cup\"] \n",
    " \n",
    " like and take user input display like \"Let's play a word guessing game . The word has 3 letters in it. You get 3 guesses. Guess a letter \" if you guess correct it will display\n",
    " \n",
    " Great Guess!\n",
    " \n",
    " You got it!\n",
    " \n",
    " The word was a cat. Thanks for playing!\n",
    " \n",
    " \n",
    " Exiting\n",
    " \n",
    " If your guess wrongly your code will ask three times to guess the word as shown in the below example\n",
    " \n",
    " Sorry, try again. was\n",
    " \n",
    " Sorry, try again. the\n",
    " \n",
    " Sorry, try again. are\n",
    " \n",
    " Exiting"
   ]
  },
  {
   "cell_type": "code",
   "execution_count": null,
   "metadata": {},
   "outputs": [],
   "source": []
  },
  {
   "cell_type": "markdown",
   "metadata": {},
   "source": [
    "# SECTION C: 30 MARKS"
   ]
  },
  {
   "cell_type": "markdown",
   "metadata": {},
   "source": [
    " _________________"
   ]
  },
  {
   "cell_type": "markdown",
   "metadata": {},
   "source": [
    "### 6.Find the \"he\" in given below story and also count of 'he': (15 Marks)\n",
    "    \n",
    "**Input:** There was an old owl that lived in an oak. Every day he saw incidents happening around him. Yesterday he saw a boy helping an old man to carry a heavy basket. Today he saw a girl shouting at her mother. The more he saw the less he spoke. As he spoke less, he heard more. He heard people talking and telling stories. He heard a woman saying that an elephant jumped over a fence. He also heard a man saying that he had never made a mistake. The old owl had seen and heard about what happened to people. Some became better and some became worse. But the old owl had become wiser each and every day.\n"
   ]
  },
  {
   "cell_type": "markdown",
   "metadata": {},
   "source": [
    "**Output:** where he appears is indicated below ... there were:22:Instance\n",
    "\n",
    "T[he]re was an old owl that lived in an oak. Every day [he] saw incidents happening around him. Yesterday [he] saw a boy [he]lping an old man to carry a [he]avy basket. Today [he] saw a girl shouting at [he]r mot[he]r. T[he] more [he] saw t[he] less [he] spoke. As [he] spoke less, [he] [he]ard more. He [he]ard people talking and telling stories. He [he]ard a woman saying that an elephant jumped over a fence. He also [he]ard a man saying that [he] had never made a mistake. T[he] old owl had seen and [he]ard about what happened to people. Some became better and some became worse. But t[he] old owl had become wiser each and every day."
   ]
  },
  {
   "cell_type": "code",
   "execution_count": null,
   "metadata": {},
   "outputs": [],
   "source": []
  },
  {
   "cell_type": "markdown",
   "metadata": {},
   "source": [
    "### 7. You have a company that creates home security technology. Over the past five years, more than one million people have come to you for home security information and recommendations. And you have helped thousands of those people pick the best home security system for their homes. you have to test, research, and compare home security companies based on the factors that matter most when looking at security systems. (15 Marks)\n",
    "  \n",
    "* You have to create list of 10 usernames. It should print the length of the names. The security system robot will introduce itself \"Hi! My name is Bob and I am the security system robot.\" (2 marks)\n",
    " \n",
    "* Create a capitalize function to convert 1st letter of the word into capital letter.(1 marks)\n",
    " \n",
    " Please follow the below guidelines:\n",
    " \n",
    " Step1: Conversation1: If your name not present in the list then \n",
    " follow the below steps.( 6 marks)\n",
    " \n",
    " length of the names 14\n",
    " \n",
    " Hi! My name is Bob and I am the security system robot.\n",
    " \n",
    " What is your name?: sam\n",
    " \n",
    " I think I have not seen you on the list Sam\n",
    " \n",
    " Would you like to be added to the system (yes/no)?: yes\n",
    " \n",
    " Hi! My name is Bob and I am the security system robot.\n",
    " \n",
    " What is your name?: sam\n",
    " \n",
    " Hello Sam!\n",
    " \n",
    " Would you like to be removed from the system (yes/no)?: no\n",
    " \n",
    " No problem, I did not want you to leave anyway.\n",
    " \n",
    " Hi! My name is Bob and I am the security system robot.\n",
    " \n",
    " Step 2: Conversation2: If your name present in the list then  follow below steps. (6 marks)\n",
    " \n",
    " What is your name?: John\n",
    " \n",
    " Hello John!\n",
    " \n",
    " Would you like to be removed from the system (yes/no)?: yes\n",
    " \n",
    " ['rani', 'vani', 'Julia', 'Alice', 'Ela', 'ray', 'sunny', 'John', 'Filip', 'Jakub', 'Kuba', 'Robert', 'Karol', 'Carol']\n",
    " ['rani', 'vani', 'Julia', 'Alice', 'Ela', 'ray', 'sunny', 'Filip', 'Jakub', 'Kuba', 'Robert', 'Karol', 'Carol']\n",
    " \n",
    " Hi! My name is Bob and I am the security system robot.\n",
    " \n",
    " What is your name?: John\n",
    " \n",
    " I think I have not seen you on the list John\n",
    " \n",
    " Would you like to be added to the system (yes/no)?: no\n",
    " \n",
    " No worries. You will not be on the list.\n",
    " \n",
    " \n",
    " Hi! My name is Bob and I am the security system robot.\n",
    " \n",
    " Note: This program continue loop"
   ]
  },
  {
   "cell_type": "code",
   "execution_count": null,
   "metadata": {},
   "outputs": [],
   "source": []
  }
 ],
 "metadata": {
  "colab": {
   "collapsed_sections": [],
   "name": "ITP_MID_1.ipynb",
   "provenance": []
  },
  "kernelspec": {
   "display_name": "Python 3",
   "language": "python",
   "name": "python3"
  },
  "language_info": {
   "codemirror_mode": {
    "name": "ipython",
    "version": 3
   },
   "file_extension": ".py",
   "mimetype": "text/x-python",
   "name": "python",
   "nbconvert_exporter": "python",
   "pygments_lexer": "ipython3",
   "version": "3.7.4"
  }
 },
 "nbformat": 4,
 "nbformat_minor": 1
}
