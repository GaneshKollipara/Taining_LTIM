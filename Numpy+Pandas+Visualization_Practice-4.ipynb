{
 "cells": [
  {
   "cell_type": "markdown",
   "metadata": {
    "id": "MAqv6aTWW0ce"
   },
   "source": [
    "# NPV FINAL EXAM"
   ]
  },
  {
   "cell_type": "markdown",
   "metadata": {
    "id": "9O__loLwW0cp"
   },
   "source": [
    "# SECTION A: 20 MARKS"
   ]
  },
  {
   "cell_type": "markdown",
   "metadata": {
    "id": "7xtvJfT3W0cq"
   },
   "source": [
    " _________________"
   ]
  },
  {
   "cell_type": "markdown",
   "metadata": {
    "id": "RFUYyTviys-M"
   },
   "source": [
    "### 1.\tWrite a Program to\n",
    "\n",
    "A.\tCreate an array of even integers from 10 to 60 including both. (1 MARKS)\n",
    "\n",
    "B.\tGenerate a random number between 1 to 20. (1 MARKS)\n",
    "\n",
    "C.\tCompare the array created in A with the random number created in B and print all the numbers greater than the random     number. (1 MARKS)\n",
    "\n",
    "D.\tDisplay the sum of first and last element in the array created in Q A. (1 MARKS)\n",
    "\n",
    "E.\tConvert the array (Created in Q A.) into 2-D matrix. (1 MARKS)\n"
   ]
  },
  {
   "cell_type": "markdown",
   "metadata": {
    "id": "kuAkPoVLys-N"
   },
   "source": [
    "#### A.\tCreate an array of even integers from 10 to 60 including both. (1 MARKS)"
   ]
  },
  {
   "cell_type": "code",
   "execution_count": null,
   "metadata": {},
   "outputs": [],
   "source": []
  },
  {
   "cell_type": "markdown",
   "metadata": {
    "id": "xsopnupIys-R"
   },
   "source": [
    "#### B.\tGenerate a random number between 1 to 20.. (1 MARKS)"
   ]
  },
  {
   "cell_type": "markdown",
   "metadata": {
    "id": "5E5FoItjys-V"
   },
   "source": [
    "#### C.\tCompare the array created in A with the random number created in B and print all the numbers greater than the random number. (1 MARKS)"
   ]
  },
  {
   "cell_type": "markdown",
   "metadata": {
    "id": "Vj1US3GNys-Z"
   },
   "source": [
    "#### D.\tDisplay the sum of first and last element in the array created in Q A.. (1 MARKS)"
   ]
  },
  {
   "cell_type": "markdown",
   "metadata": {
    "id": "cTh79NKhys-c"
   },
   "source": [
    "#### E.\t Convert the array (created in Q A.) into 2-D matrix. (1 MARKS))"
   ]
  },
  {
   "cell_type": "markdown",
   "metadata": {
    "id": "7c3eQl3iys-g"
   },
   "source": [
    "### 2. Write a Program to\n",
    "\n",
    "\n",
    "\n",
    "A. Write a code snippet to create a numpy array 25 of random numbers sampled from a standard normal distribution. Display the contents of the array. (1 Marks) \n",
    " \n",
    "B. Write a code snippet to convert the above array into square matrix.(1 Marks)  \n",
    " \n",
    "C. Write a code snippet to create an identity matrix. And perform multiplication between the array and the identity matrix. (1 Marks) \n",
    " \n",
    "D. Write a code snippet to generate a matrix containing only positive elements. Store the result set in a variable. (1 Marks)\n",
    "\n",
    "E. Write a code snippet to join the matrix resulted from Question A and Question C in such a fashion that the rows resulting from Question C should follow the rows resulting from Question A.   (1 Marks)\n",
    "\n"
   ]
  },
  {
   "cell_type": "markdown",
   "metadata": {
    "id": "GtP9fObGys-g"
   },
   "source": [
    "##### a.Write a code snippet to create a numpy array of 25 random numbers sampled from a standard normal distribution. Display the contents of the array. (1 Marks)"
   ]
  },
  {
   "cell_type": "markdown",
   "metadata": {},
   "source": [
    "##### b.Write a code snippet to convert the above array into square matrix. (1 Marks)"
   ]
  },
  {
   "cell_type": "markdown",
   "metadata": {
    "id": "NrdaddoCys-j"
   },
   "source": [
    "##### c.Write a code snippet to create an identity matrix. And perform multiplication between the array and the identity matrix. (1 Marks) "
   ]
  },
  {
   "cell_type": "markdown",
   "metadata": {
    "ExecuteTime": {
     "end_time": "2021-08-19T07:08:42.495717Z",
     "start_time": "2021-08-19T07:08:42.492315Z"
    }
   },
   "source": [
    "##### d.Write a code snippet to calculate sum of diagonal elements in the matrix in Question C. Store the result in a variable. (1 Marks)"
   ]
  },
  {
   "cell_type": "markdown",
   "metadata": {
    "id": "zCwC6IK_ys-w"
   },
   "source": [
    "##### e. Write a code snippet to join the matrix resulted from Question A and Question C in such a fashion that the rows resulting from Question C should follow the rows resulting from Question A.   (1 Marks)"
   ]
  },
  {
   "cell_type": "markdown",
   "metadata": {
    "id": "XimEppN_ys-z"
   },
   "source": [
    "## 3. Write a Program to\n",
    "\n"
   ]
  },
  {
   "cell_type": "markdown",
   "metadata": {
    "id": "gnnQUJeIys-9"
   },
   "source": [
    "##### a. Write a program to create a dataframe given below and sort the dataframe by Rank (in ascending order)( 2 marks)\n",
    "\n",
    "**Use the dataframe given below:**\n",
    "    \n",
    "<table>\n",
    " <tr>\n",
    " <th>Name</th>\n",
    " <th>Rank</th>\n",
    " </tr>\n",
    " <tr>\n",
    " <td>Joy</td>\n",
    " <td>115</td>\n",
    " </tr>\n",
    " <tr>\n",
    " <td>Mia</td>\n",
    " <td>451</td>\n",
    " </tr>\n",
    " <tr>\n",
    " <td>Karan</td>\n",
    " <td>341</td>\n",
    " </tr>\n",
    " <tr>\n",
    " <td>Tom</td>\n",
    " <td>84</td>\n",
    " </tr>\n",
    "    \n",
    "</table>\n"
   ]
  },
  {
   "cell_type": "code",
   "execution_count": null,
   "metadata": {},
   "outputs": [],
   "source": []
  },
  {
   "cell_type": "markdown",
   "metadata": {
    "id": "5pvu2Tu-ys-_"
   },
   "source": [
    "##### b.Write a program to swap the 1st and 2nd row in a dataframe created in QuestionA. (2 Marks)"
   ]
  },
  {
   "cell_type": "code",
   "execution_count": null,
   "metadata": {},
   "outputs": [],
   "source": []
  },
  {
   "cell_type": "markdown",
   "metadata": {
    "id": "Atzv32Pnys_C",
    "outputId": "e473ed0b-2ef6-421d-cdb1-f10af5ecc979",
    "scrolled": true
   },
   "source": [
    "##### c. Give the index name as 'ID' in the DataFrame above.( 1 Marks)"
   ]
  },
  {
   "cell_type": "code",
   "execution_count": null,
   "metadata": {},
   "outputs": [],
   "source": []
  },
  {
   "cell_type": "markdown",
   "metadata": {
    "id": "CYunADOpys_E"
   },
   "source": [
    "### 4. Create a series of 40 random numbers and transform it into a dataframe containing seven columns and five rows (5 MARKS)"
   ]
  },
  {
   "cell_type": "code",
   "execution_count": null,
   "metadata": {},
   "outputs": [],
   "source": []
  },
  {
   "cell_type": "markdown",
   "metadata": {
    "id": "xH9edu_Mys_G"
   },
   "source": [
    "-------"
   ]
  },
  {
   "cell_type": "markdown",
   "metadata": {
    "id": "gXqnKPeSW0cy"
   },
   "source": [
    "# SECTION B: 20 MARKS"
   ]
  },
  {
   "cell_type": "markdown",
   "metadata": {
    "id": "FsFdOzZmys_H"
   },
   "source": [
    "------------"
   ]
  },
  {
   "cell_type": "markdown",
   "metadata": {
    "id": "5q2VrzPeW0cf"
   },
   "source": [
    "\n",
    "\n",
    "\n",
    "### We combined Two datasets in single CSV file and mention below columns belongs to \n",
    "\n",
    "\n"
   ]
  },
  {
   "cell_type": "raw",
   "metadata": {
    "id": "i_eoMDdTW0cf"
   },
   "source": [
    "### **summer Olympics data** \n",
    "### **Winter Olympics Data**\n",
    "\n",
    " In these two datasets, each entry represents medal won in summer and winter olympics. "
   ]
  },
  {
   "cell_type": "markdown",
   "metadata": {
    "id": "-SvA5w8LW0cg"
   },
   "source": [
    "\n",
    "* Year\n",
    "* City  \n",
    "* Sport\n",
    "* Discipline\n",
    "* Athlete\n",
    "* Country\n",
    "* Gender\n",
    "* Event\n",
    "* Medal"
   ]
  },
  {
   "cell_type": "markdown",
   "metadata": {
    "id": "wm11YbBEys_J"
   },
   "source": [
    "### Dictionary \n",
    "*** dataset contains the 'Country', 'Code', 'Population', 'GDP per Capita' "
   ]
  },
  {
   "cell_type": "markdown",
   "metadata": {
    "id": "BBmeHETBys_J"
   },
   "source": [
    "* Country\n",
    "* Population\t\n",
    "* Code\n",
    "* GDP per Capita\n"
   ]
  },
  {
   "cell_type": "markdown",
   "metadata": {
    "id": "wEgYP9-oW0cg"
   },
   "source": [
    "## Kindly change the below cells from markdown to code and execute it "
   ]
  },
  {
   "cell_type": "markdown",
   "metadata": {
    "id": "l6YnGKTRW0cz"
   },
   "source": [
    " _________________"
   ]
  },
  {
   "cell_type": "code",
   "execution_count": 9,
   "metadata": {
    "ExecuteTime": {
     "end_time": "2021-08-27T05:17:23.771443Z",
     "start_time": "2021-08-27T05:17:23.641335Z"
    }
   },
   "outputs": [
    {
     "data": {
      "text/html": [
       "<div>\n",
       "<style scoped>\n",
       "    .dataframe tbody tr th:only-of-type {\n",
       "        vertical-align: middle;\n",
       "    }\n",
       "\n",
       "    .dataframe tbody tr th {\n",
       "        vertical-align: top;\n",
       "    }\n",
       "\n",
       "    .dataframe thead th {\n",
       "        text-align: right;\n",
       "    }\n",
       "</style>\n",
       "<table border=\"1\" class=\"dataframe\">\n",
       "  <thead>\n",
       "    <tr style=\"text-align: right;\">\n",
       "      <th></th>\n",
       "      <th>Year</th>\n",
       "      <th>City</th>\n",
       "      <th>Sport</th>\n",
       "      <th>Discipline</th>\n",
       "      <th>Athlete</th>\n",
       "      <th>Country</th>\n",
       "      <th>Gender</th>\n",
       "      <th>Event</th>\n",
       "      <th>Medal</th>\n",
       "      <th>Year.1</th>\n",
       "      <th>...</th>\n",
       "      <th>Discipline.1</th>\n",
       "      <th>Athlete.1</th>\n",
       "      <th>Country.1</th>\n",
       "      <th>Gender.1</th>\n",
       "      <th>Event.1</th>\n",
       "      <th>Medal.1</th>\n",
       "      <th>Country.2</th>\n",
       "      <th>Code</th>\n",
       "      <th>Population</th>\n",
       "      <th>GDP per Capita</th>\n",
       "    </tr>\n",
       "  </thead>\n",
       "  <tbody>\n",
       "    <tr>\n",
       "      <td>0</td>\n",
       "      <td>1896</td>\n",
       "      <td>Athens</td>\n",
       "      <td>Aquatics</td>\n",
       "      <td>Swimming</td>\n",
       "      <td>HAJOS, Alfred</td>\n",
       "      <td>HUN</td>\n",
       "      <td>Men</td>\n",
       "      <td>100M Freestyle</td>\n",
       "      <td>Gold</td>\n",
       "      <td>1924.0</td>\n",
       "      <td>...</td>\n",
       "      <td>Biathlon</td>\n",
       "      <td>BERTHET, G.</td>\n",
       "      <td>FRA</td>\n",
       "      <td>Men</td>\n",
       "      <td>Military Patrol</td>\n",
       "      <td>Bronze</td>\n",
       "      <td>Afghanistan</td>\n",
       "      <td>AFG</td>\n",
       "      <td>32526562.0</td>\n",
       "      <td>594.323081</td>\n",
       "    </tr>\n",
       "    <tr>\n",
       "      <td>1</td>\n",
       "      <td>1896</td>\n",
       "      <td>Athens</td>\n",
       "      <td>Aquatics</td>\n",
       "      <td>Swimming</td>\n",
       "      <td>HERSCHMANN, Otto</td>\n",
       "      <td>AUT</td>\n",
       "      <td>Men</td>\n",
       "      <td>100M Freestyle</td>\n",
       "      <td>Silver</td>\n",
       "      <td>1924.0</td>\n",
       "      <td>...</td>\n",
       "      <td>Biathlon</td>\n",
       "      <td>MANDRILLON, C.</td>\n",
       "      <td>FRA</td>\n",
       "      <td>Men</td>\n",
       "      <td>Military Patrol</td>\n",
       "      <td>Bronze</td>\n",
       "      <td>Albania</td>\n",
       "      <td>ALB</td>\n",
       "      <td>2889167.0</td>\n",
       "      <td>3945.217582</td>\n",
       "    </tr>\n",
       "    <tr>\n",
       "      <td>2</td>\n",
       "      <td>1896</td>\n",
       "      <td>Athens</td>\n",
       "      <td>Aquatics</td>\n",
       "      <td>Swimming</td>\n",
       "      <td>DRIVAS, Dimitrios</td>\n",
       "      <td>GRE</td>\n",
       "      <td>Men</td>\n",
       "      <td>100M Freestyle For Sailors</td>\n",
       "      <td>Bronze</td>\n",
       "      <td>1924.0</td>\n",
       "      <td>...</td>\n",
       "      <td>Biathlon</td>\n",
       "      <td>MANDRILLON, Maurice</td>\n",
       "      <td>FRA</td>\n",
       "      <td>Men</td>\n",
       "      <td>Military Patrol</td>\n",
       "      <td>Bronze</td>\n",
       "      <td>Algeria</td>\n",
       "      <td>ALG</td>\n",
       "      <td>39666519.0</td>\n",
       "      <td>4206.031232</td>\n",
       "    </tr>\n",
       "    <tr>\n",
       "      <td>3</td>\n",
       "      <td>1896</td>\n",
       "      <td>Athens</td>\n",
       "      <td>Aquatics</td>\n",
       "      <td>Swimming</td>\n",
       "      <td>MALOKINIS, Ioannis</td>\n",
       "      <td>GRE</td>\n",
       "      <td>Men</td>\n",
       "      <td>100M Freestyle For Sailors</td>\n",
       "      <td>Gold</td>\n",
       "      <td>1924.0</td>\n",
       "      <td>...</td>\n",
       "      <td>Biathlon</td>\n",
       "      <td>VANDELLE, André</td>\n",
       "      <td>FRA</td>\n",
       "      <td>Men</td>\n",
       "      <td>Military Patrol</td>\n",
       "      <td>Bronze</td>\n",
       "      <td>American Samoa*</td>\n",
       "      <td>ASA</td>\n",
       "      <td>55538.0</td>\n",
       "      <td>NaN</td>\n",
       "    </tr>\n",
       "    <tr>\n",
       "      <td>4</td>\n",
       "      <td>1896</td>\n",
       "      <td>Athens</td>\n",
       "      <td>Aquatics</td>\n",
       "      <td>Swimming</td>\n",
       "      <td>CHASAPIS, Spiridon</td>\n",
       "      <td>GRE</td>\n",
       "      <td>Men</td>\n",
       "      <td>100M Freestyle For Sailors</td>\n",
       "      <td>Silver</td>\n",
       "      <td>1924.0</td>\n",
       "      <td>...</td>\n",
       "      <td>Biathlon</td>\n",
       "      <td>AUFDENBLATTEN, Adolf</td>\n",
       "      <td>SUI</td>\n",
       "      <td>Men</td>\n",
       "      <td>Military Patrol</td>\n",
       "      <td>Gold</td>\n",
       "      <td>Andorra</td>\n",
       "      <td>AND</td>\n",
       "      <td>70473.0</td>\n",
       "      <td>NaN</td>\n",
       "    </tr>\n",
       "  </tbody>\n",
       "</table>\n",
       "<p>5 rows × 22 columns</p>\n",
       "</div>"
      ],
      "text/plain": [
       "   Year    City     Sport Discipline             Athlete Country Gender  \\\n",
       "0  1896  Athens  Aquatics   Swimming       HAJOS, Alfred     HUN    Men   \n",
       "1  1896  Athens  Aquatics   Swimming    HERSCHMANN, Otto     AUT    Men   \n",
       "2  1896  Athens  Aquatics   Swimming   DRIVAS, Dimitrios     GRE    Men   \n",
       "3  1896  Athens  Aquatics   Swimming  MALOKINIS, Ioannis     GRE    Men   \n",
       "4  1896  Athens  Aquatics   Swimming  CHASAPIS, Spiridon     GRE    Men   \n",
       "\n",
       "                        Event   Medal  Year.1  ... Discipline.1  \\\n",
       "0              100M Freestyle    Gold  1924.0  ...     Biathlon   \n",
       "1              100M Freestyle  Silver  1924.0  ...     Biathlon   \n",
       "2  100M Freestyle For Sailors  Bronze  1924.0  ...     Biathlon   \n",
       "3  100M Freestyle For Sailors    Gold  1924.0  ...     Biathlon   \n",
       "4  100M Freestyle For Sailors  Silver  1924.0  ...     Biathlon   \n",
       "\n",
       "              Athlete.1 Country.1 Gender.1          Event.1 Medal.1  \\\n",
       "0           BERTHET, G.       FRA      Men  Military Patrol  Bronze   \n",
       "1        MANDRILLON, C.       FRA      Men  Military Patrol  Bronze   \n",
       "2   MANDRILLON, Maurice       FRA      Men  Military Patrol  Bronze   \n",
       "3       VANDELLE, André       FRA      Men  Military Patrol  Bronze   \n",
       "4  AUFDENBLATTEN, Adolf       SUI      Men  Military Patrol    Gold   \n",
       "\n",
       "         Country.2 Code  Population GDP per Capita  \n",
       "0      Afghanistan  AFG  32526562.0     594.323081  \n",
       "1          Albania  ALB   2889167.0    3945.217582  \n",
       "2          Algeria  ALG  39666519.0    4206.031232  \n",
       "3  American Samoa*  ASA     55538.0            NaN  \n",
       "4          Andorra  AND     70473.0            NaN  \n",
       "\n",
       "[5 rows x 22 columns]"
      ]
     },
     "execution_count": 9,
     "metadata": {},
     "output_type": "execute_result"
    }
   ],
   "source": [
    "import csv\n",
    "import pandas as pd\n",
    "with open(\"data_set.csv\",\"r\")as file:\n",
    "    \n",
    "    reader=csv.reader(file)\n",
    "\n",
    "df=pd.read_csv(\"data_set.csv\")\n",
    "\n",
    "df.head()"
   ]
  },
  {
   "cell_type": "code",
   "execution_count": 10,
   "metadata": {
    "ExecuteTime": {
     "end_time": "2021-08-27T05:17:26.360596Z",
     "start_time": "2021-08-27T05:17:26.340373Z"
    }
   },
   "outputs": [
    {
     "data": {
      "text/html": [
       "<div>\n",
       "<style scoped>\n",
       "    .dataframe tbody tr th:only-of-type {\n",
       "        vertical-align: middle;\n",
       "    }\n",
       "\n",
       "    .dataframe tbody tr th {\n",
       "        vertical-align: top;\n",
       "    }\n",
       "\n",
       "    .dataframe thead th {\n",
       "        text-align: right;\n",
       "    }\n",
       "</style>\n",
       "<table border=\"1\" class=\"dataframe\">\n",
       "  <thead>\n",
       "    <tr style=\"text-align: right;\">\n",
       "      <th></th>\n",
       "      <th>Year</th>\n",
       "      <th>City</th>\n",
       "      <th>Sport</th>\n",
       "      <th>Discipline</th>\n",
       "      <th>Athlete</th>\n",
       "      <th>Country</th>\n",
       "      <th>Gender</th>\n",
       "      <th>Event</th>\n",
       "      <th>Medal</th>\n",
       "    </tr>\n",
       "  </thead>\n",
       "  <tbody>\n",
       "    <tr>\n",
       "      <td>0</td>\n",
       "      <td>1896</td>\n",
       "      <td>Athens</td>\n",
       "      <td>Aquatics</td>\n",
       "      <td>Swimming</td>\n",
       "      <td>HAJOS, Alfred</td>\n",
       "      <td>HUN</td>\n",
       "      <td>Men</td>\n",
       "      <td>100M Freestyle</td>\n",
       "      <td>Gold</td>\n",
       "    </tr>\n",
       "  </tbody>\n",
       "</table>\n",
       "</div>"
      ],
      "text/plain": [
       "   Year    City     Sport Discipline        Athlete Country Gender  \\\n",
       "0  1896  Athens  Aquatics   Swimming  HAJOS, Alfred     HUN    Men   \n",
       "\n",
       "            Event Medal  \n",
       "0  100M Freestyle  Gold  "
      ]
     },
     "execution_count": 10,
     "metadata": {},
     "output_type": "execute_result"
    }
   ],
   "source": [
    "summer= df.iloc[:, :9]\n",
    "summer.head(1)"
   ]
  },
  {
   "cell_type": "code",
   "execution_count": 11,
   "metadata": {
    "ExecuteTime": {
     "end_time": "2021-08-27T05:17:28.148036Z",
     "start_time": "2021-08-27T05:17:28.129293Z"
    }
   },
   "outputs": [
    {
     "data": {
      "text/html": [
       "<div>\n",
       "<style scoped>\n",
       "    .dataframe tbody tr th:only-of-type {\n",
       "        vertical-align: middle;\n",
       "    }\n",
       "\n",
       "    .dataframe tbody tr th {\n",
       "        vertical-align: top;\n",
       "    }\n",
       "\n",
       "    .dataframe thead th {\n",
       "        text-align: right;\n",
       "    }\n",
       "</style>\n",
       "<table border=\"1\" class=\"dataframe\">\n",
       "  <thead>\n",
       "    <tr style=\"text-align: right;\">\n",
       "      <th></th>\n",
       "      <th>Year.1</th>\n",
       "      <th>City.1</th>\n",
       "      <th>Sport.1</th>\n",
       "      <th>Discipline.1</th>\n",
       "      <th>Athlete.1</th>\n",
       "      <th>Country.1</th>\n",
       "      <th>Gender.1</th>\n",
       "      <th>Event.1</th>\n",
       "      <th>Medal.1</th>\n",
       "    </tr>\n",
       "  </thead>\n",
       "  <tbody>\n",
       "    <tr>\n",
       "      <td>0</td>\n",
       "      <td>1924.0</td>\n",
       "      <td>Chamonix</td>\n",
       "      <td>Biathlon</td>\n",
       "      <td>Biathlon</td>\n",
       "      <td>BERTHET, G.</td>\n",
       "      <td>FRA</td>\n",
       "      <td>Men</td>\n",
       "      <td>Military Patrol</td>\n",
       "      <td>Bronze</td>\n",
       "    </tr>\n",
       "    <tr>\n",
       "      <td>1</td>\n",
       "      <td>1924.0</td>\n",
       "      <td>Chamonix</td>\n",
       "      <td>Biathlon</td>\n",
       "      <td>Biathlon</td>\n",
       "      <td>MANDRILLON, C.</td>\n",
       "      <td>FRA</td>\n",
       "      <td>Men</td>\n",
       "      <td>Military Patrol</td>\n",
       "      <td>Bronze</td>\n",
       "    </tr>\n",
       "    <tr>\n",
       "      <td>2</td>\n",
       "      <td>1924.0</td>\n",
       "      <td>Chamonix</td>\n",
       "      <td>Biathlon</td>\n",
       "      <td>Biathlon</td>\n",
       "      <td>MANDRILLON, Maurice</td>\n",
       "      <td>FRA</td>\n",
       "      <td>Men</td>\n",
       "      <td>Military Patrol</td>\n",
       "      <td>Bronze</td>\n",
       "    </tr>\n",
       "    <tr>\n",
       "      <td>3</td>\n",
       "      <td>1924.0</td>\n",
       "      <td>Chamonix</td>\n",
       "      <td>Biathlon</td>\n",
       "      <td>Biathlon</td>\n",
       "      <td>VANDELLE, André</td>\n",
       "      <td>FRA</td>\n",
       "      <td>Men</td>\n",
       "      <td>Military Patrol</td>\n",
       "      <td>Bronze</td>\n",
       "    </tr>\n",
       "    <tr>\n",
       "      <td>4</td>\n",
       "      <td>1924.0</td>\n",
       "      <td>Chamonix</td>\n",
       "      <td>Biathlon</td>\n",
       "      <td>Biathlon</td>\n",
       "      <td>AUFDENBLATTEN, Adolf</td>\n",
       "      <td>SUI</td>\n",
       "      <td>Men</td>\n",
       "      <td>Military Patrol</td>\n",
       "      <td>Gold</td>\n",
       "    </tr>\n",
       "  </tbody>\n",
       "</table>\n",
       "</div>"
      ],
      "text/plain": [
       "   Year.1    City.1   Sport.1 Discipline.1             Athlete.1 Country.1  \\\n",
       "0  1924.0  Chamonix  Biathlon     Biathlon           BERTHET, G.       FRA   \n",
       "1  1924.0  Chamonix  Biathlon     Biathlon        MANDRILLON, C.       FRA   \n",
       "2  1924.0  Chamonix  Biathlon     Biathlon   MANDRILLON, Maurice       FRA   \n",
       "3  1924.0  Chamonix  Biathlon     Biathlon       VANDELLE, André       FRA   \n",
       "4  1924.0  Chamonix  Biathlon     Biathlon  AUFDENBLATTEN, Adolf       SUI   \n",
       "\n",
       "  Gender.1          Event.1 Medal.1  \n",
       "0      Men  Military Patrol  Bronze  \n",
       "1      Men  Military Patrol  Bronze  \n",
       "2      Men  Military Patrol  Bronze  \n",
       "3      Men  Military Patrol  Bronze  \n",
       "4      Men  Military Patrol    Gold  "
      ]
     },
     "execution_count": 11,
     "metadata": {},
     "output_type": "execute_result"
    }
   ],
   "source": [
    "winter= df.iloc[:,9:18]\n",
    "winter.head()"
   ]
  },
  {
   "cell_type": "code",
   "execution_count": 12,
   "metadata": {
    "ExecuteTime": {
     "end_time": "2021-08-27T05:17:29.572332Z",
     "start_time": "2021-08-27T05:17:29.555319Z"
    }
   },
   "outputs": [
    {
     "data": {
      "text/html": [
       "<div>\n",
       "<style scoped>\n",
       "    .dataframe tbody tr th:only-of-type {\n",
       "        vertical-align: middle;\n",
       "    }\n",
       "\n",
       "    .dataframe tbody tr th {\n",
       "        vertical-align: top;\n",
       "    }\n",
       "\n",
       "    .dataframe thead th {\n",
       "        text-align: right;\n",
       "    }\n",
       "</style>\n",
       "<table border=\"1\" class=\"dataframe\">\n",
       "  <thead>\n",
       "    <tr style=\"text-align: right;\">\n",
       "      <th></th>\n",
       "      <th>Country.2</th>\n",
       "      <th>Code</th>\n",
       "      <th>Population</th>\n",
       "      <th>GDP per Capita</th>\n",
       "    </tr>\n",
       "  </thead>\n",
       "  <tbody>\n",
       "    <tr>\n",
       "      <td>0</td>\n",
       "      <td>Afghanistan</td>\n",
       "      <td>AFG</td>\n",
       "      <td>32526562.0</td>\n",
       "      <td>594.323081</td>\n",
       "    </tr>\n",
       "    <tr>\n",
       "      <td>1</td>\n",
       "      <td>Albania</td>\n",
       "      <td>ALB</td>\n",
       "      <td>2889167.0</td>\n",
       "      <td>3945.217582</td>\n",
       "    </tr>\n",
       "    <tr>\n",
       "      <td>2</td>\n",
       "      <td>Algeria</td>\n",
       "      <td>ALG</td>\n",
       "      <td>39666519.0</td>\n",
       "      <td>4206.031232</td>\n",
       "    </tr>\n",
       "    <tr>\n",
       "      <td>3</td>\n",
       "      <td>American Samoa*</td>\n",
       "      <td>ASA</td>\n",
       "      <td>55538.0</td>\n",
       "      <td>NaN</td>\n",
       "    </tr>\n",
       "    <tr>\n",
       "      <td>4</td>\n",
       "      <td>Andorra</td>\n",
       "      <td>AND</td>\n",
       "      <td>70473.0</td>\n",
       "      <td>NaN</td>\n",
       "    </tr>\n",
       "  </tbody>\n",
       "</table>\n",
       "</div>"
      ],
      "text/plain": [
       "         Country.2 Code  Population  GDP per Capita\n",
       "0      Afghanistan  AFG  32526562.0      594.323081\n",
       "1          Albania  ALB   2889167.0     3945.217582\n",
       "2          Algeria  ALG  39666519.0     4206.031232\n",
       "3  American Samoa*  ASA     55538.0             NaN\n",
       "4          Andorra  AND     70473.0             NaN"
      ]
     },
     "execution_count": 12,
     "metadata": {},
     "output_type": "execute_result"
    }
   ],
   "source": [
    "dictionary= df.iloc[:,18:]\n",
    "dictionary.head()"
   ]
  },
  {
   "cell_type": "markdown",
   "metadata": {
    "id": "RE9kewNyys_V"
   },
   "source": [
    "### 5.\tRead the dataset  and understand the dataset description given below\n",
    "\n",
    "\n",
    "A.Concat Summer and Winter (one row for each Medal awarded in any Olympic Games) and save the merged DataFrame in olympics. (10 marks)\n",
    "\n",
    "           1. An additional column (e.g. \"Edition\") shall indicate the Edition -> Summer or Winter.\n",
    "           \n",
    "             \n",
    "B.\tCreate a aggregated and merged DataFrame with Top 50 Countries which includes the Column 'Total_Games' showing the __number of Participations by each country(as an approximation: determine the number of Editions where Countries have won at least one medal).(10 Marks)\n",
    "\n"
   ]
  },
  {
   "cell_type": "code",
   "execution_count": null,
   "metadata": {},
   "outputs": [],
   "source": []
  },
  {
   "cell_type": "markdown",
   "metadata": {
    "id": "5tL9oFNXys_j"
   },
   "source": [
    "### A. Concat Summer and Winter (one row for each Medal awarded in any Olympic Games) and save the merged DataFrame in olympics. (10 marks)\n",
    "\n",
    "           1. Create an additional column (e.g. \"Edition\") which will indicate the Edition -> Summer or Winter.\n",
    "           \n",
    "         "
   ]
  },
  {
   "cell_type": "markdown",
   "metadata": {
    "id": "fcNdgBIMys_t"
   },
   "source": [
    "##### B. Create a aggregated and merged DataFrame with Top 50 Countries which includes the Column 'Total_Games' showing the __number of Participations by each country(as an approximation: determine the number of Editions where Countries have won at least one medal).(10 Marks)"
   ]
  },
  {
   "cell_type": "code",
   "execution_count": null,
   "metadata": {},
   "outputs": [],
   "source": []
  },
  {
   "cell_type": "markdown",
   "metadata": {
    "id": "6rSkIIc8W0c1"
   },
   "source": [
    "# SECTION C: 30 MARKS"
   ]
  },
  {
   "cell_type": "markdown",
   "metadata": {
    "ExecuteTime": {
     "end_time": "2021-08-19T12:24:46.927866Z",
     "start_time": "2021-08-19T12:24:46.913638Z"
    },
    "id": "eSrAVOSMW0c2"
   },
   "source": [
    "----------------------"
   ]
  },
  {
   "cell_type": "markdown",
   "metadata": {
    "id": "p1ZZrPWbytAD"
   },
   "source": [
    "### 6.  Answer the below questions (30 Marks)\n",
    "\n",
    "A.\tConsider the year 1976 and create a DataFrame displaying the Gold, Silver and Bronze medal won by top 10 countries. (5 MARKS) \n",
    "\n",
    "B.\tCreate columns first_name and last_name from column 'Athlete'. Add them to the data frame. Find the 5 most common name. (4 MARKS)\n",
    "\n",
    "C.\tDisplay the name of the Country and medals won by each country with each progressing year (3 MARKS)\n",
    "\n",
    "D.\tConsider the winter dataset. Plot the count of 'Gold', 'Silver' and 'Bronze' medals won by Male and females(3 Marks)\n",
    "\n",
    "E.\tWhich country won highest medals. Display the medal count. (3 MARK)\n",
    "\n",
    " F.\tCreate a Seaborn Heatmap that shows the Ranks of Top 20 Countries by Sports.(6MARKS)\n",
    "\n",
    " G.\t Create a table for Countries with Total Medals  Men, Women Display the data only when Women won more medals than men. How many such countries are there. (6 MARKS)\n",
    "\n"
   ]
  },
  {
   "cell_type": "markdown",
   "metadata": {},
   "source": [
    "#### A.\tConsider the year 1976 and create a DataFrame diplaying the Gold, Silver and Bronze medal won by top 10 countries. (5 MARKS) \n",
    "\n"
   ]
  },
  {
   "cell_type": "markdown",
   "metadata": {},
   "source": [
    "#### B.\tCreate columns first_name and last_name from column 'Athlete'. Add them to the data frame. Find the 5 most common name. (4 MARKS)\n",
    "\n"
   ]
  },
  {
   "cell_type": "markdown",
   "metadata": {},
   "source": [
    "#### C.\tDisplay the name of the Country and medals won by each country with each progressing year (3 MARKS)\n"
   ]
  },
  {
   "cell_type": "markdown",
   "metadata": {},
   "source": [
    "\n",
    "#### D.\tConsider the winter dataset. Plot the count of 'Gold', 'Silver' and 'Bronze' medals won by Male and females(3 Marks)\n"
   ]
  },
  {
   "cell_type": "markdown",
   "metadata": {},
   "source": [
    "#### E.\tWhich country won highest medals. Display the medal count. (3 MARK)\n"
   ]
  },
  {
   "cell_type": "markdown",
   "metadata": {
    "ExecuteTime": {
     "end_time": "2021-08-19T13:06:55.330979Z",
     "start_time": "2021-08-19T13:06:55.323591Z"
    }
   },
   "source": [
    "\n",
    "#### F.\tCreate a Seaborn Heatmap that shows the Ranks of Top 20 Countries by Sports.(6MARKS)\n"
   ]
  },
  {
   "cell_type": "markdown",
   "metadata": {
    "id": "wc7iqyV3ytAy"
   },
   "source": [
    "\n",
    "#### G.\t Create a table for Countries with Total Medals in Summer Games Medals, Winter Games Medals, Men, Women). (6 MARKS)"
   ]
  },
  {
   "cell_type": "code",
   "execution_count": null,
   "metadata": {},
   "outputs": [],
   "source": []
  },
  {
   "cell_type": "code",
   "execution_count": null,
   "metadata": {},
   "outputs": [],
   "source": []
  }
 ],
 "metadata": {
  "colab": {
   "collapsed_sections": [],
   "name": "NPV_FINAL_EXAM_SET_2_WITH_SOLUTIONS.ipynb",
   "provenance": []
  },
  "kernelspec": {
   "display_name": "Python 3 (ipykernel)",
   "language": "python",
   "name": "python3"
  },
  "language_info": {
   "codemirror_mode": {
    "name": "ipython",
    "version": 3
   },
   "file_extension": ".py",
   "mimetype": "text/x-python",
   "name": "python",
   "nbconvert_exporter": "python",
   "pygments_lexer": "ipython3",
   "version": "3.9.12"
  }
 },
 "nbformat": 4,
 "nbformat_minor": 1
}
