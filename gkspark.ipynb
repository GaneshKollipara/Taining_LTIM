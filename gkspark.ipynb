{
 "cells": [
  {
   "cell_type": "code",
   "execution_count": 1,
   "outputs": [],
   "source": [
    "from pyspark.sql import SparkSession\n",
    "from pyspark.sql.functions import *\n",
    "from pyspark.sql.types import *"
   ],
   "metadata": {
    "collapsed": false,
    "ExecuteTime": {
     "end_time": "2023-11-23T08:53:14.269388285Z",
     "start_time": "2023-11-23T08:53:13.056305121Z"
    }
   },
   "id": "a3ec7b6890fe3405"
  },
  {
   "cell_type": "code",
   "execution_count": 2,
   "outputs": [
    {
     "name": "stderr",
     "output_type": "stream",
     "text": [
      "/home/labuser/PycharmProjects/ltiganesh1/venv/lib/python3.6/site-packages/pyspark/context.py:238: FutureWarning: Python 3.6 support is deprecated in Spark 3.2.\n",
      "  FutureWarning\n"
     ]
    }
   ],
   "source": [
    "spark=SparkSession.builder.appName('SP').getOrCreate()"
   ],
   "metadata": {
    "collapsed": false,
    "ExecuteTime": {
     "end_time": "2023-11-23T08:53:26.091380965Z",
     "start_time": "2023-11-23T08:53:13.268456993Z"
    }
   },
   "id": "dda1170853c89a2f"
  },
  {
   "cell_type": "code",
   "execution_count": 3,
   "outputs": [],
   "source": [
    "profit=spark.read.csv('/home/labuser/Downloads/movie/profit.csv',header=True)"
   ],
   "metadata": {
    "collapsed": false,
    "ExecuteTime": {
     "end_time": "2023-11-23T08:53:39.047262649Z",
     "start_time": "2023-11-23T08:53:26.115285253Z"
    }
   },
   "id": "d17ac6e19296441"
  },
  {
   "cell_type": "code",
   "execution_count": 4,
   "outputs": [
    {
     "name": "stdout",
     "output_type": "stream",
     "text": [
      "+----------+-------------+\n",
      "|movie_code| movie_profit|\n",
      "+----------+-------------+\n",
      "|       200|          120|\n",
      "|       201|          140|\n",
      "|       202|          190|\n",
      "|       204|          150|\n",
      "|       205|          110|\n",
      "+----------+-------------+\n"
     ]
    }
   ],
   "source": [
    "profit.show()"
   ],
   "metadata": {
    "collapsed": false,
    "ExecuteTime": {
     "end_time": "2023-11-23T08:53:39.616187939Z",
     "start_time": "2023-11-23T08:53:39.001169586Z"
    }
   },
   "id": "6716c42f62626f98"
  },
  {
   "cell_type": "code",
   "execution_count": 5,
   "outputs": [],
   "source": [
    "details=spark.read.csv('/home/labuser/Downloads/movie/details.csv',header=True)"
   ],
   "metadata": {
    "collapsed": false,
    "ExecuteTime": {
     "end_time": "2023-11-23T08:53:41.011622982Z",
     "start_time": "2023-11-23T08:53:39.614711368Z"
    }
   },
   "id": "723c46a5f4576877"
  },
  {
   "cell_type": "code",
   "execution_count": 6,
   "outputs": [
    {
     "name": "stdout",
     "output_type": "stream",
     "text": [
      "+----------+----------+------------+\n",
      "|movie_code|movie_name|movie_rating|\n",
      "+----------+----------+------------+\n",
      "|       200| shawshank|          95|\n",
      "|       201|       saw|          85|\n",
      "|       202|  avengers|          85|\n",
      "|       204|        mi|          80|\n",
      "|       205| wrongturn|         70 |\n",
      "+----------+----------+------------+\n"
     ]
    }
   ],
   "source": [
    "details.show()"
   ],
   "metadata": {
    "collapsed": false,
    "ExecuteTime": {
     "end_time": "2023-11-23T08:53:41.262472646Z",
     "start_time": "2023-11-23T08:53:40.738285793Z"
    }
   },
   "id": "1defcc6482fbe763"
  },
  {
   "cell_type": "code",
   "execution_count": 7,
   "outputs": [],
   "source": [
    "# join the dataframes using the movie_name\n",
    "joins=profit.join(details,on='movie_code',how='inner')"
   ],
   "metadata": {
    "collapsed": false,
    "ExecuteTime": {
     "end_time": "2023-11-23T08:53:41.502123455Z",
     "start_time": "2023-11-23T08:53:41.239331652Z"
    }
   },
   "id": "9bade7b361f3c38a"
  },
  {
   "cell_type": "code",
   "execution_count": 8,
   "outputs": [
    {
     "name": "stdout",
     "output_type": "stream",
     "text": [
      "+----------+-------------+----------+------------+\n",
      "|movie_code| movie_profit|movie_name|movie_rating|\n",
      "+----------+-------------+----------+------------+\n",
      "|       200|          120| shawshank|          95|\n",
      "|       201|          140|       saw|          85|\n",
      "|       202|          190|  avengers|          85|\n",
      "+----------+-------------+----------+------------+\n"
     ]
    }
   ],
   "source": [
    "joins.show(3)"
   ],
   "metadata": {
    "collapsed": false,
    "ExecuteTime": {
     "end_time": "2023-11-23T08:53:43.732333818Z",
     "start_time": "2023-11-23T08:53:41.404755447Z"
    }
   },
   "id": "b9b0ecf2004a6537"
  },
  {
   "cell_type": "code",
   "execution_count": 9,
   "outputs": [
    {
     "data": {
      "text/plain": "[Row(movie_code='202',  movie_profit='190', movie_name='avengers', movie_rating='85'),\n Row(movie_code='204',  movie_profit='150', movie_name='mi', movie_rating='80'),\n Row(movie_code='205',  movie_profit='110', movie_name='wrongturn', movie_rating='70 ')]"
     },
     "execution_count": 9,
     "metadata": {},
     "output_type": "execute_result"
    }
   ],
   "source": [
    "#top 3 for movie_profit and bottom 3 for movie_rating\n",
    "joins.tail(3)"
   ],
   "metadata": {
    "collapsed": false,
    "ExecuteTime": {
     "end_time": "2023-11-23T08:53:44.858490947Z",
     "start_time": "2023-11-23T08:53:43.701293743Z"
    }
   },
   "id": "de8c11b48ff390ac"
  },
  {
   "cell_type": "code",
   "execution_count": 10,
   "outputs": [
    {
     "name": "stdout",
     "output_type": "stream",
     "text": [
      "+----------+-------------+----------+------------+\n",
      "|movie_code| movie_profit|movie_name|movie_rating|\n",
      "+----------+-------------+----------+------------+\n",
      "|       205|          110| wrongturn|         70 |\n",
      "|       200|          120| shawshank|          95|\n",
      "|       201|          140|       saw|          85|\n",
      "+----------+-------------+----------+------------+\n"
     ]
    }
   ],
   "source": [
    "joins.orderBy(' movie_profit').show(3)"
   ],
   "metadata": {
    "collapsed": false,
    "ExecuteTime": {
     "end_time": "2023-11-23T08:53:46.204279158Z",
     "start_time": "2023-11-23T08:53:44.697432648Z"
    }
   },
   "id": "510f8231031ed783"
  },
  {
   "cell_type": "code",
   "execution_count": 11,
   "outputs": [
    {
     "name": "stdout",
     "output_type": "stream",
     "text": [
      "+----------+-------------+----------+------------+\n",
      "|movie_code| movie_profit|movie_name|movie_rating|\n",
      "+----------+-------------+----------+------------+\n",
      "|       202|          190|  avengers|          85|\n",
      "|       204|          150|        mi|          80|\n",
      "|       201|          140|       saw|          85|\n",
      "+----------+-------------+----------+------------+\n"
     ]
    }
   ],
   "source": [
    "joins.orderBy(desc(' movie_profit')).show(3)"
   ],
   "metadata": {
    "collapsed": false,
    "ExecuteTime": {
     "end_time": "2023-11-23T08:53:46.950893033Z",
     "start_time": "2023-11-23T08:53:46.152993749Z"
    }
   },
   "id": "366b374a2b14cfca"
  },
  {
   "cell_type": "code",
   "execution_count": 12,
   "outputs": [
    {
     "name": "stdout",
     "output_type": "stream",
     "text": [
      "+----------+-------------+----------+------------+\n",
      "|movie_code| movie_profit|movie_name|movie_rating|\n",
      "+----------+-------------+----------+------------+\n",
      "|       205|          110| wrongturn|         70 |\n",
      "|       204|          150|        mi|          80|\n",
      "|       201|          140|       saw|          85|\n",
      "+----------+-------------+----------+------------+\n"
     ]
    }
   ],
   "source": [
    "joins.orderBy(['movie_rating']).show(3)"
   ],
   "metadata": {
    "collapsed": false,
    "ExecuteTime": {
     "end_time": "2023-11-23T08:53:47.901523638Z",
     "start_time": "2023-11-23T08:53:46.963351307Z"
    }
   },
   "id": "adbf542aa851975b"
  },
  {
   "cell_type": "code",
   "execution_count": 13,
   "outputs": [],
   "source": [
    "#top 3 of profit to rating ratio"
   ],
   "metadata": {
    "collapsed": false,
    "ExecuteTime": {
     "end_time": "2023-11-23T08:53:48.000739788Z",
     "start_time": "2023-11-23T08:53:47.843272150Z"
    }
   },
   "id": "d6dd2bde33461e25"
  },
  {
   "cell_type": "code",
   "execution_count": 14,
   "outputs": [],
   "source": [
    "joins=joins.withColumn('ratio', round(joins[' movie_profit'] / joins['movie_rating'],2))"
   ],
   "metadata": {
    "collapsed": false,
    "ExecuteTime": {
     "end_time": "2023-11-23T08:53:48.478380761Z",
     "start_time": "2023-11-23T08:53:47.867441714Z"
    }
   },
   "id": "a1c37e5f9603287c"
  },
  {
   "cell_type": "code",
   "execution_count": 15,
   "outputs": [
    {
     "name": "stdout",
     "output_type": "stream",
     "text": [
      "+----------+-------------+----------+------------+-----+\n",
      "|movie_code| movie_profit|movie_name|movie_rating|ratio|\n",
      "+----------+-------------+----------+------------+-----+\n",
      "|       200|          120| shawshank|          95| 1.26|\n",
      "|       201|          140|       saw|          85| 1.65|\n",
      "|       202|          190|  avengers|          85| 2.24|\n",
      "|       204|          150|        mi|          80| 1.88|\n",
      "|       205|          110| wrongturn|         70 | 1.57|\n",
      "+----------+-------------+----------+------------+-----+\n"
     ]
    }
   ],
   "source": [
    "joins.show()"
   ],
   "metadata": {
    "collapsed": false,
    "ExecuteTime": {
     "end_time": "2023-11-23T08:53:49.114818029Z",
     "start_time": "2023-11-23T08:53:48.108195361Z"
    }
   },
   "id": "ec9296c453c0f26e"
  },
  {
   "cell_type": "code",
   "execution_count": 16,
   "outputs": [
    {
     "name": "stdout",
     "output_type": "stream",
     "text": [
      "+----------+-------------+----------+------------+-----+\n",
      "|movie_code| movie_profit|movie_name|movie_rating|ratio|\n",
      "+----------+-------------+----------+------------+-----+\n",
      "|       202|          190|  avengers|          85| 2.24|\n",
      "|       204|          150|        mi|          80| 1.88|\n",
      "|       201|          140|       saw|          85| 1.65|\n",
      "+----------+-------------+----------+------------+-----+\n"
     ]
    }
   ],
   "source": [
    "joins.orderBy(desc('ratio')).show(3)"
   ],
   "metadata": {
    "collapsed": false,
    "ExecuteTime": {
     "end_time": "2023-11-23T08:53:50.151987278Z",
     "start_time": "2023-11-23T08:53:49.085130812Z"
    }
   },
   "id": "59c9197b25a93528"
  },
  {
   "cell_type": "code",
   "execution_count": 16,
   "outputs": [],
   "source": [],
   "metadata": {
    "collapsed": false,
    "ExecuteTime": {
     "end_time": "2023-11-23T08:53:50.164272772Z",
     "start_time": "2023-11-23T08:53:50.141383476Z"
    }
   },
   "id": "92cc7d2142f42018"
  },
  {
   "cell_type": "code",
   "execution_count": 16,
   "outputs": [],
   "source": [],
   "metadata": {
    "collapsed": false,
    "ExecuteTime": {
     "end_time": "2023-11-23T08:53:50.259216005Z",
     "start_time": "2023-11-23T08:53:50.163132715Z"
    }
   },
   "id": "192362ba0a2bf1f6"
  },
  {
   "cell_type": "code",
   "execution_count": 17,
   "outputs": [],
   "source": [
    "# new question"
   ],
   "metadata": {
    "collapsed": false,
    "ExecuteTime": {
     "end_time": "2023-11-23T08:53:50.290643807Z",
     "start_time": "2023-11-23T08:53:50.180760948Z"
    }
   },
   "id": "7fae29c969ae5af"
  },
  {
   "cell_type": "code",
   "execution_count": 18,
   "outputs": [],
   "source": [
    "# creating a new dataframe\n",
    "df1=spark.read.csv('/home/labuser/Downloads/movie/seris.csv',header=True)"
   ],
   "metadata": {
    "collapsed": false,
    "ExecuteTime": {
     "end_time": "2023-11-23T08:53:50.974429216Z",
     "start_time": "2023-11-23T08:53:50.199237817Z"
    }
   },
   "id": "7f7b0aa82c8f7fc8"
  },
  {
   "cell_type": "code",
   "execution_count": 19,
   "outputs": [
    {
     "name": "stdout",
     "output_type": "stream",
     "text": [
      "+---------+-----------+------------+\n",
      "|series_id|series_info|     network|\n",
      "+---------+-----------+------------+\n",
      "|      101|       null|     netflix|\n",
      "|      102|       null|amazon_prime|\n",
      "|      103|       null|     appletv|\n",
      "|      104|       null|     netflix|\n",
      "|      105|       null|         HBO|\n",
      "+---------+-----------+------------+\n"
     ]
    }
   ],
   "source": [
    "df1.show()"
   ],
   "metadata": {
    "collapsed": false,
    "ExecuteTime": {
     "end_time": "2023-11-23T08:53:51.316451882Z",
     "start_time": "2023-11-23T08:53:50.910456838Z"
    }
   },
   "id": "b8b11c6eee2d4660"
  },
  {
   "cell_type": "code",
   "execution_count": 20,
   "outputs": [],
   "source": [
    "df2=spark.read.csv('/home/labuser/Downloads/movie/seris2.csv',header=True)"
   ],
   "metadata": {
    "collapsed": false,
    "ExecuteTime": {
     "end_time": "2023-11-23T08:53:51.995369819Z",
     "start_time": "2023-11-23T08:53:51.163529446Z"
    }
   },
   "id": "11e61d7886bddd1"
  },
  {
   "cell_type": "code",
   "execution_count": 21,
   "outputs": [
    {
     "name": "stdout",
     "output_type": "stream",
     "text": [
      "+---------+-------------+---------------+------+\n",
      "|series_id|  series_name|          genre|rating|\n",
      "+---------+-------------+---------------+------+\n",
      "|      101| rickandmorty|          scifi|   9.1|\n",
      "|      102|   invincible|       animated|   8.7|\n",
      "|      103|forallmankind|historicalscifi|   7.9|\n",
      "|      104|  blackmirror|  thrillerscifi|   8.0|\n",
      "|      105|    westworld|          scifi|   8.1|\n",
      "+---------+-------------+---------------+------+\n"
     ]
    }
   ],
   "source": [
    "df2.show()"
   ],
   "metadata": {
    "collapsed": false,
    "ExecuteTime": {
     "end_time": "2023-11-23T08:53:52.070528993Z",
     "start_time": "2023-11-23T08:53:51.665204985Z"
    }
   },
   "id": "f20d2e96d094762"
  },
  {
   "cell_type": "code",
   "execution_count": 22,
   "outputs": [],
   "source": [
    "ct=df2.select(concat_ws(' ',df2.series_name,df2.genre).alias('Fullname'))"
   ],
   "metadata": {
    "collapsed": false,
    "ExecuteTime": {
     "end_time": "2023-11-23T08:53:52.113069370Z",
     "start_time": "2023-11-23T08:53:51.901836006Z"
    }
   },
   "id": "fe9b335587b9387d"
  },
  {
   "cell_type": "code",
   "execution_count": 23,
   "outputs": [
    {
     "name": "stdout",
     "output_type": "stream",
     "text": [
      "+--------------------+\n",
      "|            Fullname|\n",
      "+--------------------+\n",
      "|  rickandmorty scifi|\n",
      "| invincible animated|\n",
      "|forallmankind his...|\n",
      "|blackmirror thril...|\n",
      "|     westworld scifi|\n",
      "+--------------------+\n"
     ]
    }
   ],
   "source": [
    "ct.show()"
   ],
   "metadata": {
    "collapsed": false,
    "ExecuteTime": {
     "end_time": "2023-11-23T08:53:52.896748132Z",
     "start_time": "2023-11-23T08:53:52.007548877Z"
    }
   },
   "id": "6bcaeb461b7c2cf4"
  },
  {
   "cell_type": "code",
   "execution_count": 24,
   "outputs": [
    {
     "name": "stdout",
     "output_type": "stream",
     "text": [
      "+--------------------+---------+------+\n",
      "|            Fullname|series_id|rating|\n",
      "+--------------------+---------+------+\n",
      "|  rickandmorty scifi|      101|   9.1|\n",
      "| invincible animated|      102|   8.7|\n",
      "|forallmankind his...|      103|   7.9|\n",
      "|blackmirror thril...|      104|   8.0|\n",
      "|     westworld scifi|      105|   8.1|\n",
      "+--------------------+---------+------+\n"
     ]
    }
   ],
   "source": [
    "ct2=df2.select(concat_ws(' ',df2.series_name,df2.genre).alias('Fullname'),'series_id','rating')\n",
    "ct2.show()"
   ],
   "metadata": {
    "collapsed": false,
    "ExecuteTime": {
     "end_time": "2023-11-23T08:53:53.258854450Z",
     "start_time": "2023-11-23T08:53:52.583867554Z"
    }
   },
   "id": "8f0e6c35fe6a4e97"
  },
  {
   "cell_type": "code",
   "execution_count": 25,
   "outputs": [
    {
     "name": "stdout",
     "output_type": "stream",
     "text": [
      "+-----------+\n",
      "|series_info|\n",
      "+-----------+\n",
      "|       null|\n",
      "|       null|\n",
      "|       null|\n",
      "|       null|\n",
      "|       null|\n",
      "+-----------+\n"
     ]
    }
   ],
   "source": [
    "df1.select(df1.series_info).show()"
   ],
   "metadata": {
    "collapsed": false,
    "ExecuteTime": {
     "end_time": "2023-11-23T08:53:53.301567591Z",
     "start_time": "2023-11-23T08:53:52.974656815Z"
    }
   },
   "id": "c7bb2e7e71242fc7"
  },
  {
   "cell_type": "code",
   "execution_count": 26,
   "outputs": [
    {
     "ename": "TypeError",
     "evalue": "to_replace should be a bool, float, int, string, list, tuple, or dict. Got <class 'pyspark.sql.column.Column'>",
     "output_type": "error",
     "traceback": [
      "\u001B[0;31m---------------------------------------------------------------------------\u001B[0m",
      "\u001B[0;31mTypeError\u001B[0m                                 Traceback (most recent call last)",
      "\u001B[0;32m<ipython-input-26-025ec8dfc0be>\u001B[0m in \u001B[0;36m<module>\u001B[0;34m\u001B[0m\n\u001B[0;32m----> 1\u001B[0;31m \u001B[0mdf1\u001B[0m\u001B[0;34m.\u001B[0m\u001B[0mna\u001B[0m\u001B[0;34m.\u001B[0m\u001B[0mreplace\u001B[0m\u001B[0;34m(\u001B[0m\u001B[0mdf1\u001B[0m\u001B[0;34m.\u001B[0m\u001B[0mseries_info\u001B[0m\u001B[0;34m,\u001B[0m\u001B[0mct\u001B[0m\u001B[0;34m)\u001B[0m\u001B[0;34m\u001B[0m\u001B[0;34m\u001B[0m\u001B[0m\n\u001B[0m",
      "\u001B[0;32m~/PycharmProjects/ltiganesh1/venv/lib/python3.6/site-packages/pyspark/sql/dataframe.py\u001B[0m in \u001B[0;36mreplace\u001B[0;34m(self, to_replace, value, subset)\u001B[0m\n\u001B[1;32m   2792\u001B[0m \u001B[0;34m\u001B[0m\u001B[0m\n\u001B[1;32m   2793\u001B[0m     \u001B[0;32mdef\u001B[0m \u001B[0mreplace\u001B[0m\u001B[0;34m(\u001B[0m\u001B[0mself\u001B[0m\u001B[0;34m,\u001B[0m \u001B[0mto_replace\u001B[0m\u001B[0;34m,\u001B[0m \u001B[0mvalue\u001B[0m\u001B[0;34m=\u001B[0m\u001B[0m_NoValue\u001B[0m\u001B[0;34m,\u001B[0m \u001B[0msubset\u001B[0m\u001B[0;34m=\u001B[0m\u001B[0;32mNone\u001B[0m\u001B[0;34m)\u001B[0m\u001B[0;34m:\u001B[0m\u001B[0;34m\u001B[0m\u001B[0;34m\u001B[0m\u001B[0m\n\u001B[0;32m-> 2794\u001B[0;31m         \u001B[0;32mreturn\u001B[0m \u001B[0mself\u001B[0m\u001B[0;34m.\u001B[0m\u001B[0mdf\u001B[0m\u001B[0;34m.\u001B[0m\u001B[0mreplace\u001B[0m\u001B[0;34m(\u001B[0m\u001B[0mto_replace\u001B[0m\u001B[0;34m,\u001B[0m \u001B[0mvalue\u001B[0m\u001B[0;34m,\u001B[0m \u001B[0msubset\u001B[0m\u001B[0;34m)\u001B[0m\u001B[0;34m\u001B[0m\u001B[0;34m\u001B[0m\u001B[0m\n\u001B[0m\u001B[1;32m   2795\u001B[0m \u001B[0;34m\u001B[0m\u001B[0m\n\u001B[1;32m   2796\u001B[0m     \u001B[0mreplace\u001B[0m\u001B[0;34m.\u001B[0m\u001B[0m__doc__\u001B[0m \u001B[0;34m=\u001B[0m \u001B[0mDataFrame\u001B[0m\u001B[0;34m.\u001B[0m\u001B[0mreplace\u001B[0m\u001B[0;34m.\u001B[0m\u001B[0m__doc__\u001B[0m\u001B[0;34m\u001B[0m\u001B[0;34m\u001B[0m\u001B[0m\n",
      "\u001B[0;32m~/PycharmProjects/ltiganesh1/venv/lib/python3.6/site-packages/pyspark/sql/dataframe.py\u001B[0m in \u001B[0;36mreplace\u001B[0;34m(self, to_replace, value, subset)\u001B[0m\n\u001B[1;32m   2207\u001B[0m             raise TypeError(\n\u001B[1;32m   2208\u001B[0m                 \u001B[0;34m\"to_replace should be a bool, float, int, string, list, tuple, or dict. \"\u001B[0m\u001B[0;34m\u001B[0m\u001B[0;34m\u001B[0m\u001B[0m\n\u001B[0;32m-> 2209\u001B[0;31m                 \"Got {0}\".format(type(to_replace)))\n\u001B[0m\u001B[1;32m   2210\u001B[0m \u001B[0;34m\u001B[0m\u001B[0m\n\u001B[1;32m   2211\u001B[0m         \u001B[0;32mif\u001B[0m \u001B[0;32mnot\u001B[0m \u001B[0misinstance\u001B[0m\u001B[0;34m(\u001B[0m\u001B[0mvalue\u001B[0m\u001B[0;34m,\u001B[0m \u001B[0mvalid_types\u001B[0m\u001B[0;34m)\u001B[0m \u001B[0;32mand\u001B[0m \u001B[0mvalue\u001B[0m \u001B[0;32mis\u001B[0m \u001B[0;32mnot\u001B[0m \u001B[0;32mNone\u001B[0m\u001B[0;31m \u001B[0m\u001B[0;31m\\\u001B[0m\u001B[0;34m\u001B[0m\u001B[0;34m\u001B[0m\u001B[0m\n",
      "\u001B[0;31mTypeError\u001B[0m: to_replace should be a bool, float, int, string, list, tuple, or dict. Got <class 'pyspark.sql.column.Column'>"
     ]
    }
   ],
   "source": [
    "df1.na.replace(df1.series_info,ct)"
   ],
   "metadata": {
    "collapsed": false,
    "ExecuteTime": {
     "end_time": "2023-11-23T08:53:53.643594157Z",
     "start_time": "2023-11-23T08:53:53.164522127Z"
    }
   },
   "id": "6529f61e26b6b565"
  },
  {
   "cell_type": "code",
   "execution_count": null,
   "outputs": [],
   "source": [
    "j1=df1.join(ct2,on='series_id',how='inner')\n",
    "j1.show()"
   ],
   "metadata": {
    "collapsed": false,
    "ExecuteTime": {
     "start_time": "2023-11-23T08:53:53.358677066Z"
    }
   },
   "id": "a7dfb74eeac0a14e"
  },
  {
   "cell_type": "code",
   "execution_count": null,
   "outputs": [],
   "source": [
    "c1=j1.withColumn('series_info',coalesce(j1.series_info,j1.Fullname))"
   ],
   "metadata": {
    "collapsed": false,
    "ExecuteTime": {
     "start_time": "2023-11-23T08:53:53.417205087Z"
    }
   },
   "id": "cc4c0dcaa2e09409"
  },
  {
   "cell_type": "code",
   "execution_count": null,
   "outputs": [],
   "source": [
    "c1.show()"
   ],
   "metadata": {
    "collapsed": false,
    "ExecuteTime": {
     "start_time": "2023-11-23T08:53:53.417627743Z"
    }
   },
   "id": "c8a3bed45a9ff1d7"
  },
  {
   "cell_type": "code",
   "execution_count": null,
   "outputs": [],
   "source": [
    "c2=c1.select(c1.series_id,c1.series_info,c1.network,c1.rating)\n",
    "c2.show()"
   ],
   "metadata": {
    "collapsed": false,
    "ExecuteTime": {
     "start_time": "2023-11-23T08:53:53.417833025Z"
    }
   },
   "id": "d8044ee0066756b9"
  },
  {
   "cell_type": "code",
   "execution_count": null,
   "outputs": [],
   "source": [],
   "metadata": {
    "collapsed": false,
    "ExecuteTime": {
     "start_time": "2023-11-23T08:53:53.417991501Z"
    }
   },
   "id": "78b57f4a0a1631a2"
  }
 ],
 "metadata": {
  "kernelspec": {
   "display_name": "Python 3",
   "language": "python",
   "name": "python3"
  },
  "language_info": {
   "codemirror_mode": {
    "name": "ipython",
    "version": 2
   },
   "file_extension": ".py",
   "mimetype": "text/x-python",
   "name": "python",
   "nbconvert_exporter": "python",
   "pygments_lexer": "ipython2",
   "version": "2.7.6"
  }
 },
 "nbformat": 4,
 "nbformat_minor": 5
}
