{
 "cells": [
  {
   "cell_type": "markdown",
   "metadata": {},
   "source": [
    "# OOPs (Object-Oriented Programming)\n",
    "\n",
    "    * Most modern programming languages use OOPs, so does python.\n",
    "    * OOP is a programming pattern based on the concept of objects.\n",
    "    * we will build **Employee management System** for understanding each building blocks of OOPs."
   ]
  },
  {
   "cell_type": "markdown",
   "metadata": {},
   "source": [
    "# Class :\n",
    "\n",
    "    * Is a blueprint for creating instances (objects)\n",
    "    * Class is also said to be a user-defined datatype"
   ]
  },
  {
   "cell_type": "code",
   "execution_count": 1,
   "metadata": {},
   "outputs": [],
   "source": [
    "class Employee:\n",
    "    ..."
   ]
  },
  {
   "cell_type": "code",
   "execution_count": 2,
   "metadata": {},
   "outputs": [],
   "source": [
    "class Employee:\n",
    "\n",
    "    '''\n",
    "    Hello hi this is the class declaration and creation of a doc for this class\n",
    "    '''\n",
    "\n",
    "    ..."
   ]
  },
  {
   "cell_type": "code",
   "execution_count": 3,
   "metadata": {},
   "outputs": [
    {
     "name": "stdout",
     "output_type": "stream",
     "text": [
      "Help on class Employee in module __main__:\n",
      "\n",
      "class Employee(builtins.object)\n",
      " |  Hello hi this is the class declaration and creation of a doc for this class\n",
      " |  \n",
      " |  Data descriptors defined here:\n",
      " |  \n",
      " |  __dict__\n",
      " |      dictionary for instance variables (if defined)\n",
      " |  \n",
      " |  __weakref__\n",
      " |      list of weak references to the object (if defined)\n",
      "\n"
     ]
    }
   ],
   "source": [
    "help(Employee)"
   ]
  },
  {
   "cell_type": "markdown",
   "metadata": {},
   "source": [
    "# Attributes"
   ]
  },
  {
   "cell_type": "markdown",
   "metadata": {},
   "source": [
    "**Constructor** :A better way of passing attributes."
   ]
  },
  {
   "cell_type": "code",
   "execution_count": 22,
   "metadata": {},
   "outputs": [],
   "source": [
    "class Employee:\n",
    "\n",
    "    #constructor: THis method is by default called when a new a new instance is\n",
    "    def __init__(self,firstname,lastname,hometown,salary):\n",
    "        self.firstname=firstname\n",
    "        self.lastname=lastname\n",
    "        self.hometown=hometown\n",
    "        self.salary=salary\n",
    "\n",
    "emp1=Employee('Ganesh','Kollipara','Guntur',35000)\n",
    "emp2=Employee('Bharath','Reddy','ANTP',45000)\n",
    "\n"
   ]
  },
  {
   "cell_type": "code",
   "execution_count": 28,
   "metadata": {},
   "outputs": [
    {
     "data": {
      "text/plain": [
       "{'firstname': 'Bharath',\n",
       " 'lastname': 'Reddy',\n",
       " 'name': 'Bharath Reddy',\n",
       " 'hometown': 'ANTP',\n",
       " 'salary': 45000}"
      ]
     },
     "execution_count": 28,
     "metadata": {},
     "output_type": "execute_result"
    }
   ],
   "source": [
    "emp2.__dict__"
   ]
  },
  {
   "cell_type": "code",
   "execution_count": 24,
   "metadata": {},
   "outputs": [],
   "source": [
    "from typing import Union\n",
    "\n",
    "class Employee:\n",
    "\n",
    "    # Instancing attributes\n",
    "    def __init__(self,firstname,lastname,hometown,salary):\n",
    "            # VAlidation check by using ASSERT ---- Assertion Error\n",
    "    \n",
    "        assert isinstance(firstname,str),f\"firstname excepted to be a string, received{type(firstname)}\"\n",
    "        assert isinstance(lastname,str),f\"lastname excepted to be a string, received{type(lastname)}\"\n",
    "        assert isinstance(hometown,str),f\"hometown excepted to be a string, received{type(hometown)}\"\n",
    "        assert type(salary)in(int,float),f\"salary excepted to be a integer/float, received{type(salary)}\"\n",
    "\n",
    "        self.firstname=firstname\n",
    "        self.lastname=lastname\n",
    "        self.name= self.firstname+' '+self.lastname\n",
    "        self.hometown=hometown\n",
    "        self.salary=salary\n",
    "\n",
    "\n",
    "emp1=Employee('Ganesh','Kollipara','Guntur',35000)\n",
    "emp2=Employee('Bharath','Reddy','ANTP',45000)\n"
   ]
  },
  {
   "cell_type": "code",
   "execution_count": 29,
   "metadata": {},
   "outputs": [],
   "source": [
    "from typing import Union\n",
    "\n",
    "class Employee:\n",
    "\n",
    "    \n",
    "    def __init__(self,firstname:str,lastname:str,hometown:str,salary:Union[int,float])-> None:\n",
    "            # VAlidation check by using ASSERT ---- Assertion Error\n",
    "    \n",
    "        assert isinstance(firstname,str),f\"firstname excepted to be a string, received{type(firstname)}\"\n",
    "        assert isinstance(lastname,str),f\"lastname excepted to be a string, received{type(lastname)}\"\n",
    "        assert isinstance(hometown,str),f\"hometown excepted to be a string, received{type(hometown)}\"\n",
    "        assert type(salary)in(int,float),f\"salary excepted to be a integer/float, received{type(salary)}\"\n",
    "\n",
    "        # Instancing attributes\n",
    "        self.firstname=firstname\n",
    "        self.lastname=lastname\n",
    "        self.name= self.firstname+' '+self.lastname\n",
    "        self.hometown=hometown\n",
    "        self.salary=salary\n",
    "    \n",
    "    def create_email_id(self):\n",
    "        self.email_id=self.name+\"@domain.com\"\n",
    "\n",
    "\n",
    "emp1=Employee('Ganesh','Kollipara','Guntur',35000)\n",
    "emp2=Employee('Bharath','Reddy','ANTP',45000)\n"
   ]
  },
  {
   "cell_type": "code",
   "execution_count": 33,
   "metadata": {},
   "outputs": [
    {
     "data": {
      "text/plain": [
       "35000"
      ]
     },
     "execution_count": 33,
     "metadata": {},
     "output_type": "execute_result"
    }
   ],
   "source": [
    "emp1.salary"
   ]
  },
  {
   "cell_type": "code",
   "execution_count": 19,
   "metadata": {},
   "outputs": [
    {
     "name": "stdout",
     "output_type": "stream",
     "text": [
      "{'firstname': 'Ganesh', 'lastname': 'Kollipara', 'name': 'Ganesh Kollipara', 'hometown': 'Guntur', 'salary': 11000.0}\n",
      "{'firstname': 'Bharath', 'lastname': 'Reddy', 'name': 'Bharath Reddy', 'hometown': 'ANTP', 'salary': 110000.00000000001}\n"
     ]
    }
   ],
   "source": [
    "from typing import Union\n",
    "\n",
    "class Employee:\n",
    "    raise_amount=1.10\n",
    "\n",
    "    \n",
    "    def __init__(self,firstname:str,lastname:str,hometown:str,salary:Union[int,float])-> None:\n",
    "            # VAlidation check by using ASSERT ---- Assertion Error\n",
    "    \n",
    "        assert isinstance(firstname,str),f\"firstname excepted to be a string, received{type(firstname)}\"\n",
    "        assert isinstance(lastname,str),f\"lastname excepted to be a string, received{type(lastname)}\"\n",
    "        assert isinstance(hometown,str),f\"hometown excepted to be a string, received{type(hometown)}\"\n",
    "        assert type(salary)in(int,float),f\"salary excepted to be a integer/float, received{type(salary)}\"\n",
    "\n",
    "        # Instancing attributes\n",
    "        self.firstname=firstname\n",
    "        self.lastname=lastname\n",
    "        self.name= self.firstname+' '+self.lastname\n",
    "        self.hometown=hometown\n",
    "        self.salary=salary\n",
    "    \n",
    "    def create_email_id(self):\n",
    "        self.email_id=self.name+\"@domain.com\"\n",
    "\n",
    "    def revise_salary(self):\n",
    "        self.salary = self.salary * Employee.raise_amount   #By using the **class name** we are calling **class variable**....\n",
    "\n",
    "        #self.salary = self.salary * self.raise_amount\n",
    "\n",
    "\n",
    "emp1=Employee('Ganesh','Kollipara','Guntur',10000)\n",
    "emp2=Employee('Bharath','Reddy','ANTP',100000)\n",
    "emp1.revise_salary()\n",
    "emp2.revise_salary()\n",
    "print(emp1.__dict__)\n",
    "print(emp2.__dict__)\n"
   ]
  },
  {
   "cell_type": "code",
   "execution_count": 34,
   "metadata": {},
   "outputs": [
    {
     "name": "stdout",
     "output_type": "stream",
     "text": [
      "{'firstname': 'Bharath', 'lastname': 'Reddy', 'name': 'Bharath Reddy', 'hometown': 'ANTP', 'salary': 110000.00000000001, 'raise_amount': 1.2}\n"
     ]
    }
   ],
   "source": [
    "emp2.raise_amount=1.2\n",
    "print(emp2.__dict__)\n"
   ]
  },
  {
   "cell_type": "code",
   "execution_count": 36,
   "metadata": {},
   "outputs": [
    {
     "name": "stdout",
     "output_type": "stream",
     "text": [
      "{'firstname': 'Bharath', 'lastname': 'Reddy', 'name': 'Bharath Reddy', 'hometown': 'ANTP', 'salary': 158400.0, 'raise_amount': 1.2}\n"
     ]
    }
   ],
   "source": [
    "emp2.revise_salary()\n",
    "print(emp2.__dict__)"
   ]
  },
  {
   "cell_type": "markdown",
   "metadata": {},
   "source": [
    "# Types Of Attributes:\n",
    "\n",
    "        * Class Attribute\n",
    "        * Instance Attribute"
   ]
  },
  {
   "cell_type": "markdown",
   "metadata": {},
   "source": [
    "# Types of Methods\n",
    "\n",
    "    * Instance method:\n",
    "             which takes instance as first element by **default(self)**\n",
    "\n",
    "    * Class method:\n",
    "            @classsmethod ---decorator\n",
    "            def functon(cls,parameter)\n",
    "\n",
    "    * Static method:\n",
    "            It is not mandatory , It is optional\n",
    "\n",
    "            @staticmethod\n",
    "            def function(parameter)"
   ]
  },
  {
   "cell_type": "code",
   "execution_count": 26,
   "metadata": {},
   "outputs": [
    {
     "name": "stdout",
     "output_type": "stream",
     "text": [
      "{'firstname': 'Ganesh', 'lastname': 'Kollipara', 'name': 'Ganesh Kollipara', 'hometown': 'Guntur', 'salary': 11000.0}\n",
      "{'firstname': 'Bharath', 'lastname': 'Reddy', 'name': 'Bharath Reddy', 'hometown': 'ANTP', 'salary': 110000.00000000001}\n",
      " Here is 2 of water\n"
     ]
    }
   ],
   "source": [
    "from typing import Union\n",
    "\n",
    "class Employee:\n",
    "    raise_amount=1.10\n",
    "\n",
    "    # Instance Method\n",
    "    def __init__(self,firstname:str,lastname:str,hometown:str,salary:Union[int,float])-> None:\n",
    "            # VAlidation check by using ASSERT ---- Assertion Error\n",
    "    \n",
    "        assert isinstance(firstname,str),f\"firstname excepted to be a string, received{type(firstname)}\"\n",
    "        assert isinstance(lastname,str),f\"lastname excepted to be a string, received{type(lastname)}\"\n",
    "        assert isinstance(hometown,str),f\"hometown excepted to be a string, received{type(hometown)}\"\n",
    "        assert type(salary)in(int,float),f\"salary excepted to be a integer/float, received{type(salary)}\"\n",
    "\n",
    "        # Instancing attributes\n",
    "        self.firstname=firstname\n",
    "        self.lastname=lastname\n",
    "        self.name= self.firstname+' '+self.lastname\n",
    "        self.hometown=hometown\n",
    "        self.salary=salary\n",
    "    \n",
    "    def create_email_id(self):\n",
    "        self.email_id=self.name+\"@domain.com\"\n",
    "\n",
    "    def revise_salary(self):\n",
    "        #self.salary = self.salary * Employee.raise_amount   #By using the **class name** we are calling **class variable**....\n",
    "\n",
    "        self.salary = self.salary * self.raise_amount\n",
    "\n",
    "    @classmethod\n",
    "    def set_raise_amount(cls,amount):\n",
    "        cls.raise_amount=amount\n",
    "\n",
    "    @staticmethod\n",
    "    def offer_glass_water(number_of_glasses):\n",
    "        print(f\" Here is {number_of_glasses} of water\")\n",
    "\n",
    "emp1=Employee('Ganesh','Kollipara','Guntur',10000)\n",
    "emp2=Employee('Bharath','Reddy','ANTP',100000)\n",
    "emp1.revise_salary()\n",
    "emp2.revise_salary()\n",
    "print(emp1.__dict__)\n",
    "print(emp2.__dict__)\n",
    "emp1.set_raise_amount(1.5)\n",
    "emp1.offer_glass_water(2)"
   ]
  },
  {
   "cell_type": "code",
   "execution_count": 27,
   "metadata": {},
   "outputs": [
    {
     "data": {
      "text/plain": [
       "mappingproxy({'__module__': '__main__',\n",
       "              'raise_amount': 1.5,\n",
       "              '__init__': <function __main__.Employee.__init__(self, firstname: str, lastname: str, hometown: str, salary: Union[int, float]) -> None>,\n",
       "              'create_email_id': <function __main__.Employee.create_email_id(self)>,\n",
       "              'revise_salary': <function __main__.Employee.revise_salary(self)>,\n",
       "              'set_raise_amount': <classmethod at 0x7f999c048d60>,\n",
       "              'offer_glass_water': <staticmethod at 0x7f999c048d30>,\n",
       "              '__dict__': <attribute '__dict__' of 'Employee' objects>,\n",
       "              '__weakref__': <attribute '__weakref__' of 'Employee' objects>,\n",
       "              '__doc__': None})"
      ]
     },
     "execution_count": 27,
     "metadata": {},
     "output_type": "execute_result"
    }
   ],
   "source": [
    "Employee.__dict__"
   ]
  },
  {
   "cell_type": "markdown",
   "metadata": {},
   "source": [
    "# Using Classmethods as alternative constructors"
   ]
  },
  {
   "cell_type": "code",
   "execution_count": 29,
   "metadata": {},
   "outputs": [
    {
     "name": "stdout",
     "output_type": "stream",
     "text": [
      "Help on class datetime in module datetime:\n",
      "\n",
      "class datetime(date)\n",
      " |  datetime(year, month, day[, hour[, minute[, second[, microsecond[,tzinfo]]]]])\n",
      " |  \n",
      " |  The year, month and day arguments are required. tzinfo may be None, or an\n",
      " |  instance of a tzinfo subclass. The remaining arguments may be ints.\n",
      " |  \n",
      " |  Method resolution order:\n",
      " |      datetime\n",
      " |      date\n",
      " |      builtins.object\n",
      " |  \n",
      " |  Methods defined here:\n",
      " |  \n",
      " |  __add__(self, value, /)\n",
      " |      Return self+value.\n",
      " |  \n",
      " |  __eq__(self, value, /)\n",
      " |      Return self==value.\n",
      " |  \n",
      " |  __ge__(self, value, /)\n",
      " |      Return self>=value.\n",
      " |  \n",
      " |  __getattribute__(self, name, /)\n",
      " |      Return getattr(self, name).\n",
      " |  \n",
      " |  __gt__(self, value, /)\n",
      " |      Return self>value.\n",
      " |  \n",
      " |  __hash__(self, /)\n",
      " |      Return hash(self).\n",
      " |  \n",
      " |  __le__(self, value, /)\n",
      " |      Return self<=value.\n",
      " |  \n",
      " |  __lt__(self, value, /)\n",
      " |      Return self<value.\n",
      " |  \n",
      " |  __ne__(self, value, /)\n",
      " |      Return self!=value.\n",
      " |  \n",
      " |  __radd__(self, value, /)\n",
      " |      Return value+self.\n",
      " |  \n",
      " |  __reduce__(...)\n",
      " |      __reduce__() -> (cls, state)\n",
      " |  \n",
      " |  __reduce_ex__(...)\n",
      " |      __reduce_ex__(proto) -> (cls, state)\n",
      " |  \n",
      " |  __repr__(self, /)\n",
      " |      Return repr(self).\n",
      " |  \n",
      " |  __rsub__(self, value, /)\n",
      " |      Return value-self.\n",
      " |  \n",
      " |  __str__(self, /)\n",
      " |      Return str(self).\n",
      " |  \n",
      " |  __sub__(self, value, /)\n",
      " |      Return self-value.\n",
      " |  \n",
      " |  astimezone(...)\n",
      " |      tz -> convert to local time in new timezone tz\n",
      " |  \n",
      " |  ctime(...)\n",
      " |      Return ctime() style string.\n",
      " |  \n",
      " |  date(...)\n",
      " |      Return date object with same year, month and day.\n",
      " |  \n",
      " |  dst(...)\n",
      " |      Return self.tzinfo.dst(self).\n",
      " |  \n",
      " |  isoformat(...)\n",
      " |      [sep] -> string in ISO 8601 format, YYYY-MM-DDT[HH[:MM[:SS[.mmm[uuu]]]]][+HH:MM].\n",
      " |      sep is used to separate the year from the time, and defaults to 'T'.\n",
      " |      timespec specifies what components of the time to include (allowed values are 'auto', 'hours', 'minutes', 'seconds', 'milliseconds', and 'microseconds').\n",
      " |  \n",
      " |  replace(...)\n",
      " |      Return datetime with new specified fields.\n",
      " |  \n",
      " |  time(...)\n",
      " |      Return time object with same time but with tzinfo=None.\n",
      " |  \n",
      " |  timestamp(...)\n",
      " |      Return POSIX timestamp as float.\n",
      " |  \n",
      " |  timetuple(...)\n",
      " |      Return time tuple, compatible with time.localtime().\n",
      " |  \n",
      " |  timetz(...)\n",
      " |      Return time object with same time and tzinfo.\n",
      " |  \n",
      " |  tzname(...)\n",
      " |      Return self.tzinfo.tzname(self).\n",
      " |  \n",
      " |  utcoffset(...)\n",
      " |      Return self.tzinfo.utcoffset(self).\n",
      " |  \n",
      " |  utctimetuple(...)\n",
      " |      Return UTC time tuple, compatible with time.localtime().\n",
      " |  \n",
      " |  ----------------------------------------------------------------------\n",
      " |  Class methods defined here:\n",
      " |  \n",
      " |  combine(...) from builtins.type\n",
      " |      date, time -> datetime with same date and time fields\n",
      " |  \n",
      " |  fromisoformat(...) from builtins.type\n",
      " |      string -> datetime from datetime.isoformat() output\n",
      " |  \n",
      " |  fromtimestamp(...) from builtins.type\n",
      " |      timestamp[, tz] -> tz's local time from POSIX timestamp.\n",
      " |  \n",
      " |  now(tz=None) from builtins.type\n",
      " |      Returns new datetime object representing current time local to tz.\n",
      " |      \n",
      " |        tz\n",
      " |          Timezone object.\n",
      " |      \n",
      " |      If no tz is specified, uses local timezone.\n",
      " |  \n",
      " |  strptime(...) from builtins.type\n",
      " |      string, format -> new datetime parsed from a string (like time.strptime()).\n",
      " |  \n",
      " |  utcfromtimestamp(...) from builtins.type\n",
      " |      Construct a naive UTC datetime from a POSIX timestamp.\n",
      " |  \n",
      " |  utcnow(...) from builtins.type\n",
      " |      Return a new datetime representing UTC day and time.\n",
      " |  \n",
      " |  ----------------------------------------------------------------------\n",
      " |  Static methods defined here:\n",
      " |  \n",
      " |  __new__(*args, **kwargs) from builtins.type\n",
      " |      Create and return a new object.  See help(type) for accurate signature.\n",
      " |  \n",
      " |  ----------------------------------------------------------------------\n",
      " |  Data descriptors defined here:\n",
      " |  \n",
      " |  fold\n",
      " |  \n",
      " |  hour\n",
      " |  \n",
      " |  microsecond\n",
      " |  \n",
      " |  minute\n",
      " |  \n",
      " |  second\n",
      " |  \n",
      " |  tzinfo\n",
      " |  \n",
      " |  ----------------------------------------------------------------------\n",
      " |  Data and other attributes defined here:\n",
      " |  \n",
      " |  max = datetime.datetime(9999, 12, 31, 23, 59, 59, 999999)\n",
      " |  \n",
      " |  min = datetime.datetime(1, 1, 1, 0, 0)\n",
      " |  \n",
      " |  resolution = datetime.timedelta(microseconds=1)\n",
      " |  \n",
      " |  ----------------------------------------------------------------------\n",
      " |  Methods inherited from date:\n",
      " |  \n",
      " |  __format__(...)\n",
      " |      Formats self with strftime.\n",
      " |  \n",
      " |  isocalendar(...)\n",
      " |      Return a 3-tuple containing ISO year, week number, and weekday.\n",
      " |  \n",
      " |  isoweekday(...)\n",
      " |      Return the day of the week represented by the date.\n",
      " |      Monday == 1 ... Sunday == 7\n",
      " |  \n",
      " |  strftime(...)\n",
      " |      format -> strftime() style string.\n",
      " |  \n",
      " |  toordinal(...)\n",
      " |      Return proleptic Gregorian ordinal.  January 1 of year 1 is day 1.\n",
      " |  \n",
      " |  weekday(...)\n",
      " |      Return the day of the week represented by the date.\n",
      " |      Monday == 0 ... Sunday == 6\n",
      " |  \n",
      " |  ----------------------------------------------------------------------\n",
      " |  Class methods inherited from date:\n",
      " |  \n",
      " |  fromisocalendar(...) from builtins.type\n",
      " |      int, int, int -> Construct a date from the ISO year, week number and weekday.\n",
      " |      \n",
      " |      This is the inverse of the date.isocalendar() function\n",
      " |  \n",
      " |  fromordinal(...) from builtins.type\n",
      " |      int -> date corresponding to a proleptic Gregorian ordinal.\n",
      " |  \n",
      " |  today(...) from builtins.type\n",
      " |      Current date or datetime:  same as self.__class__.fromtimestamp(time.time()).\n",
      " |  \n",
      " |  ----------------------------------------------------------------------\n",
      " |  Data descriptors inherited from date:\n",
      " |  \n",
      " |  day\n",
      " |  \n",
      " |  month\n",
      " |  \n",
      " |  year\n",
      "\n"
     ]
    }
   ],
   "source": [
    "import datetime\n",
    "help(datetime.datetime)"
   ]
  },
  {
   "cell_type": "code",
   "execution_count": 54,
   "metadata": {},
   "outputs": [
    {
     "name": "stdout",
     "output_type": "stream",
     "text": [
      "{'firstname': 'Ganesh', 'lastname': 'Kollipara', 'name': 'GaneshKollipara', 'hometown': 'Guntur', 'salary': 11000.0}\n",
      "{'firstname': 'Bharath', 'lastname': 'Reddy', 'name': 'BharathReddy', 'hometown': 'ANTP', 'salary': 110000.00000000001}\n"
     ]
    }
   ],
   "source": [
    "from typing import Union\n",
    "\n",
    "class Employee:\n",
    "    raise_amount=1.10\n",
    "\n",
    "    # Instance Method\n",
    "    def __init__(self,firstname:str,lastname:str,hometown:str,salary:Union[int,float])-> None:\n",
    "            # VAlidation check by using ASSERT ---- Assertion Error\n",
    "    \n",
    "        assert isinstance(firstname,str),f\"firstname excepted to be a string, received{type(firstname)}\"\n",
    "        assert isinstance(lastname,str),f\"lastname excepted to be a string, received{type(lastname)}\"\n",
    "        assert isinstance(hometown,str),f\"hometown excepted to be a string, received{type(hometown)}\"\n",
    "        assert type(salary)in(int,float),f\"salary excepted to be a integer/float, received{type(salary)}\"\n",
    "\n",
    "        # Instancing attributes\n",
    "        self.firstname=firstname\n",
    "        self.lastname=lastname\n",
    "        self.name= self.firstname+\"\"+self.lastname\n",
    "        self.hometown=hometown\n",
    "        self.salary=salary\n",
    "    \n",
    "    def create_email_id(self):\n",
    "        self.email_id=self.name+\"@domain.com\"\n",
    "\n",
    "    def revise_salary(self):\n",
    "        #self.salary = self.salary * Employee.raise_amount   #By using the **class name** we are calling **class variable**....\n",
    "\n",
    "        self.salary = self.salary * self.raise_amount\n",
    "\n",
    "    @classmethod\n",
    "    def set_raise_amount(cls,amount):\n",
    "        cls.raise_amount=amount\n",
    "\n",
    "    @classmethod\n",
    "    def from_params_separated_with_hyphens(cls,emp_param):\n",
    "        firstname,lastname,hometown,salary = emp_param.split(\"-\")\n",
    "        salary=int(salary)\n",
    "        return cls(firstname,lastname,hometown,salary)\n",
    "    \n",
    "    @classmethod\n",
    "    def from_params_separated_with_commas(cls,emp_param):\n",
    "        firstname,lastname,hometown,salary = emp_param.split(\",\")\n",
    "        salary=int(salary)\n",
    "        return cls(firstname,lastname,hometown,salary)\n",
    "\n",
    "emp1=Employee('Ganesh','Kollipara','Guntur',10000)\n",
    "emp2=Employee('Bharath','Reddy','ANTP',100000)\n",
    "emp1.revise_salary()\n",
    "emp2.revise_salary()\n",
    "print(emp1.__dict__)\n",
    "print(emp2.__dict__)\n",
    "emp1.set_raise_amount(1.5)\n"
   ]
  },
  {
   "cell_type": "code",
   "execution_count": 55,
   "metadata": {},
   "outputs": [
    {
     "data": {
      "text/plain": [
       "'RohitBhosale@domain.com'"
      ]
     },
     "execution_count": 55,
     "metadata": {},
     "output_type": "execute_result"
    }
   ],
   "source": [
    "emp_str=\"Rohit-Bhosale-Pune-70000\"\n",
    "emp1=Employee.from_params_separated_with_hyphens(emp_str)\n",
    "emp1.create_email_id()\n",
    "emp1.email_id\n"
   ]
  },
  {
   "cell_type": "markdown",
   "metadata": {},
   "source": [
    "# Methods in python\n",
    "\n",
    "    * Public\n",
    "    * Private\n",
    "    (* Protected---There is no protected method in python)---It is notation purpose only"
   ]
  },
  {
   "cell_type": "code",
   "execution_count": 7,
   "metadata": {},
   "outputs": [
    {
     "name": "stdout",
     "output_type": "stream",
     "text": [
      "100000\n"
     ]
    }
   ],
   "source": [
    "class Finance:\n",
    "    def __init__(self):\n",
    "        self.__revenue=100000    #private data member\n",
    "        #self._constant=500     #protected member\n",
    "        self.no_of_sales=150    # public member\n",
    "\n",
    "    def show_revenue(self):\n",
    "        print(self.__revenue)\n",
    "\n",
    "f1=Finance()\n",
    "f1.show_revenue()\n",
    "\n",
    "class HR:\n",
    "    def __init__(self):\n",
    "        #print(f1._constant)\n",
    "        print(f1.__revenue)\n",
    "\n",
    "# h1= HR()"
   ]
  },
  {
   "cell_type": "code",
   "execution_count": 9,
   "metadata": {},
   "outputs": [
    {
     "data": {
      "text/plain": [
       "{'_Finance__revenue': 100000, 'no_of_sales': 150, '_HR__revenue': 50}"
      ]
     },
     "execution_count": 9,
     "metadata": {},
     "output_type": "execute_result"
    }
   ],
   "source": [
    "class Finance:\n",
    "    def __init__(self):\n",
    "        self.__revenue=100000    #private data member\n",
    "        \n",
    "        self.no_of_sales=150    # public member\n",
    "\n",
    "    def show_revenue(self):\n",
    "        print(self.__revenue)\n",
    "\n",
    "f1=Finance()\n",
    "\n",
    "\n",
    "class HR:\n",
    "    def __init__(self):\n",
    "        \n",
    "        f1.__revenue=50\n",
    "\n",
    "h1= HR()\n",
    "f1.__dict__"
   ]
  },
  {
   "cell_type": "code",
   "execution_count": 10,
   "metadata": {},
   "outputs": [
    {
     "name": "stdout",
     "output_type": "stream",
     "text": [
      "100000\n"
     ]
    }
   ],
   "source": [
    "f1.show_revenue()"
   ]
  },
  {
   "cell_type": "markdown",
   "metadata": {},
   "source": [
    "# Inheritance:\n",
    "\n",
    "        1. Single Inheritance\n",
    "        2. Multiple Inheritance\n",
    "        3. Muli-level Inheritance\n",
    "        4. Hierarchical inheritance\n",
    "        5. Hybrid Inheritance\n",
    "\n",
    "\n",
    "## MRO--(Method Resolution Order)"
   ]
  },
  {
   "cell_type": "markdown",
   "metadata": {},
   "source": [
    "# super()\n",
    "\n",
    "    * In child class we can refer "
   ]
  },
  {
   "cell_type": "code",
   "execution_count": 13,
   "metadata": {},
   "outputs": [
    {
     "name": "stdout",
     "output_type": "stream",
     "text": [
      "john works at Google\n"
     ]
    }
   ],
   "source": [
    "class Company:\n",
    "    def company_name(self):\n",
    "        return 'Google'\n",
    "    \n",
    "class Family:\n",
    "    ...\n",
    "\n",
    "class Employee(Family,Company):\n",
    "    def __init__(self,name,salary):\n",
    "        self.name=name\n",
    "\n",
    "    def info(self):\n",
    "\n",
    "        # calling the superclass method using super() function\n",
    "\n",
    "        c_name =super().company_name()\n",
    "        print(f\"{self.name} works at {c_name}\")\n",
    "\n",
    "# creating object of child class\n",
    "emp=Employee(\"john\",50000)\n",
    "emp.info()"
   ]
  },
  {
   "cell_type": "code",
   "execution_count": 16,
   "metadata": {},
   "outputs": [
    {
     "data": {
      "text/plain": [
       "(500, 60000)"
      ]
     },
     "execution_count": 16,
     "metadata": {},
     "output_type": "execute_result"
    }
   ],
   "source": [
    "# overloading  + operator for custom objects\n",
    "class Book:\n",
    "    def __init__(self,pages):\n",
    "        self.pages=pages\n",
    "\n",
    "    #overloading + operator with Magic method\n",
    "    def __add__(self,other):\n",
    "        return self.pages + other.pages\n",
    "    def __mul__(self,other):\n",
    "        return self.pages * other.pages\n",
    "    \n",
    "# creating two objects\n",
    "\n",
    "b1=Book(200)\n",
    "b2=Book(300)\n",
    "\n",
    "b1+b2,b1*b2"
   ]
  },
  {
   "cell_type": "code",
   "execution_count": 2,
   "metadata": {},
   "outputs": [
    {
     "data": {
      "text/plain": [
       "200"
      ]
     },
     "execution_count": 2,
     "metadata": {},
     "output_type": "execute_result"
    }
   ],
   "source": [
    "# overloading  + operator for custom objects\n",
    "class Book:\n",
    "    def __init__(self,pages):\n",
    "        self.pages=pages\n",
    "\n",
    "    #overloading + operator with Magic method\n",
    "    def __add__(self,other):\n",
    "        return self.pages + other.pages\n",
    "    def __mul__(self,other):\n",
    "        return self.pages * other.pages\n",
    "    \n",
    "    def __len__(self):\n",
    "        return self.pages\n",
    "    \n",
    "# creating two objects\n",
    "\n",
    "b1=Book(200)\n",
    "b2=Book(300)\n",
    "b3=Book(400)\n",
    "b1+b2,b1*b2\n",
    "len(b1)"
   ]
  },
  {
   "cell_type": "code",
   "execution_count": 27,
   "metadata": {},
   "outputs": [
    {
     "name": "stdout",
     "output_type": "stream",
     "text": [
      "This is a car with 90 mph\n"
     ]
    }
   ],
   "source": [
    "class Car:\n",
    "    def __init__(self,max_speed,unit):\n",
    "        self.max_speed=max_speed\n",
    "        self.unit=unit\n",
    "\n",
    "    def __str__(self):\n",
    "        return f\"This is a car with {self.max_speed} {self.unit}\"\n",
    "    \n",
    "c=Car(90,'mph')\n",
    "print(c)"
   ]
  },
  {
   "cell_type": "code",
   "execution_count": 31,
   "metadata": {},
   "outputs": [
    {
     "name": "stdout",
     "output_type": "stream",
     "text": [
      "new....\n",
      "init....\n"
     ]
    }
   ],
   "source": [
    "class Car:\n",
    "    def __init__(self):\n",
    "        print(\"init....\")\n",
    "    \n",
    "    def __new__(cls):       ## here __new__ is the constructor that's why it will be executed first\n",
    "        print(\"new....\")\n",
    "\n",
    "        return super().__new__(cls)     ##After the above then it will prints the __init__\n",
    "\n",
    "c=Car()"
   ]
  },
  {
   "cell_type": "markdown",
   "metadata": {},
   "source": [
    "# Polymorphism with Class Methods\n",
    "    \n",
    "    *Python allows "
   ]
  },
  {
   "cell_type": "code",
   "execution_count": null,
   "metadata": {},
   "outputs": [],
   "source": []
  }
 ],
 "metadata": {
  "kernelspec": {
   "display_name": "Python 3",
   "language": "python",
   "name": "python3"
  },
  "language_info": {
   "codemirror_mode": {
    "name": "ipython",
    "version": 3
   },
   "file_extension": ".py",
   "mimetype": "text/x-python",
   "name": "python",
   "nbconvert_exporter": "python",
   "pygments_lexer": "ipython3",
   "version": "3.8.5"
  }
 },
 "nbformat": 4,
 "nbformat_minor": 2
}
