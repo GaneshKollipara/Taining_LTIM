{
 "cells": [
  {
   "cell_type": "markdown",
   "metadata": {
    "colab_type": "text",
    "id": "-ccPZ6zzADxJ"
   },
   "source": [
    "# INTRODUCTION TO PYTHON FINAL EXAM"
   ]
  },
  {
   "cell_type": "markdown",
   "metadata": {
    "colab_type": "text",
    "id": "wLaIc8e2ADxK"
   },
   "source": [
    "# SECTION A: 20 MARKS"
   ]
  },
  {
   "cell_type": "markdown",
   "metadata": {
    "colab_type": "text",
    "id": "No7nIbnLADxL"
   },
   "source": [
    " _________________"
   ]
  },
  {
   "cell_type": "markdown",
   "metadata": {
    "colab_type": "text",
    "id": "_faIUl_RADxL"
   },
   "source": [
    "### 1. A string is said to be complete if it contains all the characters from a to z. Given a string, check if it is complete or not.   ( 5 marks)                                                                                  \n",
    "\n",
    "**Input:** The first line of the input contains the number of strings N. It is followed by N lines each contains a single string.\n",
    "\n",
    "**Output:** For each test case print \"YES\" if the string is complete, else print \"NO\"\n",
    "\n",
    "Constraints\n",
    "1 <= N <= 10\n",
    "\n",
    "The length of the string is at max 100 and the string contains only the characters a to z\n",
    "\n",
    "\n",
    "**SAMPLE INPUT: 3**\n",
    "\n",
    "wyyga\n",
    "\n",
    "qwertyuioplkjhgfdsazxcvbnm\n",
    "\n",
    "ejuxggfsts\n",
    "\n",
    "\n",
    "\n",
    "**SAMPLE OUTPUT**\n",
    "\n",
    "NO\n",
    "\n",
    "YES\n",
    "\n",
    "NO\n"
   ]
  },
  {
   "cell_type": "code",
   "execution_count": null,
   "metadata": {
    "colab": {},
    "colab_type": "code",
    "id": "gM2Zjd-WADxM"
   },
   "outputs": [],
   "source": []
  },
  {
   "cell_type": "markdown",
   "metadata": {
    "colab_type": "text",
    "id": "62rOsvuvADxQ"
   },
   "source": [
    "### 2. Write a Python program to build a numeric converter. The program will take integer from the user and convert it into binary, octal , hexadecimal, float , complex format. (5 marks)\n"
   ]
  },
  {
   "cell_type": "markdown",
   "metadata": {
    "colab_type": "text",
    "id": "YCUGcX7lADxR"
   },
   "source": [
    "**SAMPLE INPUT AND OUTPUT:**\n",
    "    \n",
    "    \n",
    "Enter a number                                123\n",
    "\n",
    "The binary of the number is                   0b1111011\n",
    "\n",
    "The octal of the number is                    0o173\n",
    "\n",
    "The hexadecimal of the number is              0x7b\n",
    "\n",
    "The float of the numbers is                   123.0\n",
    "\n",
    "The complex of the number is                  123+0j)\n"
   ]
  },
  {
   "cell_type": "code",
   "execution_count": null,
   "metadata": {
    "colab": {},
    "colab_type": "code",
    "id": "j1Uv6mo4ADxS"
   },
   "outputs": [],
   "source": []
  },
  {
   "cell_type": "markdown",
   "metadata": {
    "colab_type": "text",
    "id": "tSe38BvBAKn7"
   },
   "source": [
    "### 3. Design an air traffic control unit. The runway should be either free or busy, Each plane should request for landing if the plane is given permission for landing the runway should be changed to busy and no plane should be given access to that runway.                                                         (5 marks)\n",
    "1.\tMake a list of free runways\n",
    "\n",
    "free_run_ways = [3,4,5]\n",
    "\n",
    "2.\tMake a list of busy runways.\n",
    "\n",
    "busy_run_ways = [1,2]\n",
    "\n",
    "3.\twhen pilot requests for landing give him runway from free runway and\n",
    "\n",
    "remove it from free and add to busy.\n",
    "\n",
    "The runway has given: 4\n",
    "\n",
    "free_run_ways = [3,5]\n",
    "\n",
    "busy_run_ways = [1,2,4]\n",
    "\n",
    "\n",
    "4.\tIf the busy runway is given raise warning.\n",
    "\n",
    "WARNING run way busy\n",
    "\n",
    "5.\tOn landing remove runway from busy and add to free\n",
    "\n",
    "Landed: YES\n"
   ]
  },
  {
   "cell_type": "code",
   "execution_count": null,
   "metadata": {
    "colab": {},
    "colab_type": "code",
    "id": "toKLzL8PAlA5"
   },
   "outputs": [],
   "source": []
  },
  {
   "cell_type": "markdown",
   "metadata": {
    "colab_type": "text",
    "id": "25gvu3BE4Wmf"
   },
   "source": [
    "### 4. Suppose the cover price of the book ‘Steve Jobs: The Life, Lessons & Rules for Success’ is          49.65, Harvard bookstores get a 35 percent discount from the publisher \" Createspace Independent Pub”. Shipping costs are 4.65 for the first copy and 78 cents for each additional copy from the publisher. What is the total wholesale cost for 60, 100 and 150 copies? (5 MARKS)\n",
    "\n",
    "1.        Create a list to store the cover price and also,\n",
    "\n",
    "2.        Create a user input that takes the total wholesale \n",
    "cost for 60, 100 and 150 copies cost separately.\n",
    "\n",
    "3.        Define a function that will display the shipping cost.\n",
    "\n",
    "4.        Create another function to return the discount prices \n",
    "and also wholesale costs.\n",
    "\n",
    "5.        Display the cost of a number of books bought and wholesale costs.\n"
   ]
  },
  {
   "cell_type": "code",
   "execution_count": null,
   "metadata": {
    "colab": {},
    "colab_type": "code",
    "id": "NmO0qgNMAiNG"
   },
   "outputs": [],
   "source": []
  },
  {
   "cell_type": "markdown",
   "metadata": {
    "colab_type": "text",
    "id": "ZaBzLpl7ADxV"
   },
   "source": [
    "# SECTION B: 20 MARKS"
   ]
  },
  {
   "cell_type": "markdown",
   "metadata": {
    "colab_type": "text",
    "id": "q_SyWMWnADxV"
   },
   "source": [
    "---------------------"
   ]
  },
  {
   "cell_type": "markdown",
   "metadata": {
    "colab_type": "text",
    "id": "4Nspzr6VADxW"
   },
   "source": [
    "### 5. Write a Python program to find the runner up of a sports competition. A running race is organised. The number of participants is asked to the user. The participants time between the start line and end line is noted in a list. The python code should announce the score of the runner up. (10 marks)"
   ]
  },
  {
   "cell_type": "markdown",
   "metadata": {
    "colab_type": "text",
    "id": "h8_bChxDADxW"
   },
   "source": [
    "**SAMPLE INPUT AND OUTPUT:**\n",
    "\n",
    "How many people are participating in the running race?3\n",
    "\n",
    "Enter the time taken by the participants to complete the race in minutes 12 34 15\n",
    "\n",
    "The runner up time is 15\n"
   ]
  },
  {
   "cell_type": "code",
   "execution_count": null,
   "metadata": {
    "colab": {},
    "colab_type": "code",
    "id": "Ox-ohsn5ADxX"
   },
   "outputs": [],
   "source": []
  },
  {
   "cell_type": "markdown",
   "metadata": {
    "colab_type": "text",
    "id": "fUkvsb8AADxb"
   },
   "source": [
    "### 6. Write a Python program to check the validity of a debit card.\n",
    "\n",
    "a) Verify and ensure that the length of the debit card is 14.( 2marks)\n",
    "\n",
    "b) Verify that the year printed on the debit card should be either 2021 or greater than 2021. If the year is less than 2021, user should get a message that the card expired.(3 marks)\n",
    "\n",
    "c)Verify that the month number printed in the card should be between 1 and 12. Any number less than 1 and any number greater than 12 should be invalid.(3 marks)\n",
    "\n",
    "d) Enter the CVV number printed on the debit card and ensure that the length is neither less than 3 nor greater than 3.(2 marks)\n",
    "\n",
    "     \n"
   ]
  },
  {
   "cell_type": "raw",
   "metadata": {
    "colab_type": "text",
    "id": "cpiUa9kvADxc"
   },
   "source": [
    "**SAMPLE INPUT AND OUTPUT:**\n",
    "\n",
    "Enter the debit card number12345678901234\n",
    "The length of the card is valid\n",
    "Please enter the year that is printed on the card2021\n",
    "your card is valid\n",
    "Enter the month that is printed on the card12\n",
    "The month is valid\n",
    "Enter the cvv number printed on the card123\n",
    "The CVV number is valid\n",
    "The card is valid you can use it\n"
   ]
  },
  {
   "cell_type": "code",
   "execution_count": null,
   "metadata": {
    "colab": {},
    "colab_type": "code",
    "id": "HpNSH5nJADxc"
   },
   "outputs": [],
   "source": []
  },
  {
   "cell_type": "markdown",
   "metadata": {
    "colab_type": "text",
    "id": "gMMmnLPaADxf"
   },
   "source": [
    "# SECTION C: 30 MARKS"
   ]
  },
  {
   "cell_type": "markdown",
   "metadata": {
    "colab_type": "text",
    "id": "A6mhMxGpADxf"
   },
   "source": [
    " _________________"
   ]
  },
  {
   "cell_type": "markdown",
   "metadata": {
    "colab_type": "text",
    "id": "Lyn4qPMXADxg"
   },
   "source": [
    "## 7. Write a program that lets the user play Rock-Paper-Scissors against the computer. \n",
    "\n",
    "\n",
    "1. There should be five rounds,in every round user will get a chance to pick one item from [rock,paper,scissor] and computer will randomly select one. \n",
    "2. Depending upon the selection either one of the player will get a point as per the rules or it will be draw if both the items are same.\n",
    "3. In every round, player's choice and their current score should be updated and displayed. \n",
    "4. After those five rounds, your program should print out who won and lost or that there is a tie. (15 Marks)\n",
    "\n",
    "        **Rules for the Game:**\n",
    "        1. Scissors beats Paper\n",
    "        2. Rock beats Scissors\n",
    "        3. Paper beats Rock\n",
    "\n",
    "\n"
   ]
  },
  {
   "cell_type": "markdown",
   "metadata": {
    "colab_type": "text",
    "id": "oa55HgS8ADxh"
   },
   "source": [
    "**SAMPLE INPUT AND OUTPUT:**\n",
    "\n",
    "\n",
    "---------------------Round 1----------------------------\n",
    "\n",
    "Enter your choice : paper\n",
    "\n",
    "your choice :  paper\n",
    "\n",
    "Computer's choice:  paper\n",
    "\n",
    "Scoreboard : Your score 0 , computer's score 0 \n",
    "\n",
    "---------------------Round 2----------------------------\n",
    "\n",
    "Enter your choice : paper\n",
    "\n",
    "your choice :  paper\n",
    "\n",
    "Computer's choice:  scissor\n",
    "\n",
    "Scoreboard : Your score 0 , computer's score 1 \n",
    "\n",
    "---------------------Round 3----------------------------\n",
    "\n",
    "Enter your choice : rock\n",
    "\n",
    "your choice :  rock\n",
    "\n",
    "Computer's choice:  scissor\n",
    "\n",
    "Scoreboard : Your score 1 , computer's score 1 \n",
    "\n",
    "---------------------Round 4----------------------------\n",
    "\n",
    "Enter your choice : rock\n",
    "\n",
    "\n",
    "your choice :  rock\n",
    "\n",
    "Computer's choice:  scissor\n",
    "\n",
    "Scoreboard : Your score 2 , computer's score 1 \n",
    "\n",
    "---------------------Round 5----------------------------\n",
    "\n",
    "Enter your choice : rock\n",
    "\n",
    "your choice :  rock\n",
    "\n",
    "Computer's choice:  paper\n",
    "\n",
    "Scoreboard : Your score 2 , computer's score 1 \n",
    "\n",
    "Result : Congratulations!!! You won!!!\n",
    "\n"
   ]
  },
  {
   "cell_type": "code",
   "execution_count": null,
   "metadata": {
    "colab": {},
    "colab_type": "code",
    "id": "RHG2mH_7ADxh"
   },
   "outputs": [],
   "source": []
  },
  {
   "cell_type": "markdown",
   "metadata": {
    "colab_type": "text",
    "id": "ALdQlzVXADxj"
   },
   "source": [
    "## 8. Ask the user to enter 10 test scores. Write five different functions to do the following: (15 Marks)\n",
    "\n",
    "(a) Print out the highest and lowest scores.\n",
    "\n",
    "(b) Print out the average of the scores.\n",
    "\n",
    "(c) Print out the second largest score.\n",
    "\n",
    "(d) If any of the scores is greater than 100, then after all the scores \n",
    "have been entered, print\n",
    "a message warning the user that a value over 100 has been entered.\n",
    "\n",
    "(e) Drop the two lowest scores and print out the average of the rest of them.\n",
    "\n"
   ]
  },
  {
   "cell_type": "markdown",
   "metadata": {
    "colab_type": "text",
    "id": "0rPqFPbGADxk"
   },
   "source": [
    "**SAMPLE INPUT AND OUTPUT:**\n",
    "    \n",
    "Enter your score : 123\n",
    "\n",
    "Enter your score : 1234\n",
    "\n",
    "Enter your score : 1234\n",
    "\n",
    "Enter your score : 1234\n",
    "\n",
    "Enter your score : 543\n",
    "\n",
    "Enter your score : 543\n",
    "\n",
    "Enter your score : 7654\n",
    "\n",
    "Enter your score : 23456\n",
    "\n",
    "Enter your score : 8765\n",
    "\n",
    "Enter your score : 34567\n",
    "\n",
    "Highest value :  34567\n",
    "\n",
    "Lowest value :  123\n",
    "\n",
    "Average value :  7935.3\n",
    "\n",
    "Second highest is :  23456\n",
    "\n",
    "You have entered  1 th value more than 100\n",
    "\n",
    "You have entered  2 th value more than 100\n",
    "\n",
    "You have entered  3 th value more than 100\n",
    "\n",
    "You have entered  4 th value more than 100\n",
    "\n",
    "You have entered  5 th value more than 100\n",
    "\n",
    "You have entered  6 th value more than 100\n",
    "\n",
    "You have entered  7 th value more than 100\n",
    "\n",
    "\n",
    "You have entered  8 th value more than 100\n",
    "\n",
    "You have entered  9 th value more than 100\n",
    "\n",
    "You have entered  10 th value more than 100\n",
    "\n",
    "Average after dropping lowest score is  8803.333333333334\n",
    "\n",
    "\n"
   ]
  },
  {
   "cell_type": "code",
   "execution_count": null,
   "metadata": {
    "colab": {},
    "colab_type": "code",
    "id": "BurFXVleADxk"
   },
   "outputs": [],
   "source": []
  }
 ],
 "metadata": {
  "colab": {
   "collapsed_sections": [],
   "name": "ITP_FINAL_EXAM_SET_1_PAPER.ipynb",
   "provenance": []
  },
  "kernelspec": {
   "display_name": "Python 3",
   "language": "python",
   "name": "python3"
  },
  "language_info": {
   "codemirror_mode": {
    "name": "ipython",
    "version": 3
   },
   "file_extension": ".py",
   "mimetype": "text/x-python",
   "name": "python",
   "nbconvert_exporter": "python",
   "pygments_lexer": "ipython3",
   "version": "3.7.4"
  }
 },
 "nbformat": 4,
 "nbformat_minor": 1
}
