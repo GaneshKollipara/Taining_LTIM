{
 "cells": [
  {
   "cell_type": "markdown",
   "metadata": {
    "colab_type": "text",
    "id": "9wmI-_zNqHJU"
   },
   "source": [
    "-----------------\n",
    "# SECTION A: 20 MARKS\n",
    "--------------"
   ]
  },
  {
   "cell_type": "markdown",
   "metadata": {},
   "source": [
    "### 1. Create the sigmoid function using numpy. (4 Marks)\n",
    "\n",
    "**Instructions**: `x` a real number, a vector, or a matrix. \n",
    "$$ \\text{For } x \\in \\mathbb{R}^n \\text{,     } sigmoid(x) = sigmoid\\begin{pmatrix}\n",
    "    x_1  \\\\\n",
    "    x_2  \\\\\n",
    "    ...  \\\\\n",
    "    x_n  \\\\\n",
    "\\end{pmatrix} = \\begin{pmatrix}\n",
    "    \\frac{1}{1+e^{-x_1}}  \\\\\n",
    "    \\frac{1}{1+e^{-x_2}}  \\\\\n",
    "    ...  \\\\\n",
    "    \\frac{1}{1+e^{-x_n}}  \\\\\n",
    "\\end{pmatrix}\\ $$\n",
    "\n",
    "**Expected Output**: \n",
    "<table>\n",
    "    <tr> \n",
    "        <td> **sigmoid([2, 5, 6])**</td> \n",
    "        <td> array([0.88079708, 0.99330715, 0.99752738]) </td> \n",
    "    </tr>\n",
    "</table> \n"
   ]
  },
  {
   "cell_type": "code",
   "execution_count": null,
   "metadata": {},
   "outputs": [],
   "source": []
  },
  {
   "cell_type": "markdown",
   "metadata": {},
   "source": [
    "### 2. Using below array (6 Marks)\n",
    "\n",
    "a =np.array([3,11,3,3,0,1,14,4,4,5,5,10, 22, -2, -1, 0, -16, -13, -17])\n",
    "\n",
    "A. How many even positive, positive and negative numbers are there in a given array? (2 Marks)\n",
    "\n",
    "B. Add 5 to each data point, how many positive numbers would there be in a given array? (1 Mark)\n",
    "\n",
    "C. If you square each number, what would the new mean and standard deviation be? (1 marks)\n",
    "\n",
    "D. Find all the unique elements of the array using numpy. (2 Marks)\n"
   ]
  },
  {
   "cell_type": "code",
   "execution_count": null,
   "metadata": {},
   "outputs": [],
   "source": []
  },
  {
   "cell_type": "markdown",
   "metadata": {},
   "source": [
    "### 3. Using below datafame answer the below questions (10 marks)"
   ]
  },
  {
   "cell_type": "markdown",
   "metadata": {},
   "source": [
    "raw_data_1 = {\n",
    "        \n",
    "        'subject_id': ['1', '2', '3', '4', '5'],\n",
    "        \n",
    "        'first_name': ['Rani', 'anad', 'akil', 'rocky', 'pavan'], \n",
    "        \n",
    "        'last_name': ['k', 'c', 'Ali', 'b', 'c']}\n",
    "\n",
    "raw_data_2 = {\n",
    "        \n",
    "        'subject_id': ['3', '7', '8', '9', '1'],\n",
    "        \n",
    "        'first_name': ['bavin', 'navin', 'kavin', 'ravi', 'chandu'], \n",
    "        \n",
    "        'last_name': ['k', 'c', 'y', 'z', 'n']}\n",
    "\n",
    "raw_data_3 = {\n",
    "        \n",
    "        'subject_id': ['1', '2', '3', '4', '5', '7', '8', '9', '10', '11'],\n",
    "        \n",
    "        'test_id': [11, 35, 45, 51, 66, 74, 15, 11, 71, 76]}\n",
    "        \n",
    "        \n",
    "A. Create 3 data frames based on the above raw data (2 mark)\n",
    "\n",
    "B. Assign each dataframe names as dataset1, dataset2, dataset3 respectively(2 mark)\n",
    "\n",
    "C. Concatenate the dataset1, dataset2 dataframes along rows and along columns.(2 mark)\n",
    "\n",
    "D. Merge dataset1 and dataset2 on the basis of common subject id (2 Marks)\n",
    "\n",
    "E. Merge all values in dataset1 and dataset2, on the basis of subject id. Display common and uncommon records of both datasets(2 marks)\n"
   ]
  },
  {
   "cell_type": "code",
   "execution_count": null,
   "metadata": {},
   "outputs": [],
   "source": []
  },
  {
   "cell_type": "markdown",
   "metadata": {
    "colab_type": "text",
    "id": "5TiQy07cqHJt"
   },
   "source": [
    "---------------\n",
    "# SECTION B: 20 MARKS\n",
    "------------"
   ]
  },
  {
   "cell_type": "markdown",
   "metadata": {},
   "source": [
    "### Data Set Information: "
   ]
  },
  {
   "cell_type": "markdown",
   "metadata": {},
   "source": [
    "to understand the essentials of Chipotle's order data: how many orders are being made, the average price per order, how many different ingredients are used, etc."
   ]
  },
  {
   "cell_type": "code",
   "execution_count": 167,
   "metadata": {},
   "outputs": [],
   "source": [
    "# Kindly change the below cells from markdown to code and execute it "
   ]
  },
  {
   "cell_type": "markdown",
   "metadata": {},
   "source": [
    "import pandas as pd\n",
    "\n",
    "import csv\n",
    "\n",
    "with open(\"dataset.csv\",\"r\")as file:\n",
    "    \n",
    "    reader=csv.reader(file)\n",
    "\n",
    "df=pd.read_csv(\"dataset.csv\")\n",
    "\n",
    "df.head()\n"
   ]
  },
  {
   "cell_type": "markdown",
   "metadata": {},
   "source": [
    "### 4. Answer the following questions (6 Marks)\n",
    "\n",
    "A. Display mean,median and standard deviation  of all available columns in the dataset(3 marks)\n",
    "\n",
    "B. Display  correlation between columns in a dataset(1 marks)\n",
    "\n",
    "C. Display counts of non-null values in each the dataset column(1 mark)\n",
    "\n",
    "D. Display the highest and lowest value in each column (1 marks)\n"
   ]
  },
  {
   "cell_type": "code",
   "execution_count": null,
   "metadata": {},
   "outputs": [],
   "source": []
  },
  {
   "cell_type": "markdown",
   "metadata": {},
   "source": [
    "### 5. Answer the following questions (14 Marks)\n",
    "\n",
    "A. Which was the most-ordered item and What is the quantity ordered?(1 mark)\n",
    "\n",
    "B. What was the most ordered item in the choice_description column? (1 mark)\n",
    "\n",
    "C. Create a lambda function and change the type of item price (2 marks)\n",
    "\n",
    "D. How much was the revenue for the period in the dataset? (2 marks)\n",
    "\n",
    "E. What is the average revenue amount per order? (2 marks)\n",
    "\n",
    "F. What was the quantity of the most expensive item ordered? (2 marks)\n",
    "\n",
    "G.How many times was a Veggie Salad Bowl ordered? (2 mark)\n",
    "\n",
    "H.How many times did someone order more than one Canned Soda?(2 marks)\n"
   ]
  },
  {
   "cell_type": "markdown",
   "metadata": {
    "colab_type": "text",
    "id": "qRH1S0TkqHJ4"
   },
   "source": [
    "------------\n",
    "# SECTION C: 30 MARKS\n",
    "\n",
    "-------------------"
   ]
  },
  {
   "cell_type": "markdown",
   "metadata": {},
   "source": [
    "### 5.  Display the histogram with the average order amount across all orders and also plot the distribution of the items per order(6 marks)?"
   ]
  },
  {
   "cell_type": "code",
   "execution_count": null,
   "metadata": {},
   "outputs": [],
   "source": []
  },
  {
   "cell_type": "markdown",
   "metadata": {},
   "source": [
    "### 6. Answer the following questions \n",
    "\n",
    "A. Find out what people like to order with every other product together in our menu . Write your observation? (Hint: Write combination of products, ordered together) (5 marks)\n",
    "\n",
    "B. How many products cost more than $11.00? (5 marks)"
   ]
  },
  {
   "cell_type": "markdown",
   "metadata": {},
   "source": [
    "### 7. Create a plot of the top 5 items bought? (5 marks)\n",
    "\n",
    "Step1: Create the plot in ascending order and set the title and labels"
   ]
  },
  {
   "cell_type": "code",
   "execution_count": null,
   "metadata": {},
   "outputs": [],
   "source": []
  },
  {
   "cell_type": "markdown",
   "metadata": {},
   "source": [
    "### 8. Create a scatterplot with the number of items orderered per order price (5 Marks)"
   ]
  },
  {
   "cell_type": "code",
   "execution_count": null,
   "metadata": {},
   "outputs": [],
   "source": []
  }
 ],
 "metadata": {
  "kernelspec": {
   "display_name": "Python 3",
   "language": "python",
   "name": "python3"
  },
  "language_info": {
   "codemirror_mode": {
    "name": "ipython",
    "version": 3
   },
   "file_extension": ".py",
   "mimetype": "text/x-python",
   "name": "python",
   "nbconvert_exporter": "python",
   "pygments_lexer": "ipython3",
   "version": "3.7.4"
  }
 },
 "nbformat": 4,
 "nbformat_minor": 4
}
